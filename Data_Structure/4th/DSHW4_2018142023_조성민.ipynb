{
 "cells": [
  {
   "cell_type": "markdown",
   "metadata": {},
   "source": [
    "> ### EEE2020-04: Data Structures & Algorithms\n",
    "\n",
    "# Assignment \\# IV: Searching & Sorting"
   ]
  },
  {
   "cell_type": "markdown",
   "metadata": {},
   "source": [
    "**<div style=\"text-align: right\"> Due date: June 3, 2019. </div>** \n",
    "**<div style=\"text-align: right\"> Please upload your file @ yscec by 9 PM. </div>** \n",
    "<div style=\"text-align: right\"> Youngmin Oh(오영민): <a href=\"mailto:youngmin.oh@yonsei.ac.kr\">youngmin.oh@yonsei.ac.kr</a> </div>\n",
    "<div style=\"text-align: right\"> Sanghoon Lee(이상훈): <a href=\"mailto:sanghslee@yonsei.ac.kr\">sanghslee@yonsei.ac.kr</a> </div>"
   ]
  },
  {
   "cell_type": "markdown",
   "metadata": {},
   "source": [
    "-------------------------------"
   ]
  },
  {
   "cell_type": "markdown",
   "metadata": {},
   "source": [
    "\n",
    "### *Assignment Instructions:*\n",
    "1. Write a program implementing a particular algorithm to solve a given problem.\n",
    "2. You can use both Korean and English for your report.\n",
    "3. **Analyze the algorithm, theoretically and empirically.** \n",
    "4. **Report your results.**  \n",
    "5. <span style=\"color:red\">**DO NOT**</span> alter **any** sanity check codes.  \n",
    "    - You must do assignments and labs yourself. \n",
    "    - <span style=\"color:red\">**Do not copy any part of your friends’ code.**</span>\n",
    "    - Otherwise, you will get a F grade."
   ]
  },
  {
   "cell_type": "markdown",
   "metadata": {},
   "source": [
    "-----------------"
   ]
  },
  {
   "cell_type": "markdown",
   "metadata": {},
   "source": [
    "<h2><span style=\"color:blue\">[2018142023] [조성민]</span> </h2>"
   ]
  },
  {
   "cell_type": "code",
   "execution_count": 1,
   "metadata": {},
   "outputs": [
    {
     "name": "stdout",
     "output_type": "stream",
     "text": [
      "This code is written at 2019-06-02 14:05:55.280252\n"
     ]
    }
   ],
   "source": [
    "import datetime\n",
    "print(\"This code is written at \" + str(datetime.datetime.now()))"
   ]
  },
  {
   "cell_type": "markdown",
   "metadata": {},
   "source": [
    "-------------------------------"
   ]
  },
  {
   "cell_type": "markdown",
   "metadata": {},
   "source": [
    "### PROBLEM I: Hashing (30 Points)"
   ]
  },
  {
   "cell_type": "markdown",
   "metadata": {},
   "source": [
    "Implement $\\texttt{ChainHashTable}$ using basic $\\texttt{List}$ .\n",
    "\n",
    "> As mentioned in our Lecture notes,  \n",
    "> (vanilla)HashTable requires <U>reshash technique</U> to prevent **collision** between items that have identical hash value(s).\n",
    ">\n",
    "> $\\texttt{ChainHashTable}$ settles collision by allowing multiple items be carried in a single slot, namely **'Chaining'**.  \n",
    "> Details can be found in our Lecture Note 10 p.47(collision), p.58-61(chaining).  \n",
    "\n",
    "Specifically, we will exploit basic $\\texttt{List}$ to implement $\\texttt{ChainHashTable}$ in this problem.  "
   ]
  },
  {
   "cell_type": "markdown",
   "metadata": {},
   "source": [
    "Inputs and outputs of $\\texttt{ChainHashTable}$ are specified as follows:  \n",
    "* <code>init()</code>: constructs an empty HashTable.\n",
    "* <code>put(key, data)</code>: puts data in HashTable according to its given key value (and returns nothing).\n",
    "* <code>hash_function(key, slot_size)</code>: returns hash value of given key value.\n",
    "* <code>get(key)</code>: returns <U>all</U> data stored in HashTable under given key value.\n",
    "* <code>\\_\\_len\\_\\_()</code>: returns total number of data in HashTable.\n",
    "* <code>\\_\\_contains\\_\\_(data)</code>: returns boolean value indicating whether 'data' is in HashTable.\n",
    "* <code>remove(data)</code>: deletes the data in HashTable (only if it exists)."
   ]
  },
  {
   "cell_type": "markdown",
   "metadata": {},
   "source": [
    "\n",
    "> Additional Instructions and Tips:\n",
    "> * When a new item is assigned to a slot, the <U>**latest**</U> item should be at the <U>**front**</U> of the list under its <code>key</code> value.\n",
    "> * We will overload <code>\\_\\_contains\\_\\_</code> method in order to use <code>in</code>.  \n",
    "> * Note that there is no 'slots' in $\\texttt{ChainHashTable}$. \n",
    "> * You may assume that <code>key</code> value is always <code>int</code> type.\n",
    "\n",
    "> For further study, refer to [HERE](https://ratsgo.github.io/data%20structure&algorithm/2017/10/25/hash/) for additional explanation about **Collision** and **Chaining**."
   ]
  },
  {
   "cell_type": "markdown",
   "metadata": {},
   "source": [
    "### Answer:"
   ]
  },
  {
   "cell_type": "code",
   "execution_count": 2,
   "metadata": {},
   "outputs": [],
   "source": [
    "class ChainHashTable:\n",
    "    def __init__(self, size=10):\n",
    "        self.size = size\n",
    "        self.table = [None]*size\n",
    "            \n",
    "    def put(self, key, data):\n",
    "        hash_value=self.hash_function(key,len(self.table))\n",
    "        if self.table[hash_value]==None:\n",
    "            self.table[hash_value]=[data]\n",
    "        else:\n",
    "            current=self.table[hash_value]\n",
    "            current.insert(0,data)   \n",
    "    def hash_function(self, key, size):\n",
    "        return key%size\n",
    "\n",
    "    def get(self, key):\n",
    "        address=self.hash_function(key,len(self.table))\n",
    "        return self.table[address]\n",
    "\n",
    "    def __len__(self):\n",
    "        cnt=[0]*len(self.table)\n",
    "        sum_n=0\n",
    "        for i in range(len(self.table)):\n",
    "            if self.table[i]!=None:\n",
    "                cnt[i]=len(self.table[i])\n",
    "        for j in cnt:\n",
    "            sum_n+=j\n",
    "        return sum_n\n",
    "    \n",
    "    def __contains__(self, data):\n",
    "        h=self.table\n",
    "        found=False\n",
    "        i=0\n",
    "        while i<len(h) and not found:\n",
    "            if h[i]==None:\n",
    "                i+=1\n",
    "            else:\n",
    "                j=0\n",
    "                while j<len(h[i]) and not found:\n",
    "                    if h[i][j]==data:\n",
    "                        found=True\n",
    "                    else:\n",
    "                        j+=1\n",
    "                i+=1\n",
    "        return found\n",
    "    \n",
    "    def remove(self, data):\n",
    "        h=self.table\n",
    "        found=False\n",
    "        i=0\n",
    "        while i<len(h) and not found:\n",
    "            if h[i]==None:\n",
    "                i+=1\n",
    "            else:\n",
    "                j=0\n",
    "                while j<len(h[i]) and not found:\n",
    "                    if h[i][j]==data:\n",
    "                        found=True\n",
    "                    else:\n",
    "                        j+=1\n",
    "                i+=1\n",
    "    \n",
    "        if found:\n",
    "            i-=1\n",
    "            current=h[i]\n",
    "            if len(current)==1:\n",
    "                current=None\n",
    "            else:\n",
    "                current.remove(data)\n",
    "        else:\n",
    "            print('Not Found')\n",
    "               \n",
    "    def __getitem__(self, key):\n",
    "        return self.get(key)\n",
    "                   \n",
    "    def __setitem__(self, key, data):\n",
    "        self.put(key, data)\n",
    "        "
   ]
  },
  {
   "cell_type": "code",
   "execution_count": 3,
   "metadata": {
    "scrolled": true
   },
   "outputs": [
    {
     "name": "stdout",
     "output_type": "stream",
     "text": [
      "-----------sanity check-------------\n",
      "\n",
      "[None, ['giraffe', 'zebra', 'horse'], ['jaguar', 'cat', 'lion'], ['maltese', 'retriever', 'dog'], ['porsche', 'car', 'jaguar', 'bentley'], None, None, ['adidas', 'sports', 'nike'], None, None]\n",
      "check hash function(9): 9\n",
      "length of h(16): 16\n",
      "True: True\n",
      "False: False\n",
      "[None, ['giraffe', 'zebra', 'horse'], ['jaguar', 'cat', 'lion'], ['retriever', 'dog'], ['porsche', 'car', 'jaguar'], None, None, ['adidas', 'sports', 'nike'], None, None]\n",
      "length of h(14): 14\n",
      "True: True\n",
      "True: True\n",
      "False: False\n"
     ]
    }
   ],
   "source": [
    "### sanity check code ###\n",
    "h = ChainHashTable()\n",
    "\n",
    "h[57] = 'nike'; h[1] = 'horse'; h[42] = 'lion'; h[121] = 'zebra'; h[51] = 'giraffe'; h[2] = 'cat'; h[152] = 'jaguar'; h[44] = 'bentley'; h[94] = 'jaguar'\n",
    "h[3] = 'dog'; h[5213] = 'retriever'; h[43] = 'maltese'; h[7] = 'sports'; h[4] = 'car'; h[64] = 'porsche'; h[97] = 'adidas'\n",
    "\n",
    "print('-----------sanity check-------------')\n",
    "print('')\n",
    "\n",
    "print(h.table)\n",
    "print('check hash function(9):',h.hash_function(19, 10))\n",
    "print('length of h(16):', len(h))\n",
    "print('True:', 'bentley' in h)\n",
    "print('False:', 'puma' in h)\n",
    "h.remove('bentley')\n",
    "h.remove('maltese')\n",
    "print(h.table)\n",
    "print('length of h(14):', len(h))\n",
    "print('True:', 'porsche' in h)\n",
    "print('True:', 'jaguar' in h)\n",
    "print('False:', 'puma' in h)"
   ]
  },
  {
   "cell_type": "markdown",
   "metadata": {},
   "source": [
    "### Description:"
   ]
  },
  {
   "cell_type": "markdown",
   "metadata": {},
   "source": [
    "우선 HashTable을 크기 10으로 하여 모든 원소가 None인 배열을 만들어준다. hash_function 함수를 통해 몇번째 배열에 원소를 넣을 것인지를 정한다. put 함수에서는 key와 data값을 입력받아 key에 해당되는 배열의 hash_value를 정하고 만약 그 자리에 원소가 None일 경우 data를 그냥 넣어주고, 그렇지 않을 경우 0번째 자리에 insert해준다. get 함수를 통해 key값에 해당하는 data값을 불러온다. __len__ 함수를 통해 존재하는 원소들의 수를 불러온다. __contains__ 함수를 통해 data 존재에 대한 유무를 확인한다. remove함수를 통해 해당 data값을 지운다. __getitem__ 함수를 통해 해당 key에 있는 data값을 불러온다. __setitem__ 함수를 통해 지정한 key값에 data값을 넣어준다."
   ]
  },
  {
   "cell_type": "markdown",
   "metadata": {},
   "source": [
    "-----------------"
   ]
  },
  {
   "cell_type": "markdown",
   "metadata": {},
   "source": [
    "### PROBLEM II: Sorting I (30 Points)"
   ]
  },
  {
   "cell_type": "markdown",
   "metadata": {},
   "source": [
    "Suppose you are now a data scientist and given $\\underline{N}$ points in a 2-D Cartesian Coordinate System from your experiment. \n",
    "<br>\n",
    "<br>\n",
    "To analyze this data, You want to SORT them in $\\texttt{ascending}$ order of 'X' coordinates.\n",
    "If there are the same 'X' coordinates points, You dicide to sort them in $\\texttt{desending}$ order of 'Y' coordinates.\n",
    "> For example, given (0,1) , (1, 2) , (-3, 5) , (0, 11)\n",
    "$\\rightarrow$ (-3, 5) , (0, 11) , (0, 1) , (1, 2)\n",
    "\n",
    "\n",
    "<br>\n",
    "<br>\n",
    "\n",
    "To this end,\n",
    "- Implement $\\texttt{(1) Bubble Sort}$ , $\\texttt{(2) Insertion Sort}$ and $\\texttt{(3) Merge Sort}$\n",
    "- Compare their $\\texttt{Complexity}$ by plotting the graphs $\\underline{Elapsed\\;time}$ versus $\\underline{N}$ \n",
    "- Discuss your results\n",
    "\n",
    "<br>\n",
    "$\\mathbf{NOTICE}$ : Do Not Use any pre-built Sorting Library. ( e.g. sorted() or numpy.sort() ) "
   ]
  },
  {
   "cell_type": "markdown",
   "metadata": {},
   "source": [
    "### Answer:"
   ]
  },
  {
   "cell_type": "code",
   "execution_count": 4,
   "metadata": {},
   "outputs": [],
   "source": [
    "import numpy as np\n",
    "import matplotlib.pyplot as plt\n",
    "from time import time\n",
    "\n",
    "class Sorting():\n",
    "    def __init__(self):\n",
    "        pass\n",
    "    def __gen_coords__(self, N=10):\n",
    "        return np.random.randint(-N,N,(N,2))\n",
    "    def bubble_sort(self, coords):\n",
    "        for pass_num in range(len(coords)-1,0,-1):\n",
    "            for i in range(pass_num):\n",
    "                if coords[i][0]>coords[i+1][0]:\n",
    "                    A=coords[i].copy()\n",
    "                    B=coords[i+1].copy()\n",
    "                    coords[i]=B\n",
    "                    coords[i+1]=A\n",
    "                if coords[i][0]==coords[i+1][0] and coords[i][1]<coords[i+1][1]:\n",
    "                    A=coords[i].copy()\n",
    "                    B=coords[i+1].copy()\n",
    "                    coords[i]=B\n",
    "                    coords[i+1]=A\n",
    "        return coords\n",
    "    def insert_sort(self, coords):\n",
    "        for index in range(1,len(coords)):\n",
    "            current_data=coords[index].copy()\n",
    "            position=index\n",
    "            while position>0:\n",
    "                if coords[position-1][0]>current_data[0]:\n",
    "                    A=coords[position-1].copy()\n",
    "                    coords[position]=A\n",
    "                    position-=1\n",
    "                \n",
    "                if coords[position-1][0]<current_data[0]:\n",
    "                    break\n",
    "                    \n",
    "                if coords[position-1][0]==current_data[0]:\n",
    "                    if coords[position-1][1]<current_data[1]:\n",
    "                        A=coords[position-1].copy()\n",
    "                        coords[position]=A\n",
    "                        position-=1\n",
    "                    else:\n",
    "                        break\n",
    "                    \n",
    "            coords[position]=current_data\n",
    "        return coords\n",
    "    def merge_sort(self, coords):\n",
    "        if len(coords)>1:\n",
    "            mid=len(coords)//2\n",
    "            left_half=coords[:mid].copy()\n",
    "            right_half=coords[mid:].copy()\n",
    "            self.merge_sort(left_half)\n",
    "            self.merge_sort(right_half)\n",
    "\n",
    "            i=0\n",
    "            j=0\n",
    "            k=0\n",
    "        \n",
    "           \n",
    "            while i<len(left_half) and j<len(right_half):\n",
    "                if left_half[i][0]<right_half[j][0]:\n",
    "                    coords[k]=left_half[i]\n",
    "                    i+=1\n",
    "                \n",
    "                elif left_half[i][0]>right_half[j][0]:\n",
    "                    coords[k]=right_half[j]\n",
    "                    j+=1\n",
    "\n",
    "                else:\n",
    "                    if left_half[i][1]>right_half[j][1]:\n",
    "                        coords[k]=left_half[i]\n",
    "                        i+=1\n",
    "                    else:\n",
    "                        coords[k]=right_half[j]\n",
    "                        j+=1\n",
    "\n",
    "                k+=1\n",
    "                \n",
    "            while i<len(left_half):\n",
    "                coords[k]=left_half[i]\n",
    "                i+=1\n",
    "                k+=1\n",
    "            \n",
    "            while j<len(right_half):\n",
    "                coords[k]=right_half[j]\n",
    "                j+=1\n",
    "                k+=1\n",
    "                \n",
    "        return coords"
   ]
  },
  {
   "cell_type": "code",
   "execution_count": 5,
   "metadata": {},
   "outputs": [
    {
     "name": "stdout",
     "output_type": "stream",
     "text": [
      "--- Coordinates ---\n",
      "[[ 4 -1]\n",
      " [ 4  3]\n",
      " [-2 -2]\n",
      " [ 4 -2]\n",
      " [ 2 -3]]\n",
      "\n",
      "\n",
      "---Bubble Sorted---\n",
      "[[-2 -2]\n",
      " [ 2 -3]\n",
      " [ 4  3]\n",
      " [ 4 -1]\n",
      " [ 4 -2]]\n",
      "-------------------\n",
      "\n",
      "---Insert Sorted---\n",
      "[[-2 -2]\n",
      " [ 2 -3]\n",
      " [ 4  3]\n",
      " [ 4 -1]\n",
      " [ 4 -2]]\n",
      "-------------------\n",
      "\n",
      "---Merge  Sorted---\n",
      "[[-2 -2]\n",
      " [ 2 -3]\n",
      " [ 4  3]\n",
      " [ 4 -1]\n",
      " [ 4 -2]]\n",
      "-------------------\n",
      "\n",
      "\n",
      "Correct !!!\n"
     ]
    }
   ],
   "source": [
    "# Sanity Check\n",
    "mySort = Sorting()\n",
    "coords = np.array([[ 4, -1], [ 4,  3], [-2, -2], [ 4, -2], [ 2, -3]])\n",
    "print('--- Coordinates ---')\n",
    "print(coords)\n",
    "print()\n",
    "print()\n",
    "print('---Bubble Sorted---')\n",
    "o1=mySort.bubble_sort(coords.copy())\n",
    "print(o1)\n",
    "print('-------------------')\n",
    "print()\n",
    "print('---Insert Sorted---')\n",
    "o2=mySort.insert_sort(coords.copy())\n",
    "print(o2)\n",
    "print('-------------------')\n",
    "print()\n",
    "print('---Merge  Sorted---')\n",
    "o3=mySort.merge_sort(coords.copy())\n",
    "print(o3)\n",
    "print('-------------------')\n",
    "print()\n",
    "print()\n",
    "\n",
    "if (o1==o2).sum() == (o2==o3).sum() == (o1==o3).sum():\n",
    "    print('Correct !!!')\n",
    "else:\n",
    "    print('Wrong !!!')"
   ]
  },
  {
   "cell_type": "code",
   "execution_count": 6,
   "metadata": {},
   "outputs": [
    {
     "data": {
      "text/plain": [
       "<matplotlib.legend.Legend at 0x7ced810>"
      ]
     },
     "execution_count": 6,
     "metadata": {},
     "output_type": "execute_result"
    },
    {
     "data": {
      "image/png": "[encoded data removed]",
      "text/plain": [
       "<Figure size 504x504 with 1 Axes>"
      ]
     },
     "metadata": {
      "needs_background": "light"
     },
     "output_type": "display_data"
    }
   ],
   "source": [
    "def compute_elapsed_time(func):\n",
    "    time_hist=[]\n",
    "    for N in range(10, 500):\n",
    "        T=mySort.__gen_coords__(N)\n",
    "        start=time()\n",
    "        func(T)\n",
    "        end=time()\n",
    "        time_pass=end-start\n",
    "        time_hist.append(time_pass)\n",
    "    return time_hist\n",
    "\n",
    "plt.figure(figsize=(7,7))\n",
    "plt.xlabel('N', fontsize=23)\n",
    "plt.ylabel('Elapsed Time', fontsize=23)\n",
    "\n",
    "# It will take at most 3 minutes\n",
    "plt.plot(compute_elapsed_time(mySort.bubble_sort), c='r',label='Bubble')\n",
    "plt.plot(compute_elapsed_time(mySort.insert_sort), c='g',label='Insertion')\n",
    "plt.plot(compute_elapsed_time(mySort.merge_sort), c='b',label='Merge')\n",
    "plt.legend(fontsize=23)"
   ]
  },
  {
   "cell_type": "markdown",
   "metadata": {},
   "source": [
    "### Description:"
   ]
  },
  {
   "cell_type": "markdown",
   "metadata": {},
   "source": [
    "우선 __init__ 으로는 클래스에서 초기조건으로 설정할 것이 아무것도 없기 때문에 pass로 설정한다. 그 다음에 __gen_coords__ 함수를 만들어서 나중에 그래프를 그릴 때 랜덤 배열이 필요하므로 원소의 개수가 N인, 무작위 배열을 만들도록 설정해준다. bubble_sort함수에서는 첫 원소에서 부터 순서대로 2개씩 맞닿은 두 원소의 크기를 서로 비교하며 그때그때 작은것이 앞으로, 큰것이 뒤로 가도록 만든다. insert_sort함수에서는 배열의 크기를 점점 늘려가면서 앞에 있는 원소들과 크기를 비교하여 어느곳에 끼어들어갈지를 결정한다. merge_sort함수에서는 left_half와 right_half로 원소가 한 개만 남을 때까지 나누어 작은것이 앞으로, 큰것이 뒤로 가도록 하고 이것들을 다시 합치는 작업을 반복적으로 하도록 설정한다. 그래프 개형은 이론대로 bubble_sort가 가장 오래 걸렸고, 그 다음으론 insert_sort, 그리고 merge_sort가 가장 빨리 정렬을 하였다."
   ]
  },
  {
   "cell_type": "markdown",
   "metadata": {},
   "source": [
    "---------------"
   ]
  },
  {
   "cell_type": "markdown",
   "metadata": {},
   "source": [
    "### PROBLEM III: Sorting II (40 Points)"
   ]
  },
  {
   "cell_type": "markdown",
   "metadata": {},
   "source": [
    "Given $\\texttt{Doubly Linked List(DLL)}$ (you already implemented in HW3) containing $\\underline{N}$ Nodes, \n",
    "<br> You want to SORT Nodes which contain strings in $\\texttt{dictionary}$ order. \n",
    "<br> Moreover, Uppercase letters always precede Lowercase letters. \n",
    "<br>\n",
    "<br>\n",
    "> For example, given $\\texttt{DLL}$ containing ['ahi'] - ['A'] - ['bc'] - ['BD']\n",
    "<br> $\\rightarrow$ ['A'] - ['BD'] - ['ahi'] - ['bc']\n",
    "\n",
    "\n",
    "<br>\n",
    "<br>\n",
    "\n",
    "To this end, \n",
    "- Implement $\\texttt{(1) Selection Sort}$ , $\\texttt{(2) Shell Sort}$ and $\\texttt{(3) Quick Sort}$\n",
    "- Compare their $\\texttt{Complexity}$ by plotting the graphs $\\underline{Elapsed\\;time}$ versus $\\underline{N}$ \n",
    "- Discuss your results\n",
    "\n",
    "<br>\n",
    "$\\mathbf{NOTICE}$ : Do Not Use any pre-built Sorting Library. ( e.g. sorted() or numpy.sort() ) "
   ]
  },
  {
   "cell_type": "markdown",
   "metadata": {},
   "source": [
    "**Additional Instructions and Tips**\n",
    "- Use the given $\\texttt{dNode}$ class\n",
    "- Use the built-in functions of the given $\\texttt{DLL}$ class <br> ( e.g. is_empty, size, push_back and print_from_front )\n",
    "- To begin with, You Should implement $\\texttt{search_from_front}$ and $\\texttt{compare_string}$\n",
    "\n",
    "> $\\texttt{search_from_front}$ takes 'loc' a certain location $\\subset$ [1, self.size()] <br> and outputs dNode at 'loc' and the corresponding data\n",
    "\n",
    "> $\\texttt{compare_string}$ takes two strings and compare them.\n",
    "<br> It outputs **True** if str2 precedes str1 or str1 is equal to str2, **False** if st1 precedes str2.\n",
    "\n",
    "- Implement $\\texttt{compute_elapsed_time}$ by using $\\texttt{reset}$ and $\\texttt{gen_str}$\n",
    "\n",
    "<br>\n",
    "By using $\\texttt{search_from_front}$ and $\\texttt{compare_string}$,\n",
    "\n",
    "- Implement $\\texttt{select_sort}$\n",
    "- Implement $\\texttt{shell_sort}$ with $\\texttt{gap_insertion_sort}$\n",
    "- Implement $\\texttt{_quick_sort_helper}$ with $\\texttt{_partition}$"
   ]
  },
  {
   "cell_type": "markdown",
   "metadata": {},
   "source": [
    "### Answer:"
   ]
  },
  {
   "cell_type": "code",
   "execution_count": 7,
   "metadata": {},
   "outputs": [],
   "source": [
    "import numpy as np\n",
    "import string, random\n",
    "import matplotlib.pyplot as plt\n",
    "from time import time\n",
    "\n",
    "class dNode:\n",
    "    def __init__(self, init_data):\n",
    "        self.data = init_data\n",
    "        self.prev = None\n",
    "        self.next = None\n",
    "        \n",
    "class DLL():\n",
    "    def __init__(self):\n",
    "        self.head = dNode(None)\n",
    "        self.tail = dNode(None)\n",
    "    def is_empty(self):\n",
    "        return self.head.next == None\n",
    "    def size(self):\n",
    "        if self.is_empty(): return 0\n",
    "        else:\n",
    "            current = self.head\n",
    "            cnt = 0\n",
    "            while current.next != self.tail:\n",
    "                cnt += 1\n",
    "                current = current.next\n",
    "            return cnt\n",
    "    def push_back(self, item):\n",
    "        tmp=dNode(item)\n",
    "        if self.is_empty():\n",
    "            self.head.next = tmp\n",
    "            self.tail.prev = tmp\n",
    "            tmp.next = self.tail\n",
    "            tmp.prev = self.head\n",
    "        else:\n",
    "            current=self.tail.prev\n",
    "            self.tail.prev = tmp\n",
    "            tmp.next = self.tail\n",
    "            tmp.prev = current\n",
    "            current.next = tmp\n",
    "    def print_from_front(self):\n",
    "        if self.is_empty():\n",
    "            print('Print Error : The List is empty')\n",
    "        else:\n",
    "            current = self.head\n",
    "            print('Stored data(Foward) : ',end = '')\n",
    "            while True:\n",
    "                current = current.next\n",
    "                if current == self.tail: break\n",
    "                print(current.data, end=' ')\n",
    "            print('')\n",
    "    def search_from_front(self,loc):\n",
    "        if self.is_empty() or loc > self.size() or loc<=0:\n",
    "            print('Search Error')\n",
    "            return None\n",
    "        else:\n",
    "            current=self.head\n",
    "            for i in range(loc):\n",
    "                current=current.next\n",
    "            return current.data\n",
    "        \n",
    "    def compare_string(self, str1, str2):\n",
    "        L1=len(str1)\n",
    "        L2=len(str2)\n",
    "        L=min(L1,L2)\n",
    "        i=0\n",
    "        stop=False\n",
    "        while i<L and not stop:\n",
    "            if i<L-1:\n",
    "                if str1[i]>str2[i]:\n",
    "                    stop=True\n",
    "                    return True\n",
    "                if str1[i]<str2[i]:\n",
    "                    stop=True\n",
    "                    return False\n",
    "                else:\n",
    "                    i+=1\n",
    "            else:\n",
    "                if str1[i]>=str2[i]:\n",
    "                    return True\n",
    "                else:\n",
    "                    return False\n",
    "    \n",
    "    def select_sort(self):\n",
    "        if self.size()==0:\n",
    "            return None\n",
    "        \n",
    "        else:\n",
    "            for full in range(self.size(),1,-1):\n",
    "                max_value=self.search_from_front(1)\n",
    "                index=1\n",
    "                for i in range(2,full+1):\n",
    "                    current_value=self.search_from_front(i)\n",
    "                    if self.compare_string(current_value,max_value):\n",
    "                        index=i\n",
    "                        max_value=current_value\n",
    "                \n",
    "                max_value=self.search_from_front(index)\n",
    "                end_value=self.search_from_front(full)\n",
    "                current=self.head\n",
    "                current=current.next\n",
    "                for i in range(1,self.size()+1):\n",
    "                    if i==index:\n",
    "                        current.data=end_value\n",
    "                    if i==full:\n",
    "                        current.data=max_value\n",
    "                    current=current.next\n",
    "            \n",
    "    def shell_sort(self):\n",
    "        if self.size()==0:\n",
    "            return None\n",
    "        else:\n",
    "            sublist_count=self.size()//2\n",
    "            while sublist_count>0:\n",
    "                for start_position in range(1,sublist_count+1):\n",
    "                    self.gap_insertion_sort(start_position,sublist_count)\n",
    "                \n",
    "                sublist_count=sublist_count//2\n",
    "    def gap_insertion_sort(self,start,gap):\n",
    "        for i in range(start+gap,self.size()+1,gap):\n",
    "            current_value=self.search_from_front(i)\n",
    "            position=i\n",
    "            while position-1>=gap:\n",
    "                current1=self.head\n",
    "                back_value=self.search_from_front(position-gap)\n",
    "                if self.compare_string(back_value,current_value):\n",
    "                    for j in range(position):\n",
    "                        current1=current1.next\n",
    "                    current1.data=back_value\n",
    "                    position-=gap\n",
    "                else:\n",
    "                    break\n",
    "                    \n",
    "            current2=self.head\n",
    "            for k in range(position):\n",
    "                current2=current2.next\n",
    "            current2.data=current_value\n",
    "            \n",
    "    def quick_sort(self):\n",
    "        self._quick_sort_helper(1, self.size())\n",
    "    def _quick_sort_helper(self, first, last):\n",
    "        if first<last:\n",
    "            split_point=self._partition(first,last)\n",
    "            self._quick_sort_helper(first,split_point-1)\n",
    "            self._quick_sort_helper(split_point+1,last)\n",
    "    def _partition(self, first, last):\n",
    "        pivot_value=self.search_from_front(first)\n",
    "        left_mark=first+1\n",
    "        right_mark=last\n",
    "        done=False\n",
    "        while not done:\n",
    "            while left_mark<=right_mark:\n",
    "                L=self.search_from_front(left_mark)\n",
    "                if self.compare_string(pivot_value,L):\n",
    "                    left_mark+=1\n",
    "                else:\n",
    "                    break\n",
    "                    \n",
    "            while right_mark>=left_mark:\n",
    "                R=self.search_from_front(right_mark)\n",
    "                if self.compare_string(R,pivot_value):\n",
    "                    right_mark-=1\n",
    "                else:\n",
    "                    break\n",
    "                    \n",
    "            if right_mark<left_mark:\n",
    "                done=True\n",
    "                \n",
    "            else:\n",
    "                current=self.head\n",
    "                current=current.next\n",
    "                for i in range(1,self.size()+1):\n",
    "                    if i==left_mark:\n",
    "                        current.data=R\n",
    "                    if i==right_mark:\n",
    "                        current.data=L\n",
    "                    current=current.next\n",
    "        \n",
    "        R=self.search_from_front(right_mark)\n",
    "        current=self.head\n",
    "        current=current.next\n",
    "        for j in range(1,self.size()+1):\n",
    "            if j==first:\n",
    "                current.data=R\n",
    "            if j==right_mark:\n",
    "                current.data=pivot_value\n",
    "            current=current.next\n",
    "            \n",
    "        return right_mark\n",
    "    \n",
    "    def __reset__(self):\n",
    "        self.head=dNode(None)\n",
    "        self.tail=dNode(None)\n",
    "    def __gen_str__(self, N):\n",
    "        self.__reset__()\n",
    "        letters = string.ascii_letters\n",
    "        for i in range(N):\n",
    "            self.push_back(''.join(random.choice(letters) for i in range(5)))\n",
    "    def compute_elapsed_time(self, sort_name):\n",
    "        time_hist=[]\n",
    "        for N in range(10, 150):\n",
    "            self.__gen_str__(N)\n",
    "\n",
    "            if sort_name=='select':\n",
    "                start=time()\n",
    "                self.select_sort()\n",
    "                end=time()\n",
    "                \n",
    "            if sort_name=='shell':\n",
    "                start=time()\n",
    "                self.shell_sort()\n",
    "                end=time()\n",
    "                \n",
    "            if sort_name=='quick':\n",
    "                start=time()\n",
    "                self.quick_sort()\n",
    "                end=time()\n",
    "                \n",
    "            time_pass=end-start\n",
    "            time_hist.append(time_pass)\n",
    "        return time_hist"
   ]
  },
  {
   "cell_type": "code",
   "execution_count": 8,
   "metadata": {},
   "outputs": [
    {
     "name": "stdout",
     "output_type": "stream",
     "text": [
      "Stored data(Foward) : redvelvet TWICE twice iu \n",
      "Stored data(Foward) : TWICE iu redvelvet twice \n",
      "\n",
      "Stored data(Foward) : redvelvet TWICE twice iu \n",
      "Stored data(Foward) : TWICE iu redvelvet twice \n",
      "\n",
      "Stored data(Foward) : redvelvet TWICE twice iu \n",
      "Stored data(Foward) : TWICE iu redvelvet twice \n",
      "\n"
     ]
    },
    {
     "data": {
      "text/plain": [
       "<matplotlib.legend.Legend at 0x7d4f390>"
      ]
     },
     "execution_count": 8,
     "metadata": {},
     "output_type": "execute_result"
    },
    {
     "data": {
      "image/png": "[encoded data removed]",
      "text/plain": [
       "<Figure size 504x504 with 1 Axes>"
      ]
     },
     "metadata": {
      "needs_background": "light"
     },
     "output_type": "display_data"
    }
   ],
   "source": [
    "# Sanity Check\n",
    "myDLL = DLL()\n",
    "myDLL.push_back('redvelvet')\n",
    "myDLL.push_back('TWICE')\n",
    "myDLL.push_back('twice')\n",
    "myDLL.push_back('iu')\n",
    "myDLL.print_from_front()\n",
    "myDLL.select_sort()\n",
    "myDLL.print_from_front()\n",
    "print()\n",
    "myDLL = DLL()\n",
    "myDLL.push_back('redvelvet')\n",
    "myDLL.push_back('TWICE')\n",
    "myDLL.push_back('twice')\n",
    "myDLL.push_back('iu')\n",
    "myDLL.print_from_front()\n",
    "myDLL.shell_sort()\n",
    "myDLL.print_from_front()\n",
    "print()\n",
    "myDLL = DLL()\n",
    "myDLL.push_back('redvelvet')\n",
    "myDLL.push_back('TWICE')\n",
    "myDLL.push_back('twice')\n",
    "myDLL.push_back('iu')\n",
    "myDLL.print_from_front()\n",
    "myDLL.quick_sort()\n",
    "myDLL.print_from_front()\n",
    "print()\n",
    "\n",
    "\n",
    "plt.figure(figsize=(7,7))\n",
    "plt.xlabel('N', fontsize=23)\n",
    "plt.ylabel('Elapsed Time', fontsize=23)\n",
    "\n",
    "# It will take at most 3 minutes \n",
    "plt.plot(myDLL.compute_elapsed_time('select'), c='r',label='select')\n",
    "plt.plot(myDLL.compute_elapsed_time('shell'), c='g',label='shell')\n",
    "plt.plot(myDLL.compute_elapsed_time('quick'), c='b',label='quick')\n",
    "plt.legend(fontsize=23)"
   ]
  },
  {
   "cell_type": "markdown",
   "metadata": {},
   "source": [
    "### Description:"
   ]
  },
  {
   "cell_type": "markdown",
   "metadata": {},
   "source": [
    "우선 compare_string 함수를 만들어서 str1이 str2보다 뒤에 위치해야 할 경우를 True로 만들고, push_back함수를 통해 원소가 뒤에서부터 추가되고, 가장 많이 쓰이는 search_from_front 함수를 통해 몇 번째에 어떤 원소가 있는지를 확인하도록 하였다. select_sort 함수에서는 앞에서부터 가장 뒤로 가야할 원소를 찾은 후 뒤에있는 원소와 뒤바꾼다. shell_sort 함수에서는 여러개의 sublist를 만들어 그 내에서 순서대로 배열을 하고 그 후에 insertion sort를 한다. quick_sort 함수에서는 맨 앞에 있는 원소를 pivot_value로 정하고 left_mark와 right_mark가 교차하는 지점에서 right_mark에 그 값을 넣어준다. 그래프는 우리가 배웠던 이론대로 select_sort가 가장 오래 걸리도록 나왔고, quick_sort가 가장 짧게 걸리도록 나왔고, shell_sort가 quick_sort와 비슷하지만 살짝 더 오래 걸리도록 나왔다."
   ]
  },
  {
   "cell_type": "markdown",
   "metadata": {},
   "source": [
    "---------------"
   ]
  }
 ],
 "metadata": {
  "kernelspec": {
   "display_name": "Python 3",
   "language": "python",
   "name": "python3"
  },
  "language_info": {
   "codemirror_mode": {
    "name": "ipython",
    "version": 3
   },
   "file_extension": ".py",
   "mimetype": "text/x-python",
   "name": "python",
   "nbconvert_exporter": "python",
   "pygments_lexer": "ipython3",
   "version": "3.7.0"
  }
 },
 "nbformat": 4,
 "nbformat_minor": 2
}
