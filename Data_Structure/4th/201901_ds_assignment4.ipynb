{
 "cells": [
  {
   "cell_type": "markdown",
   "metadata": {},
   "source": [
    "> ### EEE2020-04: Data Structures & Algorithms\n",
    "\n",
    "# Assignment \\# IV: Searching & Sorting"
   ]
  },
  {
   "cell_type": "markdown",
   "metadata": {},
   "source": [
    "**<div style=\"text-align: right\"> Due date: June 3, 2019. </div>** \n",
    "**<div style=\"text-align: right\"> Please upload your file @ yscec by 9 PM. </div>** \n",
    "<div style=\"text-align: right\"> Youngmin Oh(오영민): <a href=\"mailto:youngmin.oh@yonsei.ac.kr\">youngmin.oh@yonsei.ac.kr</a> </div>\n",
    "<div style=\"text-align: right\"> Sanghoon Lee(이상훈): <a href=\"mailto:sanghslee@yonsei.ac.kr\">sanghslee@yonsei.ac.kr</a> </div>"
   ]
  },
  {
   "cell_type": "markdown",
   "metadata": {},
   "source": [
    "-------------------------------"
   ]
  },
  {
   "cell_type": "markdown",
   "metadata": {},
   "source": [
    "\n",
    "### *Assignment Instructions:*\n",
    "1. Write a program implementing a particular algorithm to solve a given problem.\n",
    "2. You can use both Korean and English for your report.\n",
    "3. **Analyze the algorithm, theoretically and empirically.** \n",
    "4. **Report your results.**  \n",
    "5. <span style=\"color:red\">**DO NOT**</span> alter **any** sanity check codes.  \n",
    "    - You must do assignments and labs yourself. \n",
    "    - <span style=\"color:red\">**Do not copy any part of your friends’ code.**</span>\n",
    "    - Otherwise, you will get a F grade."
   ]
  },
  {
   "cell_type": "markdown",
   "metadata": {},
   "source": [
    "-----------------"
   ]
  },
  {
   "cell_type": "markdown",
   "metadata": {},
   "source": [
    "<h2><span style=\"color:blue\">[Insert your ID HERE] [Insert your name HERE]</span> </h2>"
   ]
  },
  {
   "cell_type": "code",
   "execution_count": 1,
   "metadata": {},
   "outputs": [
    {
     "name": "stdout",
     "output_type": "stream",
     "text": [
      "This code is written at 2019-05-19 20:58:58.863590\n"
     ]
    }
   ],
   "source": [
    "import datetime\n",
    "print(\"This code is written at \" + str(datetime.datetime.now()))"
   ]
  },
  {
   "cell_type": "markdown",
   "metadata": {},
   "source": [
    "-------------------------------"
   ]
  },
  {
   "cell_type": "markdown",
   "metadata": {},
   "source": [
    "### PROBLEM I: Hashing (30 Points)"
   ]
  },
  {
   "cell_type": "markdown",
   "metadata": {},
   "source": [
    "Implement $\\texttt{ChainHashTable}$ using basic $\\texttt{List}$ .\n",
    "\n",
    "> As mentioned in our Lecture notes,  \n",
    "> (vanilla)HashTable requires <U>reshash technique</U> to prevent **collision** between items that have identical hash value(s).\n",
    ">\n",
    "> $\\texttt{ChainHashTable}$ settles collision by allowing multiple items be carried in a single slot, namely **'Chaining'**.  \n",
    "> Details can be found in our Lecture Note 10 p.47(collision), p.58-61(chaining).  \n",
    "\n",
    "Specifically, we will exploit basic $\\texttt{List}$ to implement $\\texttt{ChainHashTable}$ in this problem.  "
   ]
  },
  {
   "cell_type": "markdown",
   "metadata": {},
   "source": [
    "Inputs and outputs of $\\texttt{ChainHashTable}$ are specified as follows:  \n",
    "* <code>init()</code>: constructs an empty HashTable.\n",
    "* <code>put(key, data)</code>: puts data in HashTable according to its given key value (and returns nothing).\n",
    "* <code>hash_function(key, slot_size)</code>: returns hash value of given key value.\n",
    "* <code>get(key)</code>: returns <U>all</U> data stored in HashTable under given key value.\n",
    "* <code>\\_\\_len\\_\\_()</code>: returns total number of data in HashTable.\n",
    "* <code>\\_\\_contains\\_\\_(data)</code>: returns boolean value indicating whether 'data' is in HashTable.\n",
    "* <code>remove(data)</code>: deletes the data in HashTable (only if it exists)."
   ]
  },
  {
   "cell_type": "markdown",
   "metadata": {},
   "source": [
    "\n",
    "> Additional Instructions and Tips:\n",
    "> * When a new item is assigned to a slot, the <U>**latest**</U> item should be at the <U>**front**</U> of the list under its <code>key</code> value.\n",
    "> * We will overload <code>\\_\\_contains\\_\\_</code> method in order to use <code>in</code>.  \n",
    "> * Note that there is no 'slots' in $\\texttt{ChainHashTable}$. \n",
    "> * You may assume that <code>key</code> value is always <code>int</code> type.\n",
    "\n",
    "> For further study, refer to [HERE](https://ratsgo.github.io/data%20structure&algorithm/2017/10/25/hash/) for additional explanation about **Collision** and **Chaining**."
   ]
  },
  {
   "cell_type": "markdown",
   "metadata": {},
   "source": [
    "### Answer:"
   ]
  },
  {
   "cell_type": "code",
   "execution_count": 1,
   "metadata": {},
   "outputs": [],
   "source": [
    "class ChainHashTable:\n",
    "    def __init__(self, size=10):\n",
    "        self.size = size\n",
    "        self.table = #CODE HERE#\n",
    "            \n",
    "    def put(self, #CODE HERE#):\n",
    "        #############\n",
    "        # CODE HERE #\n",
    "        #############    \n",
    "    def hash_function(self, #CODE HERE#):\n",
    "        #############\n",
    "        # CODE HERE #\n",
    "        #############\n",
    "\n",
    "    def get(self, #CODE HERE#):\n",
    "        #############\n",
    "        # CODE HERE #\n",
    "        #############\n",
    "\n",
    "    def __len__(self):\n",
    "        #############\n",
    "        # CODE HERE #\n",
    "        #############\n",
    "    \n",
    "    def __contains__(self, #CODE HERE#):\n",
    "        #############\n",
    "        # CODE HERE #\n",
    "        #############\n",
    "    \n",
    "    def remove(self, #CODE HERE#):\n",
    "        #############\n",
    "        # CODE HERE #\n",
    "        #############\n",
    "               \n",
    "   def __getitem__(self, #CODE HERE#):\n",
    "        return self.get(key)\n",
    "                   \n",
    "   def __setitem__(self, #CODE HERE#):\n",
    "        self.put(key, data)\n",
    "        "
   ]
  },
  {
   "cell_type": "code",
   "execution_count": 2,
   "metadata": {
    "scrolled": true
   },
   "outputs": [
    {
     "name": "stdout",
     "output_type": "stream",
     "text": [
      "-----------sanity check-------------\n",
      "\n",
      "[None, ['giraffe', 'zebra', 'horse'], ['jaguar', 'cat', 'lion'], ['maltese', 'retriever', 'dog'], ['porsche', 'car', 'jaguar', 'bentley'], None, None, ['adidas', 'sports', 'nike'], None, None]\n",
      "check hash function(9): 9\n",
      "length of h(16): 16\n",
      "True: True\n",
      "False: False\n",
      "[None, ['giraffe', 'zebra', 'horse'], ['jaguar', 'cat', 'lion'], ['retriever', 'dog'], ['porsche', 'car', 'jaguar'], None, None, ['adidas', 'sports', 'nike'], None, None]\n",
      "length of h(14): 14\n",
      "True: True\n",
      "True: True\n",
      "False: False\n"
     ]
    }
   ],
   "source": [
    "### sanity check code ###\n",
    "h = ChainHashTable()\n",
    "\n",
    "h[57] = 'nike'; h[1] = 'horse'; h[42] = 'lion'; h[121] = 'zebra'; h[51] = 'giraffe'; h[2] = 'cat'; h[152] = 'jaguar'; h[44] = 'bentley'; h[94] = 'jaguar'\n",
    "h[3] = 'dog'; h[5213] = 'retriever'; h[43] = 'maltese'; h[7] = 'sports'; h[4] = 'car'; h[64] = 'porsche'; h[97] = 'adidas'\n",
    "\n",
    "print('-----------sanity check-------------')\n",
    "print('')\n",
    "\n",
    "print(h.table)\n",
    "print('check hash function(9):',h.hash_function(19, 10))\n",
    "print('length of h(16):', len(h))\n",
    "print('True:', 'bentley' in h)\n",
    "print('False:', 'puma' in h)\n",
    "h.remove('bentley')\n",
    "h.remove('maltese')\n",
    "print(h.table)\n",
    "print('length of h(14):', len(h))\n",
    "print('True:', 'porsche' in h)\n",
    "print('True:', 'jaguar' in h)\n",
    "print('False:', 'puma' in h)"
   ]
  },
  {
   "cell_type": "markdown",
   "metadata": {},
   "source": [
    "### Description:"
   ]
  },
  {
   "cell_type": "markdown",
   "metadata": {},
   "source": [
    "here"
   ]
  },
  {
   "cell_type": "markdown",
   "metadata": {},
   "source": [
    "-----------------"
   ]
  },
  {
   "cell_type": "markdown",
   "metadata": {},
   "source": [
    "### PROBLEM II: Sorting I (30 Points)"
   ]
  },
  {
   "cell_type": "markdown",
   "metadata": {},
   "source": [
    "Suppose you are now a data scientist and given $\\underline{N}$ points in a 2-D Cartesian Coordinate System from your experiment. \n",
    "<br>\n",
    "<br>\n",
    "To analyze this data, You want to SORT them in $\\texttt{ascending}$ order of 'X' coordinates.\n",
    "If there are the same 'X' coordinates points, You dicide to sort them in $\\texttt{desending}$ order of 'Y' coordinates.\n",
    "> For example, given (0,1) , (1, 2) , (-3, 5) , (0, 11)\n",
    "$\\rightarrow$ (-3, 5) , (0, 11) , (0, 1) , (1, 2)\n",
    "\n",
    "\n",
    "<br>\n",
    "<br>\n",
    "\n",
    "To this end,\n",
    "- Implement $\\texttt{(1) Bubble Sort}$ , $\\texttt{(2) Insertion Sort}$ and $\\texttt{(3) Merge Sort}$\n",
    "- Compare their $\\texttt{Complexity}$ by plotting the graphs $\\underline{Elapsed\\;time}$ versus $\\underline{N}$ \n",
    "- Discuss your results\n",
    "\n",
    "<br>\n",
    "$\\mathbf{NOTICE}$ : Do Not Use any pre-built Sorting Library. ( e.g. sorted() or numpy.sort() ) "
   ]
  },
  {
   "cell_type": "markdown",
   "metadata": {},
   "source": [
    "### Answer:"
   ]
  },
  {
   "cell_type": "code",
   "execution_count": 5,
   "metadata": {},
   "outputs": [
    {
     "ename": "IndentationError",
     "evalue": "expected an indented block (<ipython-input-5-3e0b90ab5fa7>, line 12)",
     "output_type": "error",
     "traceback": [
      "\u001b[0;36m  File \u001b[0;32m\"<ipython-input-5-3e0b90ab5fa7>\"\u001b[0;36m, line \u001b[0;32m12\u001b[0m\n\u001b[0;31m    def insert_sort(self, coords):\u001b[0m\n\u001b[0m      ^\u001b[0m\n\u001b[0;31mIndentationError\u001b[0m\u001b[0;31m:\u001b[0m expected an indented block\n"
     ]
    }
   ],
   "source": [
    "import numpy as np\n",
    "import matplotlib.pyplot as plt\n",
    "from time import time\n",
    "\n",
    "class Sorting():\n",
    "    def __init__(self):\n",
    "        pass\n",
    "    def __gen_coords__(self, N=10):\n",
    "        return np.random.randint(-N,N,(N,2))\n",
    "    def bubble_sort(self, coords):\n",
    "        ### CODE HERE ###\n",
    "    def insert_sort(self, coords):\n",
    "        ### CODE HERE ###\n",
    "    def merge_sort(self, coords):\n",
    "        ### CODE HERE ###"
   ]
  },
  {
   "cell_type": "code",
   "execution_count": 3,
   "metadata": {},
   "outputs": [
    {
     "name": "stdout",
     "output_type": "stream",
     "text": [
      "--- Coordinates ---\n",
      "[[ 4 -1]\n",
      " [ 4  3]\n",
      " [-2 -2]\n",
      " [ 4 -2]\n",
      " [ 2 -3]]\n",
      "\n",
      "\n",
      "---Bubble Sorted---\n",
      "[[-2 -2]\n",
      " [ 2 -3]\n",
      " [ 4  3]\n",
      " [ 4 -1]\n",
      " [ 4 -2]]\n",
      "-------------------\n",
      "\n",
      "---Insert Sorted---\n",
      "[[-2 -2]\n",
      " [ 2 -3]\n",
      " [ 4  3]\n",
      " [ 4 -1]\n",
      " [ 4 -2]]\n",
      "-------------------\n",
      "\n",
      "---Merge  Sorted---\n",
      "[[-2 -2]\n",
      " [ 2 -3]\n",
      " [ 4  3]\n",
      " [ 4 -1]\n",
      " [ 4 -2]]\n",
      "-------------------\n",
      "\n",
      "\n",
      "Correct !!!\n"
     ]
    }
   ],
   "source": [
    "# Sanity Check\n",
    "mySort = Sorting()\n",
    "coords = np.array([[ 4, -1], [ 4,  3], [-2, -2], [ 4, -2], [ 2, -3]])\n",
    "print('--- Coordinates ---')\n",
    "print(coords)\n",
    "print()\n",
    "print()\n",
    "print('---Bubble Sorted---')\n",
    "o1=mySort.bubble_sort(coords.copy())\n",
    "print(o1)\n",
    "print('-------------------')\n",
    "print()\n",
    "print('---Insert Sorted---')\n",
    "o2=mySort.insert_sort(coords.copy())\n",
    "print(o2)\n",
    "print('-------------------')\n",
    "print()\n",
    "print('---Merge  Sorted---')\n",
    "o3=mySort.merge_sort(coords.copy())\n",
    "print(o3)\n",
    "print('-------------------')\n",
    "print()\n",
    "print()\n",
    "\n",
    "if (o1==o2).sum() == (o2==o3).sum() == (o1==o3).sum():\n",
    "    print('Correct !!!')\n",
    "else:\n",
    "    print('Wrong !!!')"
   ]
  },
  {
   "cell_type": "code",
   "execution_count": 5,
   "metadata": {},
   "outputs": [
    {
     "data": {
      "text/plain": [
       "<matplotlib.legend.Legend at 0x7fe70d0ef6a0>"
      ]
     },
     "execution_count": 5,
     "metadata": {},
     "output_type": "execute_result"
    },
    {
     "data": {
      "image/png": "[encoded data removed]",
      "text/plain": [
       "<Figure size 504x504 with 1 Axes>"
      ]
     },
     "metadata": {
      "needs_background": "light"
     },
     "output_type": "display_data"
    }
   ],
   "source": [
    "def compute_elapsed_time(func):\n",
    "    time_hist=[]\n",
    "    for N in range(10, 500):\n",
    "        ### CODE HERE ###\n",
    "    return time_hist\n",
    "\n",
    "plt.figure(figsize=(7,7))\n",
    "plt.xlabel('N', fontsize=23)\n",
    "plt.ylabel('Elapsed Time', fontsize=23)\n",
    "\n",
    "# It will take at most 3 minutes\n",
    "plt.plot(compute_elapsed_time(mySort.bubble_sort), c='r',label='Bubble')\n",
    "plt.plot(compute_elapsed_time(mySort.insert_sort), c='g',label='Insertion')\n",
    "plt.plot(compute_elapsed_time(mySort.merge_sort), c='b',label='Merge')\n",
    "plt.legend(fontsize=23)"
   ]
  },
  {
   "cell_type": "markdown",
   "metadata": {},
   "source": [
    "### Description:"
   ]
  },
  {
   "cell_type": "markdown",
   "metadata": {},
   "source": [
    "here"
   ]
  },
  {
   "cell_type": "markdown",
   "metadata": {},
   "source": [
    "---------------"
   ]
  },
  {
   "cell_type": "markdown",
   "metadata": {},
   "source": [
    "### PROBLEM III: Sorting II (40 Points)"
   ]
  },
  {
   "cell_type": "markdown",
   "metadata": {},
   "source": [
    "Given $\\texttt{Doubly Linked List(DLL)}$ (you already implemented in HW3) containing $\\underline{N}$ Nodes, \n",
    "<br> You want to SORT Nodes which contain strings in $\\texttt{dictionary}$ order. \n",
    "<br> Moreover, Uppercase letters always precede Lowercase letters. \n",
    "<br>\n",
    "<br>\n",
    "> For example, given $\\texttt{DLL}$ containing ['ahi'] - ['A'] - ['bc'] - ['BD']\n",
    "<br> $\\rightarrow$ ['A'] - ['BD'] - ['ahi'] - ['bc']\n",
    "\n",
    "\n",
    "<br>\n",
    "<br>\n",
    "\n",
    "To this end, \n",
    "- Implement $\\texttt{(1) Selection Sort}$ , $\\texttt{(2) Shell Sort}$ and $\\texttt{(3) Quick Sort}$\n",
    "- Compare their $\\texttt{Complexity}$ by plotting the graphs $\\underline{Elapsed\\;time}$ versus $\\underline{N}$ \n",
    "- Discuss your results\n",
    "\n",
    "<br>\n",
    "$\\mathbf{NOTICE}$ : Do Not Use any pre-built Sorting Library. ( e.g. sorted() or numpy.sort() ) "
   ]
  },
  {
   "cell_type": "markdown",
   "metadata": {},
   "source": [
    "**Additional Instructions and Tips**\n",
    "- Use the given $\\texttt{dNode}$ class\n",
    "- Use the built-in functions of the given $\\texttt{DLL}$ class <br> ( e.g. is_empty, size, push_back and print_from_front )\n",
    "- To begin with, You Should implement $\\texttt{search_from_front}$ and $\\texttt{compare_string}$\n",
    "\n",
    "> $\\texttt{search_from_front}$ takes 'loc' a certain location $\\subset$ [1, self.size()] <br> and outputs dNode at 'loc' and the corresponding data\n",
    "\n",
    "> $\\texttt{compare_string}$ takes two strings and compare them.\n",
    "<br> It outputs **True** if str2 precedes str1 or str1 is equal to str2, **False** if st1 precedes str2.\n",
    "\n",
    "- Implement $\\texttt{compute_elapsed_time}$ by using $\\texttt{reset}$ and $\\texttt{gen_str}$\n",
    "\n",
    "<br>\n",
    "By using $\\texttt{search_from_front}$ and $\\texttt{compare_string}$,\n",
    "\n",
    "- Implement $\\texttt{select_sort}$\n",
    "- Implement $\\texttt{shell_sort}$ with $\\texttt{gap_insertion_sort}$\n",
    "- Implement $\\texttt{_quick_sort_helper}$ with $\\texttt{_partition}$"
   ]
  },
  {
   "cell_type": "markdown",
   "metadata": {},
   "source": [
    "### Answer:"
   ]
  },
  {
   "cell_type": "code",
   "execution_count": 13,
   "metadata": {},
   "outputs": [],
   "source": [
    "import numpy as np\n",
    "import string, random\n",
    "import matplotlib.pyplot as plt\n",
    "from time import time\n",
    "\n",
    "class dNode:\n",
    "    def __init__(self, init_data):\n",
    "        self.data = init_data\n",
    "        self.prev = None\n",
    "        self.next = None\n",
    "        \n",
    "class DLL():\n",
    "    def __init__(self):\n",
    "        self.head = dNode(None)\n",
    "        self.tail = dNode(None)\n",
    "    def is_empty(self):\n",
    "        return self.head.next == None\n",
    "    def size(self):\n",
    "        if self.is_empty(): return 0\n",
    "        else:\n",
    "            current = self.head\n",
    "            cnt = 0\n",
    "            while current.next != self.tail:\n",
    "                cnt += 1\n",
    "                current = current.next\n",
    "            return cnt\n",
    "    def push_back(self, item):\n",
    "        tmp=dNode(item)\n",
    "        if self.is_empty():\n",
    "            self.head.next = tmp\n",
    "            self.tail.prev = tmp\n",
    "            tmp.next = self.tail\n",
    "            tmp.prev = self.head\n",
    "        else:\n",
    "            current=self.tail.prev\n",
    "            self.tail.prev = tmp\n",
    "            tmp.next = self.tail\n",
    "            tmp.prev = current\n",
    "            current.next = tmp\n",
    "    def print_from_front(self):\n",
    "        if self.is_empty():\n",
    "            print('Print Error : The List is empty')\n",
    "        else:\n",
    "            current = self.head\n",
    "            print('Stored data(Foward) : ',end = '')\n",
    "            while True:\n",
    "                current = current.next\n",
    "                if current == self.tail: break\n",
    "                print(current.data, end=' ')\n",
    "            print('')\n",
    "    def search_from_front(self,loc):\n",
    "        if self.is_empty() or loc > self.size() or loc<=0:\n",
    "            print('Search Error')\n",
    "            return None\n",
    "        else:\n",
    "             ### CODE HERE ###\n",
    "        \n",
    "    def compare_string(self, str1, str2):\n",
    "        ### CODE HERE ###\n",
    "    \n",
    "    def select_sort(self):\n",
    "        ### CODE HERE ###\n",
    "            \n",
    "    def shell_sort(self):\n",
    "        ### CODE HERE ###\n",
    "    def gap_insertion_sort(self,start,gap):\n",
    "        ### CODE HERE ###\n",
    "            \n",
    "    def quick_sort(self):\n",
    "        self._quick_sort_helper(1, self.size())\n",
    "    def _quick_sort_helper(self, first, last):\n",
    "        ### CODE HERE ###\n",
    "    def _partition(self, first, last):\n",
    "        ### CODE HERE ###\n",
    "    \n",
    "    def __reset__(self):\n",
    "        self.head=dNode(None)\n",
    "        self.tail=dNode(None)\n",
    "    def __gen_str__(self, N):\n",
    "        self.__reset__()\n",
    "        letters = string.ascii_letters\n",
    "        for i in range(N):\n",
    "            self.push_back(''.join(random.choice(letters) for i in range(5)))\n",
    "    def compute_elapsed_time(self, sort_name):\n",
    "        time_hist=[]\n",
    "        for N in range(10, 150):\n",
    "            ### CODE HERE ###\n",
    "        return time_hist"
   ]
  },
  {
   "cell_type": "code",
   "execution_count": 14,
   "metadata": {},
   "outputs": [
    {
     "name": "stdout",
     "output_type": "stream",
     "text": [
      "Stored data(Foward) : redvelvet TWICE twice iu \n",
      "Stored data(Foward) : TWICE iu redvelvet twice \n",
      "\n",
      "Stored data(Foward) : redvelvet TWICE twice iu \n",
      "Stored data(Foward) : TWICE iu redvelvet twice \n",
      "\n",
      "Stored data(Foward) : redvelvet TWICE twice iu \n",
      "Stored data(Foward) : TWICE iu redvelvet twice \n",
      "\n"
     ]
    },
    {
     "data": {
      "text/plain": [
       "<matplotlib.legend.Legend at 0x7f09090099b0>"
      ]
     },
     "execution_count": 14,
     "metadata": {},
     "output_type": "execute_result"
    },
    {
     "data": {
      "image/png": "[encoded data removed]",
      "text/plain": [
       "<Figure size 504x504 with 1 Axes>"
      ]
     },
     "metadata": {
      "needs_background": "light"
     },
     "output_type": "display_data"
    }
   ],
   "source": [
    "# Sanity Check\n",
    "myDLL = DLL()\n",
    "myDLL.push_back('redvelvet')\n",
    "myDLL.push_back('TWICE')\n",
    "myDLL.push_back('twice')\n",
    "myDLL.push_back('iu')\n",
    "myDLL.print_from_front()\n",
    "myDLL.select_sort()\n",
    "myDLL.print_from_front()\n",
    "print()\n",
    "myDLL = DLL()\n",
    "myDLL.push_back('redvelvet')\n",
    "myDLL.push_back('TWICE')\n",
    "myDLL.push_back('twice')\n",
    "myDLL.push_back('iu')\n",
    "myDLL.print_from_front()\n",
    "myDLL.shell_sort()\n",
    "myDLL.print_from_front()\n",
    "print()\n",
    "myDLL = DLL()\n",
    "myDLL.push_back('redvelvet')\n",
    "myDLL.push_back('TWICE')\n",
    "myDLL.push_back('twice')\n",
    "myDLL.push_back('iu')\n",
    "myDLL.print_from_front()\n",
    "myDLL.quick_sort()\n",
    "myDLL.print_from_front()\n",
    "print()\n",
    "\n",
    "\n",
    "plt.figure(figsize=(7,7))\n",
    "plt.xlabel('N', fontsize=23)\n",
    "plt.ylabel('Elapsed Time', fontsize=23)\n",
    "\n",
    "# It will take at most 3 minutes \n",
    "plt.plot(myDLL.compute_elapsed_time('select'), c='r',label='select')\n",
    "plt.plot(myDLL.compute_elapsed_time('shell'), c='g',label='shell')\n",
    "plt.plot(myDLL.compute_elapsed_time('quick'), c='b',label='quick')\n",
    "plt.legend(fontsize=23)"
   ]
  },
  {
   "cell_type": "markdown",
   "metadata": {},
   "source": [
    "### Description:"
   ]
  },
  {
   "cell_type": "markdown",
   "metadata": {},
   "source": [
    "here"
   ]
  },
  {
   "cell_type": "markdown",
   "metadata": {},
   "source": [
    "---------------"
   ]
  }
 ],
 "metadata": {
  "kernelspec": {
   "display_name": "Python 3",
   "language": "python",
   "name": "python3"
  },
  "language_info": {
   "codemirror_mode": {
    "name": "ipython",
    "version": 3
   },
   "file_extension": ".py",
   "mimetype": "text/x-python",
   "name": "python",
   "nbconvert_exporter": "python",
   "pygments_lexer": "ipython3",
   "version": "3.7.1"
  }
 },
 "nbformat": 4,
 "nbformat_minor": 2
}
