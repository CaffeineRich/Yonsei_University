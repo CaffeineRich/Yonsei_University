{
 "cells": [
  {
   "cell_type": "markdown",
   "metadata": {},
   "source": [
    "> ### EEE2020-04: Data Structures & Algorithms\n",
    "\n",
    "# Assignment \\#  II: Algorithm Analysis & Basic Data Structure"
   ]
  },
  {
   "cell_type": "markdown",
   "metadata": {},
   "source": [
    "**<div style=\"text-align: right\"> Due date: April 20, 2019. </div>** \n",
    "**<div style=\"text-align: right\"> Please upload your file @ yscec by 9 PM. </div>** \n",
    "<div style=\"text-align: right\"> Youngmin Oh(오영민): <a href=\"mailto:youngmin.oh@yonsei.ac.kr\">youngmin.oh@yonsei.ac.kr</a> </div>\n",
    "<div style=\"text-align: right\"> Sanghoon Lee(이상훈): <a href=\"mailto:sanghslee@yonsei.ac.kr\">sanghslee@yonsei.ac.kr</a> </div>"
   ]
  },
  {
   "cell_type": "markdown",
   "metadata": {},
   "source": [
    "-------------------------------"
   ]
  },
  {
   "cell_type": "markdown",
   "metadata": {},
   "source": [
    "\n",
    "### *Assignment Instructions:*\n",
    "1. Write a program implementing a particular algorithm to solve a given problem.\n",
    "2. You can use both Korean and English for your report.\n",
    "3. **Analyze the algorithm, theoretically and empirically.** \n",
    "4. **Report your results.**  \n",
    "    - You must do assignments and labs yourself. \n",
    "    - <span style=\"color:red\">**Do not copy any part of your friends’ code.**</span>\n",
    "    - Otherwise, you will get a F grade."
   ]
  },
  {
   "cell_type": "markdown",
   "metadata": {},
   "source": [
    "-----------------"
   ]
  },
  {
   "cell_type": "markdown",
   "metadata": {},
   "source": [
    "<h2><span style=\"color:blue\">[Insert your ID HERE] [Insert your name HERE]</span> </h2>"
   ]
  },
  {
   "cell_type": "code",
   "execution_count": null,
   "metadata": {},
   "outputs": [],
   "source": [
    "import datetime\n",
    "print(\"This code is written at \" + str(datetime.datetime.now()))"
   ]
  },
  {
   "cell_type": "markdown",
   "metadata": {},
   "source": [
    "-------------------------------"
   ]
  },
  {
   "cell_type": "markdown",
   "metadata": {},
   "source": [
    "### \\# PROBLEM I (10 POINTS)"
   ]
  },
  {
   "cell_type": "markdown",
   "metadata": {},
   "source": [
    " Compute the complexity (using a big $\\mathcal{O}$ notation) of the following algorithms shown below. **(2.5 POINTS each)**<br>\n",
    " **You don't need to write a progam to compute it.** <br>\n",
    " Just play with mathematics **by hand**.\n",
    " \n",
    " > (a) \n",
    "<code>\n",
    "def function(n):\n",
    "    i = 1\n",
    "    sum=0\n",
    "    while i <= n:\n",
    "        i = i * 2\n",
    "        sum+=1  \n",
    "    return sum\n",
    "</code>\n",
    "\n",
    " > (b)  **NOTE** : N $\\approx$ M\n",
    "<code>\n",
    "def matrix_sum1(A,N,M):\n",
    "    cnt=0\n",
    "    for row in range(N):\n",
    "        for col in range(M):\n",
    "            cnt+=A[row][col]\n",
    "    return cnt\n",
    "</code>\n",
    "\n",
    " > (c)\n",
    "<code>\n",
    "def matrix_sum2(A,N):\n",
    "    cnt1=0\n",
    "    for row in range(N):\n",
    "        for col in range(N):\n",
    "            cnt1+=A[row][col]\n",
    "    cnt2=0\n",
    "    for i in range(N):\n",
    "        cnt2+=i\n",
    "    return cnt1+cnt2\n",
    "</code>\n",
    "\n",
    " >(d)\n",
    "<code>\n",
    "def fib_type1(n):\n",
    "    if n == 0 :\n",
    "        return n\n",
    "    if n == 1:\n",
    "        return 1\n",
    "    else:\n",
    "        return fib_type1(n-2) + fib_type1(n-1)\n",
    "</code>"
   ]
  },
  {
   "cell_type": "markdown",
   "metadata": {},
   "source": [
    "### Answer: "
   ]
  },
  {
   "cell_type": "markdown",
   "metadata": {},
   "source": [
    "Answer Here"
   ]
  },
  {
   "cell_type": "markdown",
   "metadata": {},
   "source": [
    "### Describe your answer: "
   ]
  },
  {
   "cell_type": "markdown",
   "metadata": {},
   "source": [
    "Description Here"
   ]
  },
  {
   "cell_type": "markdown",
   "metadata": {},
   "source": [
    "--------"
   ]
  },
  {
   "cell_type": "markdown",
   "metadata": {},
   "source": [
    "### \\# PROBLEM II (10 POINTS)"
   ]
  },
  {
   "cell_type": "markdown",
   "metadata": {},
   "source": [
    "#### PROBLEM II-1 (3 POINTS)"
   ]
  },
  {
   "cell_type": "markdown",
   "metadata": {},
   "source": [
    "Compute the following problems with **TWO**(Nested) **_loop_** (_while_ or _for_) <br>\n",
    " > (a) 1 + (1+2) + (1+2+3) + ... + (1+2+3+..+100) <br>\n",
    "(b) 1 + $\\frac{1}{2!}$ + $\\frac{1}{3!}$ + ... + $\\frac{1}{10!}$<br>"
   ]
  },
  {
   "cell_type": "markdown",
   "metadata": {},
   "source": [
    "### Answer: "
   ]
  },
  {
   "cell_type": "code",
   "execution_count": null,
   "metadata": {},
   "outputs": [],
   "source": [
    "a,b=0.0,0.0\n",
    "### CODE HERE ###\n",
    "for\n",
    "    for\n",
    "### END ###"
   ]
  },
  {
   "cell_type": "markdown",
   "metadata": {},
   "source": [
    "### Describe your answer: "
   ]
  },
  {
   "cell_type": "markdown",
   "metadata": {},
   "source": [
    "Description Here"
   ]
  },
  {
   "cell_type": "markdown",
   "metadata": {},
   "source": [
    "#### PROBLEM II-2 (3 POINTS)"
   ]
  },
  {
   "cell_type": "markdown",
   "metadata": {},
   "source": [
    "Compute the following problems with **ONLY ONE** **_loop_** (_while_ or _for_) <br>\n",
    "**NOTICE (A small tip for you)** : <br>\n",
    "- Use built-in functions _sum_ AND/OR _linspace_ AND/OR _arange_ AND/OR _cumsum_ in $\\texttt{numpy}$ <br>\n",
    "- Use built-in function _factorial_ in $\\texttt{math}$\n",
    " > (c) 1 + (1+2) + (1+2+3) + ... + (1+2+3+..+100) <br>\n",
    "(d) 1 + $\\frac{1}{2!}$ + $\\frac{1}{3!}$ + ... + $\\frac{1}{10!}$<br>"
   ]
  },
  {
   "cell_type": "markdown",
   "metadata": {},
   "source": [
    "### Answer: "
   ]
  },
  {
   "cell_type": "code",
   "execution_count": null,
   "metadata": {},
   "outputs": [],
   "source": [
    "import numpy as np\n",
    "import math\n",
    "\n",
    "c,d=0.0,0.0\n",
    "### CODE HERE ###\n",
    "for\n",
    "### END ###"
   ]
  },
  {
   "cell_type": "markdown",
   "metadata": {},
   "source": [
    "### Describe your answer: "
   ]
  },
  {
   "cell_type": "markdown",
   "metadata": {},
   "source": [
    "Description Here"
   ]
  },
  {
   "cell_type": "markdown",
   "metadata": {},
   "source": [
    "#### PROBLEM II-3 (4 POINTS)"
   ]
  },
  {
   "cell_type": "markdown",
   "metadata": {},
   "source": [
    "Compute the following problems with **ONLY ONE** **_line_** (No _loop_) <br>\n",
    "**NOTICE (A small tip for you)** : <br>\n",
    "- Use built-in fuctions _sum_ AND/OR _linspace_ AND/OR _arange_ AND/OR _cumsum_ AND/OR _cumprod_ in $\\texttt{numpy}$  \n",
    "- Use built-in function _factorial_ in $\\texttt{math}$\n",
    " > (e)  1 + (1+2) + (1+2+3) + ... + (1+2+3+..+100) <br>\n",
    "(f) 1 + $\\frac{1}{2!}$ + $\\frac{1}{3!}$ + ... + $\\frac{1}{10!}$"
   ]
  },
  {
   "cell_type": "markdown",
   "metadata": {},
   "source": [
    "### Answer: "
   ]
  },
  {
   "cell_type": "code",
   "execution_count": null,
   "metadata": {},
   "outputs": [],
   "source": [
    "import numpy as np\n",
    "import math\n",
    "\n",
    "e,f=0.0,0.0\n",
    "### CODE HERE ###\n",
    "\n",
    "### END ###"
   ]
  },
  {
   "cell_type": "markdown",
   "metadata": {},
   "source": [
    "### Describe your answer: "
   ]
  },
  {
   "cell_type": "markdown",
   "metadata": {},
   "source": [
    "Description Here"
   ]
  },
  {
   "cell_type": "markdown",
   "metadata": {},
   "source": [
    "### For Sanity Check (Problem II)\n",
    "NOTE : You do not need to edit following code !"
   ]
  },
  {
   "cell_type": "code",
   "execution_count": null,
   "metadata": {},
   "outputs": [],
   "source": [
    "if ((a+c+e)/3 - 171700) != 0:\n",
    "    raise ValueError('You Should Check Your Code for One of (a), (c) and (e) !')\n",
    "else:\n",
    "    print('Correct (a), (c) and (e) !')\n",
    "if abs((b+d+f)/3 - 1.718281) > 1e-5:\n",
    "    raise ValueError('You Should Check Your Code for One of (b), (d) and (f) !')\n",
    "else:\n",
    "    print('Correct (b), (d) and (f) !')"
   ]
  },
  {
   "cell_type": "markdown",
   "metadata": {},
   "source": [
    "---------"
   ]
  },
  {
   "cell_type": "markdown",
   "metadata": {},
   "source": [
    "### \\# PROBLEM III (40 POINTS)"
   ]
  },
  {
   "cell_type": "markdown",
   "metadata": {},
   "source": [
    "#### PROBLEM III-1 (15 POINTS)"
   ]
  },
  {
   "cell_type": "markdown",
   "metadata": {},
   "source": [
    " Write a function that computes moving average of a 1-D numpy array.  \n",
    " Use **only** $\\texttt{numpy}$ methods. (For example, do not use <code>sum</code>. Use <code>np.sum</code> instead)  \n",
    " Parameters of function $\\texttt{moving_average}$ are specified as follows:  \n",
    "> * inputs: 1-D array (length: N), kernel_size(=k)\n",
    "> * outputs: 1-D array (length: N-k+1)  \n",
    ">  \n",
    "> For example, your output should be as follows:  \n",
    ">> test_output = [2. 3. 4. 5. 6. 7.],  \n",
    ">> given the input: [0 1 2 3 4 5 6 7 8 9], kernel_size = 5"
   ]
  },
  {
   "cell_type": "markdown",
   "metadata": {},
   "source": [
    "Figure below is an example of moving average calculation with parameters N=6, k=3.\n",
    "\n",
    "![moving_avarage figure](./MAfig.png)"
   ]
  },
  {
   "cell_type": "markdown",
   "metadata": {},
   "source": [
    "### Answer: "
   ]
  },
  {
   "cell_type": "code",
   "execution_count": null,
   "metadata": {},
   "outputs": [],
   "source": [
    "import numpy as np\n",
    "\n",
    "def moving_average(input_array, kernel_size):\n",
    "    ### CODE HERE ###\n",
    "\n",
    "    ### END ###"
   ]
  },
  {
   "cell_type": "code",
   "execution_count": null,
   "metadata": {},
   "outputs": [],
   "source": [
    "test_input = np.arange(start=0, stop=10)\n",
    "test_output = moving_average(input_array=test_input, kernel_size=5)\n",
    "print(test_input)\n",
    "print(test_output)"
   ]
  },
  {
   "cell_type": "markdown",
   "metadata": {},
   "source": [
    "### Describe your answer: "
   ]
  },
  {
   "cell_type": "markdown",
   "metadata": {},
   "source": [
    "Description Here"
   ]
  },
  {
   "cell_type": "markdown",
   "metadata": {},
   "source": [
    "#### PROBLEM III-2 (5 POINTS)"
   ]
  },
  {
   "cell_type": "markdown",
   "metadata": {},
   "source": [
    " Compute the complexity (using a big-$\\mathcal{O}$ notation) of your $\\texttt{moving_average}$ function **by hand.**  "
   ]
  },
  {
   "cell_type": "markdown",
   "metadata": {},
   "source": [
    "### Answer: "
   ]
  },
  {
   "cell_type": "markdown",
   "metadata": {},
   "source": [
    "Answer Here"
   ]
  },
  {
   "cell_type": "markdown",
   "metadata": {},
   "source": [
    "### Describe your answer: "
   ]
  },
  {
   "cell_type": "markdown",
   "metadata": {},
   "source": [
    "Description Here"
   ]
  },
  {
   "cell_type": "markdown",
   "metadata": {},
   "source": [
    "#### PROBLEM III-3 (10 POINTS)"
   ]
  },
  {
   "cell_type": "markdown",
   "metadata": {},
   "source": [
    " Devise an experiment to verify your hand-computated big-$\\mathcal{O}$ from the problem above.  \n",
    " * Measure runtime of your code while varying length of input 1-D array.  \n",
    " * Plot N(=length of input array) vs time graph.  \n",
    " * Don't forget to show your graph (use <code>plt.show()</code>)\n",
    "\n",
    "> Since you are dealing with time in this problem, there is inevitable experimental error.  \n",
    "> However, as engineers, it is your duty to minimize all sorts of errors!  \n",
    "> To this end, you will use **average time** of large number of <U>executions</U> (for example, $10^3$) instead of exploiting a single execution time."
   ]
  },
  {
   "cell_type": "markdown",
   "metadata": {},
   "source": [
    "### Answer: "
   ]
  },
  {
   "cell_type": "code",
   "execution_count": null,
   "metadata": {},
   "outputs": [],
   "source": [
    "import numpy as np\n",
    "import time\n",
    "import matplotlib.pyplot as plt\n",
    "### CODE HERE ###\n",
    "\n",
    "### END ###"
   ]
  },
  {
   "cell_type": "markdown",
   "metadata": {},
   "source": [
    "### Describe your answer: "
   ]
  },
  {
   "cell_type": "markdown",
   "metadata": {},
   "source": [
    "Description Here"
   ]
  },
  {
   "cell_type": "markdown",
   "metadata": {},
   "source": [
    "#### PROBLEM III-4 (10 POINTS)"
   ]
  },
  {
   "cell_type": "markdown",
   "metadata": {},
   "source": [
    "Devise an additional experiment to verify relationship between big $\\mathcal{O}$ and kernel size.  \n",
    " * Measure runtime of your code while varying kernel size.  \n",
    " * Plot k(=kernel size) vs time graph.  \n",
    " \n",
    " \n",
    " * Experimental settings are equivalent to **PROBLEM III-3**."
   ]
  },
  {
   "cell_type": "markdown",
   "metadata": {},
   "source": [
    "### Answer: "
   ]
  },
  {
   "cell_type": "code",
   "execution_count": null,
   "metadata": {},
   "outputs": [],
   "source": [
    "import numpy as np\n",
    "import time\n",
    "import matplotlib.pyplot as plt\n",
    "\n",
    "### CODE HERE ###\n",
    "\n",
    "### END ###"
   ]
  },
  {
   "cell_type": "markdown",
   "metadata": {},
   "source": [
    "### Describe your answer: "
   ]
  },
  {
   "cell_type": "markdown",
   "metadata": {},
   "source": [
    "Description Here"
   ]
  },
  {
   "cell_type": "markdown",
   "metadata": {},
   "source": [
    "-------------------------------"
   ]
  },
  {
   "cell_type": "markdown",
   "metadata": {},
   "source": [
    "### \\# PROBLEM IV (40 POINTS)"
   ]
  },
  {
   "cell_type": "markdown",
   "metadata": {},
   "source": [
    "Suppose you are working for a company.  \n",
    "Your supervisor asks you to design a **queue system** for the printer that your group uses.  \n",
    "Since you took \"Data Structures and Algorithms\" class, you said 'piece of cake!'  \n",
    "\n",
    "Your group consists of 10 people.  \n",
    "There are <U>two</U> superiors (whose names are: **'S1', 'S2'**) and <U>eight</U> employees (whose names are: **'E1', 'E2', ... , 'E8'**).  \n",
    "\n",
    "Properties of the printer queue($\\texttt{PQ}$) are specified as follows:  \n",
    "> * There is only <U>one</U> printer for your group.  \n",
    "> * The superiors(S1, S2) **always** have priority in waiting line for the printer. \n",
    "> * PQ follows FIFO order basis among superiors.  \n",
    "> * PQ follows FIFO order among employees, given that there are no superiors waiting in line.  "
   ]
  },
  {
   "cell_type": "markdown",
   "metadata": {},
   "source": [
    "Write a python script implementing the printer queue algorithm specified above using $\\texttt{list}$.  \n",
    "Printer queue **must** include the following methods.  \n",
    " * .is_empty(): returns a boolean value indicating whether waiting line is empty.  \n",
    " * .size($\\texttt{arg}$): $\\texttt{arg}$ is a string, either 'S' or 'E' or None.  \n",
    "\n",
    " > 'S': returns number of superiors in waiting line.  \n",
    " > 'E': returns number of employees in waiting line.  \n",
    " > None: returns total number of people in waiting line.  \n",
    " \n",
    " * .enqueue(name): (returns nothing) adds a person to waiting line.  \n",
    " * .dequeue(): removes the front person in waiting line and returns the person's name.  \n",
    " * .print_status(): (returns nothing) prints waiting line in a sequential manner.  \n",
    " \n",
    "Notes: \n",
    ">1) dequeue() can not be executed when PQ is empty. In this case, print appropriate warning indicating that your PQ is empty.  \n",
    ">2) There is no limit in total length of waiting line.  \n",
    "\n",
    "\n",
    "<span style=\"color:blue\">  **For full credit, use only <U>one</U> $\\texttt{list}$ in $\\texttt{PQ}$.** </span>\n"
   ]
  },
  {
   "cell_type": "markdown",
   "metadata": {},
   "source": [
    "### Answer: "
   ]
  },
  {
   "cell_type": "code",
   "execution_count": null,
   "metadata": {},
   "outputs": [],
   "source": [
    "class PQ:\n",
    "### CODE HERE ###\n",
    "\n",
    "### END ###"
   ]
  },
  {
   "cell_type": "code",
   "execution_count": 2,
   "metadata": {},
   "outputs": [
    {
     "name": "stdout",
     "output_type": "stream",
     "text": [
      "-------- sanity check --------\n",
      "['S1']\n",
      "['S1', 'E1']\n",
      "['S1', 'S2', 'E1']\n",
      "['S1', 'S2', 'E1', 'E5']\n",
      "['S1', 'S2', 'E1', 'E5', 'E1']\n",
      "['S2', 'E1', 'E5', 'E1']\n",
      "['E1', 'E5', 'E1']\n",
      "['E1', 'E5', 'E1', 'E3']\n",
      "['S2', 'E1', 'E5', 'E1', 'E3']\n",
      "total size: 5\n",
      "size of sup: 1\n",
      "size of emp: 4\n",
      "['E1', 'E5', 'E1', 'E3']\n",
      "['E5', 'E1', 'E3']\n",
      "['E1', 'E3']\n",
      "['E3']\n",
      "[]\n",
      "Your waiting line is EMPTY!!!\n",
      "[]\n"
     ]
    }
   ],
   "source": [
    "#Do not change this code\n",
    "print('-------- sanity check --------')\n",
    "pq = PQ()\n",
    "pq.enqueue('S1')\n",
    "pq.print_status()\n",
    "pq.enqueue('E1')\n",
    "pq.print_status()\n",
    "pq.enqueue('S2')\n",
    "pq.print_status()\n",
    "pq.enqueue('E5')\n",
    "pq.print_status()\n",
    "pq.enqueue('E1')\n",
    "pq.print_status()\n",
    "\n",
    "pq.dequeue()\n",
    "pq.print_status()\n",
    "pq.dequeue()\n",
    "pq.print_status()\n",
    "\n",
    "pq.enqueue('E3')\n",
    "pq.print_status()\n",
    "pq.enqueue('S2')\n",
    "pq.print_status()\n",
    "print('total size:', pq.size())\n",
    "print('size of sup:', pq.size('S'))\n",
    "print('size of emp:', pq.size('E'))\n",
    "\n",
    "pq.dequeue()\n",
    "pq.print_status()\n",
    "pq.dequeue()\n",
    "pq.print_status()\n",
    "pq.dequeue()\n",
    "pq.print_status()\n",
    "pq.dequeue()\n",
    "pq.print_status()\n",
    "pq.dequeue()\n",
    "pq.print_status()\n",
    "pq.dequeue()\n",
    "pq.print_status()"
   ]
  },
  {
   "cell_type": "markdown",
   "metadata": {},
   "source": [
    "### Describe your answer: "
   ]
  },
  {
   "cell_type": "markdown",
   "metadata": {},
   "source": [
    "Description Here"
   ]
  },
  {
   "cell_type": "markdown",
   "metadata": {},
   "source": [
    "-------------------------------"
   ]
  }
 ],
 "metadata": {
  "anaconda-cloud": {},
  "kernelspec": {
   "display_name": "Python 3",
   "language": "python",
   "name": "python3"
  },
  "language_info": {
   "codemirror_mode": {
    "name": "ipython",
    "version": 3
   },
   "file_extension": ".py",
   "mimetype": "text/x-python",
   "name": "python",
   "nbconvert_exporter": "python",
   "pygments_lexer": "ipython3",
   "version": "3.7.0"
  }
 },
 "nbformat": 4,
 "nbformat_minor": 1
}
