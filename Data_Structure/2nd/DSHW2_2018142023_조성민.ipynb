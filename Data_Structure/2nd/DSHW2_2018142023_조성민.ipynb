{
 "cells": [
  {
   "cell_type": "markdown",
   "metadata": {},
   "source": [
    "> ### EEE2020-04: Data Structures & Algorithms\n",
    "\n",
    "# Assignment \\#  II: Algorithm Analysis & Basic Data Structure"
   ]
  },
  {
   "cell_type": "markdown",
   "metadata": {},
   "source": [
    "**<div style=\"text-align: right\"> Due date: April 20, 2019. </div>** \n",
    "**<div style=\"text-align: right\"> Please upload your file @ yscec by 9 PM. </div>** \n",
    "<div style=\"text-align: right\"> Youngmin Oh(오영민): <a href=\"mailto:youngmin.oh@yonsei.ac.kr\">youngmin.oh@yonsei.ac.kr</a> </div>\n",
    "<div style=\"text-align: right\"> Sanghoon Lee(이상훈): <a href=\"mailto:sanghslee@yonsei.ac.kr\">sanghslee@yonsei.ac.kr</a> </div>"
   ]
  },
  {
   "cell_type": "markdown",
   "metadata": {},
   "source": [
    "-------------------------------"
   ]
  },
  {
   "cell_type": "markdown",
   "metadata": {},
   "source": [
    "\n",
    "### *Assignment Instructions:*\n",
    "1. Write a program implementing a particular algorithm to solve a given problem.\n",
    "2. You can use both Korean and English for your report.\n",
    "3. **Analyze the algorithm, theoretically and empirically.** \n",
    "4. **Report your results.**  \n",
    "    - You must do assignments and labs yourself. \n",
    "    - <span style=\"color:red\">**Do not copy any part of your friends’ code.**</span>\n",
    "    - Otherwise, you will get a F grade."
   ]
  },
  {
   "cell_type": "markdown",
   "metadata": {},
   "source": [
    "-----------------"
   ]
  },
  {
   "cell_type": "markdown",
   "metadata": {},
   "source": [
    "<h2><span style=\"color:blue\">[2018142023] [조성민]</span> </h2>"
   ]
  },
  {
   "cell_type": "code",
   "execution_count": 14,
   "metadata": {},
   "outputs": [
    {
     "name": "stdout",
     "output_type": "stream",
     "text": [
      "This code is written at 2019-04-18 08:48:55.727687\n"
     ]
    }
   ],
   "source": [
    "import datetime\n",
    "print(\"This code is written at \" + str(datetime.datetime.now()))"
   ]
  },
  {
   "cell_type": "markdown",
   "metadata": {},
   "source": [
    "-------------------------------"
   ]
  },
  {
   "cell_type": "markdown",
   "metadata": {},
   "source": [
    "### \\# PROBLEM I (10 POINTS)"
   ]
  },
  {
   "cell_type": "markdown",
   "metadata": {},
   "source": [
    " Compute the complexity (using a big $\\mathcal{O}$ notation) of the following algorithms shown below. **(2.5 POINTS each)**<br>\n",
    " **You don't need to write a progam to compute it.** <br>\n",
    " Just play with mathematics **by hand**.\n",
    " \n",
    " > (a) \n",
    "<code>\n",
    "def function(n):\n",
    "    i = 1\n",
    "    sum=0\n",
    "    while i <= n:\n",
    "        i = i * 2\n",
    "        sum+=1  \n",
    "    return sum\n",
    "</code>\n",
    "\n",
    " > (b)  **NOTE** : N $\\approx$ M\n",
    "<code>\n",
    "def matrix_sum1(A,N,M):\n",
    "    cnt=0\n",
    "    for row in range(N):\n",
    "        for col in range(M):\n",
    "            cnt+=A[row][col]\n",
    "    return cnt\n",
    "</code>\n",
    "\n",
    " > (c)\n",
    "<code>\n",
    "def matrix_sum2(A,N):\n",
    "    cnt1=0\n",
    "    for row in range(N):\n",
    "        for col in range(N):\n",
    "            cnt1+=A[row][col]\n",
    "    cnt2=0\n",
    "    for i in range(N):\n",
    "        cnt2+=i\n",
    "    return cnt1+cnt2\n",
    "</code>\n",
    "\n",
    " >(d)\n",
    "<code>\n",
    "def fib_type1(n):\n",
    "    if n == 0 :\n",
    "        return n\n",
    "    if n == 1:\n",
    "        return 1\n",
    "    else:\n",
    "        return fib_type1(n-2) + fib_type1(n-1)\n",
    "</code>"
   ]
  },
  {
   "cell_type": "markdown",
   "metadata": {},
   "source": [
    "### Answer: "
   ]
  },
  {
   "cell_type": "markdown",
   "metadata": {},
   "source": [
    "1-a. $\\mathcal{O}(n)$\n",
    "1-b. $\\mathcal{O}(N^2)$\n",
    "1-c. $\\mathcal{O}(N^2)$\n",
    "1-d. $\\mathcal{O}((\\frac{1+5**(0.5)}{2})^n)$"
   ]
  },
  {
   "cell_type": "markdown",
   "metadata": {},
   "source": [
    "### Describe your answer: "
   ]
  },
  {
   "cell_type": "markdown",
   "metadata": {},
   "source": [
    "1-a. i가 1부터 n까지 1씩 증가하면서 sum에 1씩 더하므로 $T(n) = n$ 이다. 따라서 complexity는 $\\mathcal{O}(n)$ 이다.\n",
    "1-b. row가 0부터 $N-1$까지, col이 0부터 $M-1$까지 1씩 증가하면서 행렬을 이루므로 이 행렬은 $N * M$ matrix가 된다. 그런데 N $\\approx$ M 이므로 $T(N)$ = $N^2$이다. 따라서 complexity는 $\\mathcal{O}(N^2)$ 이다.\n",
    "1-c. cnt1 값을 구할 땐 $N * N$ matrix인 행렬이 사용되고, cnt2 값을 구할 땐 for문이 $N$번 실행되므로 $T(n)$ = $N^2$ + $N$이다. 따라서 complexity는 $\\mathcal{O}(N^2)$ 이다.\n",
    "1-d. 이 함수는 피보나치수열로, 일반식은 $\\frac{1}{5**(0.5)}${ ${(\\frac{1+5**(0.5)}{2})^n-(\\frac{1-5**(0.5)}{2})^n}$ } 이고,  $(\\frac{1+5**(0.5)}{2})^n $와 $(\\frac{1-5**(0.5)}{2})^n$를 비교해봤을때 같은 지수지만 $(\\frac{1+5**(0.5)}{2})^n$이 더 크기 때문에 complexity는 $\\mathcal{O}((\\frac{1+5**(0.5)}{2})^n)$ 이다."
   ]
  },
  {
   "cell_type": "markdown",
   "metadata": {},
   "source": [
    "--------"
   ]
  },
  {
   "cell_type": "markdown",
   "metadata": {},
   "source": [
    "### \\# PROBLEM II (10 POINTS)"
   ]
  },
  {
   "cell_type": "markdown",
   "metadata": {},
   "source": [
    "#### PROBLEM II-1 (3 POINTS)"
   ]
  },
  {
   "cell_type": "markdown",
   "metadata": {},
   "source": [
    "Compute the following problems with **TWO**(Nested) **_loop_** (_while_ or _for_) <br>\n",
    " > (a) 1 + (1+2) + (1+2+3) + ... + (1+2+3+..+100) <br>\n",
    "(b) 1 + $\\frac{1}{2!}$ + $\\frac{1}{3!}$ + ... + $\\frac{1}{10!}$<br>"
   ]
  },
  {
   "cell_type": "markdown",
   "metadata": {},
   "source": [
    "### Answer: "
   ]
  },
  {
   "cell_type": "code",
   "execution_count": 25,
   "metadata": {},
   "outputs": [],
   "source": [
    "a,b=0.0,0.0\n",
    "fin=False\n",
    "for i in range(1,101):\n",
    "    c=0\n",
    "    d=1\n",
    "    if i>10:\n",
    "        fin=True\n",
    "    for j in range(1,i+1):\n",
    "        c += j\n",
    "        if not fin:\n",
    "            d *= j\n",
    "    a+=c\n",
    "    if not fin:\n",
    "        b+=1/d"
   ]
  },
  {
   "cell_type": "markdown",
   "metadata": {},
   "source": [
    "### Describe your answer: "
   ]
  },
  {
   "cell_type": "markdown",
   "metadata": {},
   "source": [
    "for문을 통해 i를 1부터 100까지 1씩 증가시키는데, a를 구하는데에는 i가 100까지 도달해야 하지만 b를 구하는데에는 10까지만 도달해야 하기 때문에 fin을 설정하였다. a에서 각 괄호 안에 해당되는 식을 구하기 위해 변수 c를 설정하고, b에서 각 분수의 값을 구하기 위해 변수 d를 설정하였다. a는 각 식이 덧셈으로 이루어져 있으므로 c=0으로, b는 각 식이 곱셈으로 이루어져 있으므로 d=1로 설정하였다. 첫번째 for문에서 만약 i가 10을 초과할 시 b에 더이상의 계산을 추가적으로 하는 것을 막기 위해 fin=True를 설정하였다. 두번째 for문에서는 각 항에 해당하는 식의 값을 변수 c,d를 통해 구하고, 첫번째 for문의 마지막 부분에서 이전에 구한 c,d를 각각 a,b에 더하는 작업을 실행하였다."
   ]
  },
  {
   "cell_type": "markdown",
   "metadata": {},
   "source": [
    "#### PROBLEM II-2 (3 POINTS)"
   ]
  },
  {
   "cell_type": "markdown",
   "metadata": {},
   "source": [
    "Compute the following problems with **ONLY ONE** **_loop_** (_while_ or _for_) <br>\n",
    "**NOTICE (A small tip for you)** : <br>\n",
    "- Use built-in functions _sum_ AND/OR _linspace_ AND/OR _arange_ AND/OR _cumsum_ in $\\texttt{numpy}$ <br>\n",
    "- Use built-in function _factorial_ in $\\texttt{math}$\n",
    " > (c) 1 + (1+2) + (1+2+3) + ... + (1+2+3+..+100) <br>\n",
    "(d) 1 + $\\frac{1}{2!}$ + $\\frac{1}{3!}$ + ... + $\\frac{1}{10!}$<br>"
   ]
  },
  {
   "cell_type": "markdown",
   "metadata": {},
   "source": [
    "### Answer: "
   ]
  },
  {
   "cell_type": "code",
   "execution_count": 26,
   "metadata": {},
   "outputs": [],
   "source": [
    "import numpy as np\n",
    "import math\n",
    "\n",
    "c,d=0.0,0.0\n",
    "for i in range(1,101):\n",
    "    A=np.linspace(1,i,i)\n",
    "    B=np.sum(A)\n",
    "    c+=B\n",
    "    if i<11:\n",
    "        d+=1/math.factorial(i)"
   ]
  },
  {
   "cell_type": "markdown",
   "metadata": {},
   "source": [
    "### Describe your answer: "
   ]
  },
  {
   "cell_type": "markdown",
   "metadata": {},
   "source": [
    "우선 c값을 구할 때 배열이 필요하므로 numpy를 불렀고, d값을 구할 때 팩토리얼 함수를 사용해야 하므로 math를 불렀다. for문을 통해 i를 1부터 100까지 1씩 증가시킨다. 배열 A는 [[1],[1,2],[1,2,3]...[1,2,3,...,99,100]] 이런 꼴로 만들어 주고, B는 배열 A의 각 행에 있는 원소들을 sum함수를 통해 모두 더한 값을 저장한다. 그리고 i가 증가함에 따라 변수 c에는 B를 계속 더해주게 되어 결국 배열 A의 모든 원소를 다 더한 값이 저장된다. d값을 구할 땐 i가 11이후부터는 더이상 계산을 진행하면 안되므로 if문을 통해 i가 10이하일 때만 계산이 진행되도록 하였다. factorial함수를 통해 각 항에 해당되는 분수를 구했고, 그렇게 구한 모든 분수를 d에 하나씩 더하였다."
   ]
  },
  {
   "cell_type": "markdown",
   "metadata": {},
   "source": [
    "#### PROBLEM II-3 (4 POINTS)"
   ]
  },
  {
   "cell_type": "markdown",
   "metadata": {},
   "source": [
    "Compute the following problems with **ONLY ONE** **_line_** (No _loop_) <br>\n",
    "**NOTICE (A small tip for you)** : <br>\n",
    "- Use built-in fuctions _sum_ AND/OR _linspace_ AND/OR _arange_ AND/OR _cumsum_ AND/OR _cumprod_ in $\\texttt{numpy}$  \n",
    "- Use built-in function _factorial_ in $\\texttt{math}$\n",
    " > (e)  1 + (1+2) + (1+2+3) + ... + (1+2+3+..+100) <br>\n",
    "(f) 1 + $\\frac{1}{2!}$ + $\\frac{1}{3!}$ + ... + $\\frac{1}{10!}$"
   ]
  },
  {
   "cell_type": "markdown",
   "metadata": {},
   "source": [
    "### Answer: "
   ]
  },
  {
   "cell_type": "code",
   "execution_count": 27,
   "metadata": {},
   "outputs": [],
   "source": [
    "import numpy as np\n",
    "import math\n",
    "\n",
    "e,f=0.0,0.0\n",
    "e=np.sum(np.linspace(1,100,100).cumsum(0))\n",
    "f=np.sum(1/np.cumprod(np.linspace(1,10,10)))"
   ]
  },
  {
   "cell_type": "markdown",
   "metadata": {},
   "source": [
    "### Describe your answer: "
   ]
  },
  {
   "cell_type": "markdown",
   "metadata": {},
   "source": [
    "먼저 e값을 구할 때 가장 먼저 해야 할 것은 numpy내장함수인 linspace를 사용하여 1부터 100까지 간격이 1인 배열을 만든다. 그 후에 cumsum함수를 이용하여 누적합을 구한다. 예를들어 [1,2,3,4]배열에 cumsum함수를 쓰면 [1,3,6,10]이 된다. 이렇게 하면 배열의 각 자리에 있는 값이 (e) 식의 각 항을 계산한 값과 동일하게 된다. 따라서 sum함수를 통해 누적합을 저장한 배열의 모든 원소를 더하게 되면 해답이 나온다. f의 해답을 구할 때 우선 각 항을 구하기 위해 먼저 분자를 1로 두었다. 그리고 분모를 설정하기 위해 np.linspace함수를 통해 1부터 10까지의 배열을 만들고 np.comprod함수를 써서 분모를 팩토리얼 꼴로 만들었다. 이렇게 해서 만들어진 분수들을 모두 더하기 위해 np.sum함수를 썼다."
   ]
  },
  {
   "cell_type": "markdown",
   "metadata": {},
   "source": [
    "### For Sanity Check (Problem II)\n",
    "NOTE : You do not need to edit following code !"
   ]
  },
  {
   "cell_type": "code",
   "execution_count": 28,
   "metadata": {},
   "outputs": [
    {
     "name": "stdout",
     "output_type": "stream",
     "text": [
      "Correct (a), (c) and (e) !\n",
      "Correct (b), (d) and (f) !\n"
     ]
    }
   ],
   "source": [
    "if ((a+c+e)/3 - 171700) != 0:\n",
    "    raise ValueError('You Should Check Your Code for One of (a), (c) and (e) !')\n",
    "else:\n",
    "    print('Correct (a), (c) and (e) !')\n",
    "if abs((b+d+f)/3 - 1.718281) > 1e-5:\n",
    "    raise ValueError('You Should Check Your Code for One of (b), (d) and (f) !')\n",
    "else:\n",
    "    print('Correct (b), (d) and (f) !')"
   ]
  },
  {
   "cell_type": "markdown",
   "metadata": {},
   "source": [
    "---------"
   ]
  },
  {
   "cell_type": "markdown",
   "metadata": {},
   "source": [
    "### \\# PROBLEM III (40 POINTS)"
   ]
  },
  {
   "cell_type": "markdown",
   "metadata": {},
   "source": [
    "#### PROBLEM III-1 (15 POINTS)"
   ]
  },
  {
   "cell_type": "markdown",
   "metadata": {},
   "source": [
    " Write a function that computes moving average of a 1-D numpy array.  \n",
    " Use **only** $\\texttt{numpy}$ methods. (For example, do not use <code>sum</code>. Use <code>np.sum</code> instead)  \n",
    " Parameters of function $\\texttt{moving_average}$ are specified as follows:  \n",
    "> * inputs: 1-D array (length: N), kernel_size(=k)\n",
    "> * outputs: 1-D array (length: N-k+1)  \n",
    ">  \n",
    "> For example, your output should be as follows:  \n",
    ">> test_output = [2. 3. 4. 5. 6. 7.],  \n",
    ">> given the input: [0 1 2 3 4 5 6 7 8 9], kernel_size = 5"
   ]
  },
  {
   "cell_type": "markdown",
   "metadata": {},
   "source": [
    "Figure below is an example of moving average calculation with parameters N=6, k=3.\n",
    "\n",
    "![moving_avarage figure](./MAfig.png)"
   ]
  },
  {
   "cell_type": "markdown",
   "metadata": {},
   "source": [
    "### Answer: "
   ]
  },
  {
   "cell_type": "code",
   "execution_count": 19,
   "metadata": {},
   "outputs": [],
   "source": [
    "import numpy as np\n",
    "\n",
    "def moving_average(input_array, kernel_size):\n",
    "    N=len(input_array)\n",
    "    K=kernel_size\n",
    "    out_size=N-K+1\n",
    "    output_array=[0]*out_size\n",
    "    for i in range(out_size):\n",
    "        output_array[i]=np.sum(input_array[i:i+K])/K\n",
    "    return output_array"
   ]
  },
  {
   "cell_type": "code",
   "execution_count": 20,
   "metadata": {},
   "outputs": [
    {
     "name": "stdout",
     "output_type": "stream",
     "text": [
      "[0 1 2 3 4 5 6 7 8 9]\n",
      "[2.0, 3.0, 4.0, 5.0, 6.0, 7.0]\n"
     ]
    }
   ],
   "source": [
    "test_input = np.arange(start=0, stop=10)\n",
    "test_output = moving_average(input_array=test_input, kernel_size=5)\n",
    "print(test_input)\n",
    "print(test_output)"
   ]
  },
  {
   "cell_type": "markdown",
   "metadata": {},
   "source": [
    "### Describe your answer: "
   ]
  },
  {
   "cell_type": "markdown",
   "metadata": {},
   "source": [
    "우선 numpy method를 쓰기 위해 numpy를 import한다. 그리고 배열과 합의 범위를 입력받을 수 있는 moving_average함수를 만든다. 입력받은 배열의 크기를 변수 $N$으로, kernel_size를 편의상 변수 $K$로 설정하였다. 이때 출력되는 배열의 크기는 $N-K+1$과 동일하므로 이 값을 변수 out_size에 저장하였다. for문을 통해 i를 1씩 증가시키면서 output_array의 각 자릿수에 해당되는 input_array의 moving average를 저장하고자 한다. np.sum함수를 이용하여 input_array에서 kernel_size 만큼의 숫자(i번째 부터 i+$K$-1까지)를 모두 더한 뒤 그 개수만큼 나눠줘서 평균을 구하고 그 값을 output_array의 i번째 자리에 저장하였다. 마지막으로 for문을 마친 후에는 output_array가 모두 완성되었으므로 이것을 리턴해준다. 함수를 만들었으니 이제 입력할 배열을 test_input이라 설정하고, 이 변수에 np.arange함수를 써서 배열에 0부터 9까지의 숫자가 저장되도록 하였다. 그리고 출력할 배열을 구하기 위해 test_output 배열을 설정하고, moving_average함수에 test_input과 kernel_size를 대입하여 그 결과값을 test_output에 저장한다."
   ]
  },
  {
   "cell_type": "markdown",
   "metadata": {},
   "source": [
    "#### PROBLEM III-2 (5 POINTS)"
   ]
  },
  {
   "cell_type": "markdown",
   "metadata": {},
   "source": [
    " Compute the complexity (using a big-$\\mathcal{O}$ notation) of your $\\texttt{moving_average}$ function **by hand.**  "
   ]
  },
  {
   "cell_type": "markdown",
   "metadata": {},
   "source": [
    "### Answer: "
   ]
  },
  {
   "cell_type": "markdown",
   "metadata": {},
   "source": [
    "$\\mathcal{O}(N)$"
   ]
  },
  {
   "cell_type": "markdown",
   "metadata": {},
   "source": [
    "### Describe your answer: "
   ]
  },
  {
   "cell_type": "markdown",
   "metadata": {},
   "source": [
    "먼저 for문 실행을 $N-K+1$만큼 한다. 그리고 그 for문 안에서 np.sum함수의 $\\mathcal{O}$를 구해야 하는데, 구글 검색 등으로도 찾을 수가 없어서 그래프를 여러 번 그려봤는데도 계속 같은 결과가 나와서 np.sum함수의 $\\mathcal{O}$를 1로 정하게 되었다. 따라서 $T(N)=N-K+1$ 이므로 $N$을 기준으로 했을때 complexity는 $\\mathcal{O}(N)$이다."
   ]
  },
  {
   "cell_type": "markdown",
   "metadata": {},
   "source": [
    "#### PROBLEM III-3 (10 POINTS)"
   ]
  },
  {
   "cell_type": "markdown",
   "metadata": {},
   "source": [
    " Devise an experiment to verify your hand-computated big-$\\mathcal{O}$ from the problem above.  \n",
    " * Measure runtime of your code while varying length of input 1-D array.  \n",
    " * Plot N(=length of input array) vs time graph.  \n",
    " * Don't forget to show your graph (use <code>plt.show()</code>)\n",
    "\n",
    "> Since you are dealing with time in this problem, there is inevitable experimental error.  \n",
    "> However, as engineers, it is your duty to minimize all sorts of errors!  \n",
    "> To this end, you will use **average time** of large number of <U>executions</U> (for example, $10^3$) instead of exploiting a single execution time."
   ]
  },
  {
   "cell_type": "markdown",
   "metadata": {},
   "source": [
    "### Answer: "
   ]
  },
  {
   "cell_type": "code",
   "execution_count": 21,
   "metadata": {},
   "outputs": [
    {
     "data": {
      "image/png": "[encoded data removed]",
      "text/plain": [
       "<Figure size 432x288 with 1 Axes>"
      ]
     },
     "metadata": {
      "needs_background": "light"
     },
     "output_type": "display_data"
    }
   ],
   "source": [
    "import numpy as np\n",
    "import time\n",
    "import matplotlib.pyplot as plt\n",
    "def timefunc1(trials,func,a,b):\n",
    "    start_time=time.time()\n",
    "    for i in range(trials):\n",
    "        func(a,b)\n",
    "    end_time=time.time()\n",
    "    return (end_time-start_time)/trials\n",
    "\n",
    "kernel_size=3\n",
    "N_time=[timefunc1(1000,moving_average,np.arange(0,i//10),kernel_size) for i in range(100,2001,100)]\n",
    "plt.plot([x//10 for x in range(100,2001,100)],N_time,'r',label='N_time')\n",
    "plt.legend()\n",
    "plt.show()"
   ]
  },
  {
   "cell_type": "markdown",
   "metadata": {},
   "source": [
    "### Describe your answer: "
   ]
  },
  {
   "cell_type": "markdown",
   "metadata": {},
   "source": [
    "input_array 배열의 크기 N에 따른 경과시간의 변화를 보고자 한다. 먼저 timefunc1함수를 만들어서 특정함수를 몇번 실행할 것인지를 입력하고 모든 실행의 평균시간을 산출하도록 하였다. 실행하는데 걸린 시간이자 그래프의 y축인 값을 N_time 변수로 설정하였다. 여기서는 input_arrage의 크기이자 그래프의 x축을 for문을 통해 10부터 200까지 10씩 증가하도록 하였고, kernel_size($K$)를 3으로 고정시켰다. 그 후에는 그래프를 그리는 함수들을 통해 $N$의 값과 함수를 실행시키는 데에 걸리는 시간 사이의 관계를 나타내는 그래프를 표현하였다. moving_average함수의 $T(N)$은 $N-K+1$이고, 그래프의 x축은 $N$인데 그래프 개형이 양의 기울기로 linear한 것을 보면 $T(N)$가 대략적으로 맞다는 것을 확인할 수 있다. 따라서 $\\mathcal{O}(N)$은 참으로 판명되었다."
   ]
  },
  {
   "cell_type": "markdown",
   "metadata": {},
   "source": [
    "#### PROBLEM III-4 (10 POINTS)"
   ]
  },
  {
   "cell_type": "markdown",
   "metadata": {},
   "source": [
    "Devise an additional experiment to verify relationship between big $\\mathcal{O}$ and kernel size.  \n",
    " * Measure runtime of your code while varying kernel size.  \n",
    " * Plot k(=kernel size) vs time graph.  \n",
    " \n",
    " \n",
    " * Experimental settings are equivalent to **PROBLEM III-3**."
   ]
  },
  {
   "cell_type": "markdown",
   "metadata": {},
   "source": [
    "### Answer: "
   ]
  },
  {
   "cell_type": "code",
   "execution_count": 22,
   "metadata": {},
   "outputs": [
    {
     "data": {
      "image/png": "[encoded data removed]",
      "text/plain": [
       "<Figure size 432x288 with 1 Axes>"
      ]
     },
     "metadata": {
      "needs_background": "light"
     },
     "output_type": "display_data"
    }
   ],
   "source": [
    "import numpy as np\n",
    "import time\n",
    "import matplotlib.pyplot as plt\n",
    "\n",
    "def timefunc2(trials,func,a,b):\n",
    "    start_time=time.time()\n",
    "    for i in range(trials):\n",
    "        func(a,b)\n",
    "    end_time=time.time()\n",
    "    return (end_time-start_time)/trials\n",
    "\n",
    "K_time=[timefunc2(1000,moving_average,np.arange(0,100),i) for i in range(5,101,5)]\n",
    "plt.plot([x for x in range(5,101,5)],K_time,'b',label='K_time')\n",
    "plt.legend()\n",
    "plt.show()"
   ]
  },
  {
   "cell_type": "markdown",
   "metadata": {},
   "source": [
    "### Describe your answer: "
   ]
  },
  {
   "cell_type": "markdown",
   "metadata": {},
   "source": [
    "kernel_size의 값에 따른 경과시간의 변화를 보고자 한다. 앞에 있는 문제와 마찬가지로 먼저 timefunc2함수를 만들어서 특정함수를 몇번 실행할 것인지를 입력하고 모든 실행의 평균시간을 산출하도록 하였다. 실행하는데 걸린 시간이자 그래프의 y축인 값을 K_time 변수로 설정하였다. 여기서는 kernel_size($K$)의 값이자 그래프의 x축인 값을 for문을 통해 5부터 100까지 5씩 증가하도록 하였고, input_array 배열을 [0,1,2,...,98,99]로 고정시켰다. 그 후에는 그래프를 그리는 함수들을 통해 $K$의 값과 함수를 실행시키는 데에 걸리는 시간 사이의 관계를 나타내는 그래프를 표현하였다. moving_average함수의 $T(N)$은 $-K+N+1$이고, 그래프의 x축은 $K$인데 그래프 개형이 음의 기울기로 linear한 것을 보면 $T(K)$가 대략적으로 맞다는 것을 확인할 수 있다. 따라서 변수 $K$가 기준일 때 $\\mathcal{O}(K)$은 참으로 판명되었다."
   ]
  },
  {
   "cell_type": "markdown",
   "metadata": {},
   "source": [
    "-------------------------------"
   ]
  },
  {
   "cell_type": "markdown",
   "metadata": {},
   "source": [
    "### \\# PROBLEM IV (40 POINTS)"
   ]
  },
  {
   "cell_type": "markdown",
   "metadata": {},
   "source": [
    "Suppose you are working for a company.  \n",
    "Your supervisor asks you to design a **queue system** for the printer that your group uses.  \n",
    "Since you took \"Data Structures and Algorithms\" class, you said 'piece of cake!'  \n",
    "\n",
    "Your group consists of 10 people.  \n",
    "There are <U>two</U> superiors (whose names are: **'S1', 'S2'**) and <U>eight</U> employees (whose names are: **'E1', 'E2', ... , 'E8'**).  \n",
    "\n",
    "Properties of the printer queue($\\texttt{PQ}$) are specified as follows:  \n",
    "> * There is only <U>one</U> printer for your group.  \n",
    "> * The superiors(S1, S2) **always** have priority in waiting line for the printer. \n",
    "> * PQ follows FIFO order basis among superiors.  \n",
    "> * PQ follows FIFO order among employees, given that there are no superiors waiting in line.  "
   ]
  },
  {
   "cell_type": "markdown",
   "metadata": {},
   "source": [
    "Write a python script implementing the printer queue algorithm specified above using $\\texttt{list}$.  \n",
    "Printer queue **must** include the following methods.  \n",
    " * .is_empty(): returns a boolean value indicating whether waiting line is empty.  \n",
    " * .size($\\texttt{arg}$): $\\texttt{arg}$ is a string, either 'S' or 'E' or None.  \n",
    "\n",
    " > 'S': returns number of superiors in waiting line.  \n",
    " > 'E': returns number of employees in waiting line.  \n",
    " > None: returns total number of people in waiting line.  \n",
    " \n",
    " * .enqueue(name): (returns nothing) adds a person to waiting line.  \n",
    " * .dequeue(): removes the front person in waiting line and returns the person's name.  \n",
    " * .print_status(): (returns nothing) prints waiting line in a sequential manner.  \n",
    " \n",
    "Notes: \n",
    ">1) dequeue() can not be executed when PQ is empty. In this case, print appropriate warning indicating that your PQ is empty.  \n",
    ">2) There is no limit in total length of waiting line.  \n",
    "\n",
    "\n",
    "<span style=\"color:blue\">  **For full credit, use only <U>one</U> $\\texttt{list}$ in $\\texttt{PQ}$.** </span>\n"
   ]
  },
  {
   "cell_type": "markdown",
   "metadata": {},
   "source": [
    "### Answer: "
   ]
  },
  {
   "cell_type": "code",
   "execution_count": 23,
   "metadata": {},
   "outputs": [],
   "source": [
    "class PQ:\n",
    "\n",
    "    def __init__(self):\n",
    "        self.a=[]\n",
    "    \n",
    "    def is_empty(self):\n",
    "        return self.a==[]\n",
    "    \n",
    "    def size(self,name=None):\n",
    "        cnt_S,cnt_E=0,0\n",
    "        n=len(self.a)\n",
    "        for i in range(n):\n",
    "            if self.a[i][0]=='S':\n",
    "                cnt_S += 1\n",
    "            if self.a[i][0]=='E':\n",
    "                cnt_E += 1  \n",
    "        \n",
    "        if name=='S':\n",
    "            return cnt_S\n",
    "                    \n",
    "        if name=='E':\n",
    "            return cnt_E\n",
    "        \n",
    "        else:\n",
    "            return n\n",
    "            \n",
    "    \n",
    "    def enqueue(self,name):\n",
    "        index=0\n",
    "        found=False\n",
    "        if self.a==[]:\n",
    "            self.a.append(name)\n",
    "            \n",
    "        else:\n",
    "            if name[0][0]=='E':\n",
    "                self.a.append(name)\n",
    "            if name[0][0]=='S':\n",
    "                for i in range(len(self.a)):\n",
    "                    if self.a[i][0]=='E' and not found:\n",
    "                        index=i\n",
    "                        found=True\n",
    "                        \n",
    "                if found:\n",
    "                    self.a.insert(index,name)\n",
    "                    \n",
    "                else:\n",
    "                    self.a.append(name)\n",
    "        \n",
    "    def print_status(self):\n",
    "        print(self.a)\n",
    "    \n",
    "    def dequeue(self):\n",
    "        if self.a==[]:\n",
    "            print(\"Your waiting line is EMPTY!!!\")\n",
    "        else:\n",
    "            self.a.pop(0)"
   ]
  },
  {
   "cell_type": "code",
   "execution_count": 24,
   "metadata": {},
   "outputs": [
    {
     "name": "stdout",
     "output_type": "stream",
     "text": [
      "-------- sanity check --------\n",
      "['S1']\n",
      "['S1', 'E1']\n",
      "['S1', 'S2', 'E1']\n",
      "['S1', 'S2', 'E1', 'E5']\n",
      "['S1', 'S2', 'E1', 'E5', 'E1']\n",
      "['S2', 'E1', 'E5', 'E1']\n",
      "['E1', 'E5', 'E1']\n",
      "['E1', 'E5', 'E1', 'E3']\n",
      "['S2', 'E1', 'E5', 'E1', 'E3']\n",
      "total size: 5\n",
      "size of sup: 1\n",
      "size of emp: 4\n",
      "['E1', 'E5', 'E1', 'E3']\n",
      "['E5', 'E1', 'E3']\n",
      "['E1', 'E3']\n",
      "['E3']\n",
      "[]\n",
      "Your waiting line is EMPTY!!!\n",
      "[]\n"
     ]
    }
   ],
   "source": [
    "#Do not change this code\n",
    "print('-------- sanity check --------')\n",
    "pq = PQ()\n",
    "pq.enqueue('S1')\n",
    "pq.print_status()\n",
    "pq.enqueue('E1')\n",
    "pq.print_status()\n",
    "pq.enqueue('S2')\n",
    "pq.print_status()\n",
    "pq.enqueue('E5')\n",
    "pq.print_status()\n",
    "pq.enqueue('E1')\n",
    "pq.print_status()\n",
    "\n",
    "pq.dequeue()\n",
    "pq.print_status()\n",
    "pq.dequeue()\n",
    "pq.print_status()\n",
    "\n",
    "pq.enqueue('E3')\n",
    "pq.print_status()\n",
    "pq.enqueue('S2')\n",
    "pq.print_status()\n",
    "print('total size:', pq.size())\n",
    "print('size of sup:', pq.size('S'))\n",
    "print('size of emp:', pq.size('E'))\n",
    "\n",
    "pq.dequeue()\n",
    "pq.print_status()\n",
    "pq.dequeue()\n",
    "pq.print_status()\n",
    "pq.dequeue()\n",
    "pq.print_status()\n",
    "pq.dequeue()\n",
    "pq.print_status()\n",
    "pq.dequeue()\n",
    "pq.print_status()\n",
    "pq.dequeue()\n",
    "pq.print_status()"
   ]
  },
  {
   "cell_type": "markdown",
   "metadata": {},
   "source": [
    "### Describe your answer: "
   ]
  },
  {
   "cell_type": "markdown",
   "metadata": {},
   "source": [
    "Queue system을 만들기 위해서 우선 PQ클래스를 만들었다. __init__함수를 통해 원소가 없는 배열을 초기설정으로 하였다. self.a배열이 비어있는지를 확인하기 위해 is_empty함수를 만들었다. 배열의 크기는 총 3가지가 존재한다. 첫째는 모든 원소들의 수, 둘째는 S가 들어가 있는 원소들의 수, 셋째는 E가 들어가 있는 원소들의 수이다. 먼저 size함수를 만들고, 입력값인 name의 초기설정을 None으로 한다. S가 들어가 있는 원소의 개수를 세기 위해 변수 cnt_S를 0으로 설정하고, E가 들어가 있는 원소의 개수를 세기 위해 변수 cnt_E를 0으로 설정하였다. 그리고 self.a 배열의 총 길이이자 모든 원소들의 개수를 변수 n으로 설정하였다. for문을 통해 변수 i가 증가함에 따라 그 자릿수에 해당되는 원소에 ‘S’가 존재하면 cnt_S에, ‘E’가 존재하면 cnt_E에 1씩 증가하도록 설정하였다. 마지막으로 입력된 name이 ‘S’이면 cnt_S를, ‘E’이면 cnt_E를, 입력이 없을 경우 n을 리턴 하도록 설정하였다. 이제 원소를 추가해주는 함수 enqueue를 만들어야 한다. 먼저 배열에 원소가 아예 없을 때에는 append함수를 통해 입력 값을 그냥 추가해준다. 하지만 그렇지 않을 경우에는 if문을 이용해 priority에 의한 줄 순서를 만들어야 한다. 우선 입력 값인 name에 E1,E2 등의 원소, 즉 맨 앞 글자가 'E'인 경우 그 원소를 배열에 단순히 추가시켜주면 된다. 하지만 맨 앞 글자가 'S'인 경우 priority에 의해 ‘E’보다 앞에(배열 0번째 자릿수에 가깝게) 서게 된다. 그리고 S끼리는 우선순위가 동등하므로, S사이에서는 나중에 추가되는 것이 뒤로 가야한다. S가 E보다 앞에 서도록 만들기 위해서 E가 배열에서 처음으로 존재하는 자릿수를 index라고 설정하고, 초기 값을 0으로 하였다. 그리고  배열에 'E'를 포함한 원소가 있는지를 확인하기 위해 변수 found를  False로 설정하였다. for문을 이용해 자릿수를 하나씩 증가시키면서 'E'가 존재할 경우 마지막으로 확인한 자릿수를 index에 저장하고 나서 found를 True로 바꾸고 그 바로 앞에 S1이나 S2를 insert함수를 이용해 추가한다. 만약 E가 존재하지 않고 S만 존재한다면 단순히 append 함수를 이용해 맨 뒤로 추가한다. 줄의 현 상황을 알기 위해서 print_status함수를 만들어 self.a를 출력하도록 하였다. dequeue함수를 통해 배열의 0번째 자리에 있는 원소를 pop함수를 이용해 뽑고, 만약 원소가 존재하지 않을 경우 \"Your waiting line is EMPTY!!!\"를 출력하도록 하였다."
   ]
  },
  {
   "cell_type": "markdown",
   "metadata": {},
   "source": [
    "-------------------------------"
   ]
  }
 ],
 "metadata": {
  "anaconda-cloud": {},
  "kernelspec": {
   "display_name": "Python 3",
   "language": "python",
   "name": "python3"
  },
  "language_info": {
   "codemirror_mode": {
    "name": "ipython",
    "version": 3
   },
   "file_extension": ".py",
   "mimetype": "text/x-python",
   "name": "python",
   "nbconvert_exporter": "python",
   "pygments_lexer": "ipython3",
   "version": "3.7.0"
  }
 },
 "nbformat": 4,
 "nbformat_minor": 1
}
