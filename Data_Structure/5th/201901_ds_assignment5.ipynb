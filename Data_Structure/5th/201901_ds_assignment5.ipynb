{
 "cells": [
  {
   "cell_type": "markdown",
   "metadata": {},
   "source": [
    "> ### EEE2020-04: Data Structures & Algorithms\n",
    "\n",
    "# Assignment \\# V: Trees and Tree Algorithms"
   ]
  },
  {
   "cell_type": "markdown",
   "metadata": {},
   "source": [
    "**<div style=\"text-align: right\"> Due date: June 15, 2019. </div>** \n",
    "**<div style=\"text-align: right\"> Please upload your file @ yscec by 9 PM. </div>** \n",
    "<div style=\"text-align: right\"> Youngmin Oh(오영민): <a href=\"mailto:youngmin.oh@yonsei.ac.kr\">youngmin.oh@yonsei.ac.kr</a> </div>\n",
    "<div style=\"text-align: right\"> Sanghoon Lee(이상훈): <a href=\"mailto:sanghslee@yonsei.ac.kr\">sanghslee@yonsei.ac.kr</a> </div>"
   ]
  },
  {
   "cell_type": "markdown",
   "metadata": {},
   "source": [
    "-------------------------------"
   ]
  },
  {
   "cell_type": "markdown",
   "metadata": {},
   "source": [
    "\n",
    "### *Assignment Instructions:*\n",
    "1. Write a program implementing a particular algorithm to solve a given problem.\n",
    "2. You can use both Korean and English for your report.\n",
    "3. **Analyze the algorithm, theoretically and empirically.** \n",
    "4. **Report your results.**  \n",
    "5. <span style=\"color:red\">**DO NOT**</span> alter **any** sanity check codes.  \n",
    "    - You must do assignments and labs yourself. \n",
    "    - <span style=\"color:red\">**Do not copy any part of your friends’ code.**</span>\n",
    "    - **Otherwise, you will get a F grade.**"
   ]
  },
  {
   "cell_type": "markdown",
   "metadata": {},
   "source": [
    "-----------------"
   ]
  },
  {
   "cell_type": "markdown",
   "metadata": {},
   "source": [
    "<h2><span style=\"color:blue\">[Insert your ID HERE] [Insert your name HERE]</span> </h2>"
   ]
  },
  {
   "cell_type": "code",
   "execution_count": null,
   "metadata": {},
   "outputs": [],
   "source": [
    "import datetime\n",
    "print(\"This code is written at \" + str(datetime.datetime.now()))"
   ]
  },
  {
   "cell_type": "markdown",
   "metadata": {},
   "source": [
    "-------------------------------"
   ]
  },
  {
   "cell_type": "markdown",
   "metadata": {},
   "source": [
    "### PROBLEM I: BinaryHeap (30 Points)"
   ]
  },
  {
   "cell_type": "markdown",
   "metadata": {},
   "source": [
    "Implement $\\texttt{BinaryHeap}$ using $\\texttt{TriNode}$ .  \n",
    "\n",
    "To complete $\\texttt{BinaryHeap}$, let us implement $\\texttt{TriNode}$ beforehand.  \n",
    "Refer to Lecture Note 12 p.45-68 (Binary Heap)."
   ]
  },
  {
   "cell_type": "markdown",
   "metadata": {},
   "source": [
    "#### PROBLEM I-1: TriNode (30 Points)"
   ]
  },
  {
   "cell_type": "markdown",
   "metadata": {},
   "source": [
    " Implement $\\texttt{TriNode}$.  \n",
    "> In previous assignments, we exploited $\\texttt{dNode}$ in order to implement $\\texttt{DoublyLinkedList}$.  \n",
    "> Likewise, we will exploit $\\texttt{TriNode}$ in order to implement $\\texttt{BinaryHeap}$.  \n",
    "> \n",
    "> $\\texttt{TriNode}$ contains an item and **<U>three</U>** references to the next node.  \n",
    "\n",
    "> Below are specifications of $\\texttt{TriNode}$ operations.\n",
    ">> <code>\\_\\_init\\_\\_(data)</code>: constructs a TriNode with given <code>data</code>, and default references set to <code>None</code>.  \n",
    ">> <code>set_refer(loc, other_TriNode)</code>: sets reference corresponding to given <code>loc</code>, where <code>loc</code> $\\in$ $\\{$ 'p'(=parent), 'r'(=right), 'l'(=left) $ \\} $.  \n",
    ">> <code>get_data()</code>: returns data stored in the node."
   ]
  },
  {
   "cell_type": "markdown",
   "metadata": {},
   "source": [
    "### Answer:"
   ]
  },
  {
   "cell_type": "code",
   "execution_count": null,
   "metadata": {},
   "outputs": [],
   "source": [
    "class TriNode:\n",
    "    def __init__(self, data):\n",
    "        ##############\n",
    "        # CODE HERE #\n",
    "        ##############\n",
    "        \n",
    "    def set_refer(self, loc, other_TriNode):\n",
    "        ##############\n",
    "        # CODE HERE #\n",
    "        ##############\n",
    "            \n",
    "    def get_data(self):\n",
    "        ##############\n",
    "        # CODE HERE #\n",
    "        ##############"
   ]
  },
  {
   "cell_type": "markdown",
   "metadata": {},
   "source": [
    "#### PROBLEM I-2: Binary Heap (30 Points)"
   ]
  },
  {
   "cell_type": "markdown",
   "metadata": {},
   "source": [
    "Implement $\\texttt{BinaryHeap}$.\n",
    "\n",
    "Below are specifications of $\\texttt{BinaryHeap}$ operations.\n",
    "\n",
    "> <code>\\_\\_init\\_\\_()</code>: creates a new, empty binary heap.  \n",
    "> <code>insert(k)</code>: adds a new item to the heap.  \n",
    "> <code>find_min()</code>: returns the item with the minimum key value, leaving item in the heap.  \n",
    "> <code>pop_min()</code>: returns the item with the minimum key value, removing the item in the heap.  \n",
    "> <code>is_empty()</code>: returns a boolean value indicating whether the heap is empty or not.  \n",
    "> <code>sizeof()</code>: returns the number of items in the heap.  \n",
    "> <code>return_list()</code>: returns a **<U>sorted list</U>** containing all items in the heap."
   ]
  },
  {
   "cell_type": "markdown",
   "metadata": {},
   "source": [
    "Additional Instructions:\n",
    "* You may make use of new methods if needed (for example: perc_up / perc_down / get_last_node / etc...).  \n",
    " * **But make sure to mention them in description.**\n",
    "*  **DO NOT use explicit sorting methods** (for example: list.sort() / np.sort() ... ). Make use of <code>find_min()</code> or <code>pop_min()</code>.  \n",
    "* Make sure your $\\texttt{BinaryHeap}$ satisfies two conditions:\n",
    " * heap ordering property \n",
    " * heap structure property\n",
    " "
   ]
  },
  {
   "cell_type": "markdown",
   "metadata": {},
   "source": [
    "### Answer:"
   ]
  },
  {
   "cell_type": "code",
   "execution_count": null,
   "metadata": {},
   "outputs": [],
   "source": [
    "class BinaryHeap:\n",
    "    def __init__(self):\n",
    "        ##############\n",
    "        # CODE HERE #\n",
    "        ##############\n",
    "\n",
    "    def insert(self, k):\n",
    "        ##############\n",
    "        # CODE HERE #\n",
    "        ##############\n",
    "                \n",
    "    def find_min(self):\n",
    "        ##############\n",
    "        # CODE HERE #\n",
    "        ##############\n",
    "    \n",
    "    def pop_min(self):\n",
    "        ##############\n",
    "        # CODE HERE #\n",
    "        ##############\n",
    "            \n",
    "    def is_empty(self):\n",
    "        ##############\n",
    "        # CODE HERE #\n",
    "        ##############\n",
    "    \n",
    "    def sizeof(self):\n",
    "        ##############\n",
    "        # CODE HERE #\n",
    "        ##############\n",
    "        \n",
    "    def return_list(self):\n",
    "        ##############\n",
    "        # CODE HERE #\n",
    "        ##############"
   ]
  },
  {
   "cell_type": "code",
   "execution_count": null,
   "metadata": {
    "scrolled": true
   },
   "outputs": [],
   "source": [
    "#Sanity Check\n",
    "bh = BinaryHeap()\n",
    "bh.insert(1)\n",
    "bh.insert(3)\n",
    "print('size(2): ', bh.sizeof())\n",
    "print('min(1): ', bh.root.data)\n",
    "bh.insert(4)\n",
    "bh.insert(2)\n",
    "bh.insert(5)\n",
    "bh.pop_min()\n",
    "print('size(4): ', bh.sizeof())\n",
    "print('min(2): ', bh.find_min())\n",
    "bh.insert(6)\n",
    "bh.insert(7)\n",
    "bh.insert(8)\n",
    "bh.insert(9)\n",
    "bh.pop_min()\n",
    "bh.pop_min()\n",
    "print('size(6): ', bh.sizeof())\n",
    "print('min(4): ', bh.find_min())\n",
    "print(bh.return_list())"
   ]
  },
  {
   "cell_type": "markdown",
   "metadata": {},
   "source": [
    "### Description:"
   ]
  },
  {
   "cell_type": "markdown",
   "metadata": {},
   "source": [
    "Description here"
   ]
  },
  {
   "cell_type": "markdown",
   "metadata": {},
   "source": [
    "-----------------"
   ]
  },
  {
   "cell_type": "markdown",
   "metadata": {},
   "source": [
    "### PROBLEM II: Binary Search Tree (50 Points)"
   ]
  },
  {
   "cell_type": "markdown",
   "metadata": {},
   "source": [
    "#### PROBLEM II-1: Fully Balanced Binary Search Tree  (30 Points)"
   ]
  },
  {
   "cell_type": "markdown",
   "metadata": {},
   "source": [
    "Convert the given $\\texttt{Unbalanced BinarySearchTree}$ into $\\texttt{Balanced BinarySearchTree}$.\n",
    "<br>\n",
    "<br>\n",
    "Describe the difference between $\\texttt{List Structure}$ and $\\texttt{Tree Structure}.$\n",
    "<br>\n",
    "\n",
    "\n",
    "**Problem Description**\n",
    "> Implement < def $\\texttt{ubst2bbst}$ > that takes $\\texttt{BinarySearchTree}$ and outputs $\\texttt{Balanced BST}$ if the input is $\\texttt{Unbalanced BST}$. \n",
    ">\n",
    "> To this end, you should firstly implement < class $\\texttt{BinarySearchTree}$ > . \n",
    ">  \n",
    "> After that, implement $\\texttt{ubst2bbst}$. You can define additional functions for $\\texttt{ubst2bbst}$, if necessary.  \n",
    ">\n",
    "> [**NOTICE**]\n",
    ">\n",
    "> Do Not _Insert_ a New Node or _Delete_ the existing Nodes\n",
    ">\n",
    "> Just Rearrange the existing Nodes\n",
    ">\n",
    "> (It means there may be no unique solution)\n"
   ]
  },
  {
   "cell_type": "markdown",
   "metadata": {},
   "source": [
    "### Answer:"
   ]
  },
  {
   "cell_type": "code",
   "execution_count": null,
   "metadata": {},
   "outputs": [],
   "source": [
    "class TreeNode:\n",
    "    def __init__(self, key, val, left = None, right = None, parent = None):\n",
    "        self.key = key\n",
    "        self.payload = val\n",
    "        self.left_child = left\n",
    "        self.right_child = right\n",
    "        self.parent = parent\n",
    "    def is_left_child(self):\n",
    "        return self.parent and self.parent.left_child == self    \n",
    "    def is_right_child(self):\n",
    "        return self.parent and self.parent.right_child == self    \n",
    "    def is_root(self):\n",
    "        return not self.parent    \n",
    "    def is_leaf(self):\n",
    "        return self.right_child is None and self.left_child is None    \n",
    "    def has_any_children(self):\n",
    "        return self.right_child is not None or self.left_child is not None  \n",
    "    def has_both_children(self):\n",
    "        return self.right_child is not None and self.left_child is not None\n",
    "    def replace_node_data(self, key, value, lc, rc): \n",
    "        self.key = key \n",
    "        self.payload = value \n",
    "        self.left_child = lc \n",
    "        self.right_child = rc\n",
    "        if self.left_child is not None:\n",
    "            self.left_child.parent = self \n",
    "        if self.right_child is not None:\n",
    "            self.right_child.parent = self            \n",
    "    def __iter__(self):\n",
    "        if self:\n",
    "            if self.left_child is not None:\n",
    "                for elem in self.left_child:\n",
    "                    yield elem\n",
    "            yield self.key\n",
    "            if self.right_child is not None:\n",
    "                for elem in self.right_child:\n",
    "                    yield elem\n",
    "            \n",
    "class BinarySearchTree: \n",
    "    def __init__(self):\n",
    "        self.root = None\n",
    "        self.size = 0        \n",
    "    def __len__(self): \n",
    "        return self.size    \n",
    "    def __iter__(self):\n",
    "        return self.root.__iter__()    \n",
    "    \n",
    "    ##############\n",
    "    # CODE HERE #\n",
    "    ##############"
   ]
  },
  {
   "cell_type": "code",
   "execution_count": null,
   "metadata": {},
   "outputs": [],
   "source": [
    "def ubst2bbst(unbalanced_tree):\n",
    "    ##############\n",
    "    # CODE HERE #\n",
    "    ##############\n",
    "    \n",
    "    \n",
    "# Define your addtional functions if necessary\n",
    "def \n",
    "\n"
   ]
  },
  {
   "cell_type": "code",
   "execution_count": null,
   "metadata": {},
   "outputs": [],
   "source": [
    "# Sanity Check\n",
    "def print_tree(tree_node, level=0):\n",
    "    if isinstance(tree_node,BinarySearchTree):\n",
    "        print('----- Printing tree structure -----')\n",
    "        print('Total Nodes : ', len(tree_node))\n",
    "        tree_node = tree_node.root\n",
    "        print('(Root) [{:2d}]'.format(tree_node.key) + ':' +str(tree_node.payload))\n",
    "    if tree_node == None:\n",
    "        return\n",
    "    if level != 0:\n",
    "        print(\"     \"*level, end='')\n",
    "        if tree_node.parent.left_child == tree_node:\n",
    "            print('{:2d}-(L) [{:2d}]:'.format(level, tree_node.key) +str(tree_node.payload))\n",
    "        else:\n",
    "            print('{:2d}-(R) [{:2d}]:'.format(level, tree_node.key) +str(tree_node.payload))\n",
    "    print_tree(tree_node.right_child,level+1)\n",
    "    print_tree(tree_node.left_child,level+1)\n",
    "\n",
    "myTree=BinarySearchTree()\n",
    "myTree[0]='Hi'\n",
    "myTree[2]='Am'\n",
    "myTree[1]='i'\n",
    "myTree[3]='A'\n",
    "myTree[4]='+'\n",
    "myTree[5]='No'\n",
    "myTree[7]='You'\n",
    "myTree[6]='are'\n",
    "myTree[9]='not'\n",
    "\n",
    "print_tree(myTree)\n",
    "balanced_tree = ubst2bbst(myTree)\n",
    "print_tree(balanced_tree)"
   ]
  },
  {
   "cell_type": "markdown",
   "metadata": {},
   "source": [
    "### Description:"
   ]
  },
  {
   "cell_type": "markdown",
   "metadata": {},
   "source": [
    "Description here"
   ]
  },
  {
   "cell_type": "markdown",
   "metadata": {},
   "source": [
    "#### PROBLEM II-2: DFS & BFS (30 Points)"
   ]
  },
  {
   "cell_type": "markdown",
   "metadata": {},
   "source": [
    "Implement two standard searching algorithms, $\\texttt{Depth-first Search}$ and $\\texttt{Breadth-first Search}$.\n",
    "<br>\n",
    "<br>\n",
    "Compare their complexity.\n",
    "<br>\n",
    "<br>\n",
    "**Problem Description**\n",
    "> $ DFS : \\texttt{Depth-first Search}$\n",
    ">\n",
    "> It starts at the root node and traverses as far as possible along each branch. If it arrives at a leaf node, it backtracks and moves on to unvisited branch.\n",
    ">\n",
    "> When it encounters a target item, it returns the list that consists of visited nodes(key).\n",
    ">\n",
    "> Otherwise, raise Error\n",
    "\n",
    "> $ BFS  : \\texttt{Breadth-first Search}$\n",
    ">\n",
    "> It starts at the root node and traverses all of the neighbor nodes at the present depth.  \n",
    "> If there is no taget item at the present depth, it moves on to the nodes at the next depth level. \n",
    "> \n",
    "> When it encounters a target item, it returns the list that consists of visited nodes(key)\n",
    ">\n",
    "> Otherwise, raise Error"
   ]
  },
  {
   "cell_type": "markdown",
   "metadata": {},
   "source": [
    "> For further study, refer to [DFS](https://en.wikipedia.org/wiki/Depth-first_search) and [BFS](https://en.wikipedia.org/wiki/Breadth-first_search)"
   ]
  },
  {
   "cell_type": "markdown",
   "metadata": {},
   "source": [
    "### Answer:"
   ]
  },
  {
   "cell_type": "code",
   "execution_count": null,
   "metadata": {},
   "outputs": [],
   "source": [
    "def DFS(tree, target_item):\n",
    "        ##############\n",
    "        # CODE HERE #\n",
    "        ##############\n",
    "\n",
    "    raise ValueError('There is no such item')\n",
    "    \n",
    "def BFS(tree, target_item):\n",
    "        ##############\n",
    "        # CODE HERE #\n",
    "        ##############\n",
    "\n",
    "    raise ValueError('There is no such item')"
   ]
  },
  {
   "cell_type": "code",
   "execution_count": null,
   "metadata": {},
   "outputs": [],
   "source": [
    "# Sanity Check\n",
    "# myTree & balanced_tree from Problem 1-1 \n",
    "print('DFS - Visited Nodes(Key) : ', DFS(myTree, 'not') )\n",
    "print('DFS - Visited Nodes(Key) : ', DFS(balanced_tree, 'not') )\n",
    "\n",
    "print('BFS - Visited Nodes(Key) : ', BFS(myTree, 'not') )\n",
    "print('BFS - Visited Nodes(Key) : ', BFS(balanced_tree, 'not') )"
   ]
  },
  {
   "cell_type": "markdown",
   "metadata": {},
   "source": [
    "### Description:"
   ]
  },
  {
   "cell_type": "markdown",
   "metadata": {},
   "source": [
    "Description here"
   ]
  },
  {
   "cell_type": "markdown",
   "metadata": {},
   "source": [
    "-----------------"
   ]
  }
 ],
 "metadata": {
  "kernelspec": {
   "display_name": "Python 3",
   "language": "python",
   "name": "python3"
  },
  "language_info": {
   "codemirror_mode": {
    "name": "ipython",
    "version": 3
   },
   "file_extension": ".py",
   "mimetype": "text/x-python",
   "name": "python",
   "nbconvert_exporter": "python",
   "pygments_lexer": "ipython3",
   "version": "3.6.5"
  }
 },
 "nbformat": 4,
 "nbformat_minor": 2
}
