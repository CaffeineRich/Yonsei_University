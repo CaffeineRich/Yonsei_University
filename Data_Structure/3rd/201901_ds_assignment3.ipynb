{
 "cells": [
  {
   "cell_type": "markdown",
   "metadata": {},
   "source": [
    "> ### EEE2020-04: Data Structures & Algorithms\n",
    "\n",
    "# Assignment \\#  III: Lists & Recursion"
   ]
  },
  {
   "cell_type": "markdown",
   "metadata": {},
   "source": [
    "**<div style=\"text-align: right\"> Due date: May 14, 2019. </div>** \n",
    "**<div style=\"text-align: right\"> Please upload your file @ yscec by 9 PM. </div>** \n",
    "<div style=\"text-align: right\"> Youngmin Oh(오영민): <a href=\"mailto:youngmin.oh@yonsei.ac.kr\">youngmin.oh@yonsei.ac.kr</a> </div>\n",
    "<div style=\"text-align: right\"> Sanghoon Lee(이상훈): <a href=\"mailto:sanghslee@yonsei.ac.kr\">sanghslee@yonsei.ac.kr</a> </div>"
   ]
  },
  {
   "cell_type": "markdown",
   "metadata": {},
   "source": [
    "-------------------------------"
   ]
  },
  {
   "cell_type": "markdown",
   "metadata": {},
   "source": [
    "\n",
    "### *Assignment Instructions:*\n",
    "1. Write a program implementing a particular algorithm to solve a given problem.\n",
    "2. You can use both Korean and English for your report.\n",
    "3. **Analyze the algorithm, theoretically and empirically.** \n",
    "4. **Report your results.**  \n",
    "    - You must do assignments and labs yourself. \n",
    "    - <span style=\"color:red\">**Do not copy any part of your friends’ code.**</span>\n",
    "    - Otherwise, you will get a F grade."
   ]
  },
  {
   "cell_type": "markdown",
   "metadata": {},
   "source": [
    "-----------------"
   ]
  },
  {
   "cell_type": "markdown",
   "metadata": {},
   "source": [
    "<h2><span style=\"color:blue\">[Insert your ID HERE] [Insert your name HERE]</span> </h2>"
   ]
  },
  {
   "cell_type": "code",
   "execution_count": 1,
   "metadata": {},
   "outputs": [
    {
     "name": "stdout",
     "output_type": "stream",
     "text": [
      "This code is written at 2019-04-08 15:43:39.674346\n"
     ]
    }
   ],
   "source": [
    "import datetime\n",
    "print(\"This code is written at \" + str(datetime.datetime.now()))"
   ]
  },
  {
   "cell_type": "markdown",
   "metadata": {},
   "source": [
    "-------"
   ]
  },
  {
   "cell_type": "markdown",
   "metadata": {},
   "source": [
    "### \\# PROBLEM I (25 POINTS): Circular Linked List Implementation"
   ]
  },
  {
   "cell_type": "markdown",
   "metadata": {},
   "source": [
    "Implement $\\texttt{CLL}$ class using given $\\texttt{Node}$ class.\n",
    "\n",
    "> **Circular Linked List (CLL)** is a <U>linked list</U> where all nodes are connected to form a circle.  \n",
    "> <U>Note that there is no</U> <code>None</code> <U>at the end.</U>  \n",
    "\n",
    "> Figure below is a schematic of a circular linked list.\n",
    "> \n",
    ">![CLL pic](./cl.png)\n",
    "\n",
    "> Your $\\texttt{CLL}$(CircularLinkedList) **must** include following methods:\n",
    "* is_empty(): returns boolean value indicating whether it is empty or not.  \n",
    "* size(): returns number of elements in the list.  \n",
    "* push(item): (returns nothing and) inserts an item at the start of the list.  \n",
    "* display(): (returns nothing and) prints all items in the list."
   ]
  },
  {
   "cell_type": "markdown",
   "metadata": {},
   "source": [
    "**Notice:**  \n",
    "* For full credit:  \n",
    "    * use given $\\texttt{Node}$ class. (Otherwise, you will not get <U>any</U> credit.)  \n",
    "    * return values that are <U>specified</U> in the problem. DO NOT return anything unless mentioned otherwise.    "
   ]
  },
  {
   "cell_type": "code",
   "execution_count": 14,
   "metadata": {},
   "outputs": [],
   "source": [
    "class Node:\n",
    "    def __init__(self, data):\n",
    "        self.data = data\n",
    "        self.next = None\n",
    "        \n",
    "    def get_data(self):\n",
    "        return self.data\n",
    "    \n",
    "    def get_next(self):\n",
    "        return self.next\n",
    "    \n",
    "    def set_data(self, new_data):\n",
    "        self.data = new_data\n",
    "    \n",
    "    def set_next(self, new_next):\n",
    "        self.next = new_next"
   ]
  },
  {
   "cell_type": "markdown",
   "metadata": {},
   "source": [
    "### Answer: "
   ]
  },
  {
   "cell_type": "code",
   "execution_count": 50,
   "metadata": {},
   "outputs": [],
   "source": [
    "class CLL: \n",
    "    #################\n",
    "    ### CODE HERE ###\n",
    "    #################"
   ]
  },
  {
   "cell_type": "code",
   "execution_count": 51,
   "metadata": {
    "scrolled": true
   },
   "outputs": [
    {
     "name": "stdout",
     "output_type": "stream",
     "text": [
      "------sanity check-------\n",
      "True\n",
      "False\n",
      "5 4 3 2 1 \n",
      "size:  5\n",
      "6 5 4 3 2 1 \n",
      "size:  6\n"
     ]
    }
   ],
   "source": [
    "# Sanity Check : You DO NOT have to change this code. Just to check that your outputs are appropriate.\n",
    "print('------sanity check-------')\n",
    "cll = CLL()\n",
    "print(cll.is_empty())\n",
    "cll.push(1)\n",
    "cll.push(2)\n",
    "cll.push(3)\n",
    "cll.push(4)\n",
    "cll.push(5)\n",
    "print(cll.is_empty())\n",
    "cll.display()\n",
    "print('size: ', cll.size())\n",
    "\n",
    "cll.push(6)\n",
    "cll.display()\n",
    "print('size: ', cll.size())"
   ]
  },
  {
   "cell_type": "markdown",
   "metadata": {},
   "source": [
    "### Describe your answer: "
   ]
  },
  {
   "cell_type": "markdown",
   "metadata": {},
   "source": [
    "Description Here"
   ]
  },
  {
   "cell_type": "markdown",
   "metadata": {},
   "source": [
    "-------------------------------"
   ]
  },
  {
   "cell_type": "markdown",
   "metadata": {},
   "source": [
    "### \\# PROBLEM II ( 50 POINTS): Doubly Linked List Implementation"
   ]
  },
  {
   "cell_type": "markdown",
   "metadata": {},
   "source": [
    "Implement the following $\\texttt{DoublyLinkedList}$ class.\n",
    "\n",
    "> Figure below is a schematic of a Doubly Linked List\n",
    "\n",
    "![Alt text](./dl.png)\n",
    "\n",
    "> **Doubly Linked List** is a linked list where one can access nodes both from the first node and the last node. Thus, it can efficiently exploit searching algorithms. <br><br> For example, if you want to access the 3rd Node in the above Figure, searching from the head takes 3 steps while from the tail takes <U>only</U> 1 steps.\n",
    "\n",
    "To this end, complete $\\texttt{dNode}$ class beforehand to completing **$\\texttt{DoublyLinkedList}$**.  \n",
    "\n",
    "* NOTE : $\\texttt{dNode}$ has <U>**two 'pointers'**</U> instead of one. \n",
    "<br> $\\;\\quad\\quad$ Thus, You should <U>consider some **changes**</U> different from the orignal $\\texttt{Node}$ class.\n",
    "* NOTE : For $\\texttt{DoublyLinkedList}$, You should refer the following <U>**descriptions**</U>\n",
    "> <br> def $\\texttt{__init__}$(self): # For initialization \n",
    "<br> def $\\texttt{is_empty}$(self): # return True if List is empty, return False otherwise\n",
    "<br> def $\\texttt{size}$(self): # return the size of List\n",
    "<br> def $\\texttt{push_front}$(self,item): # Insert a new Node between the head and the first Node\n",
    "<br> def $\\texttt{pop_front}$(self): # Delete a Node pointed by the head\n",
    "<br> def $\\texttt{push_back}$(self,item): # Insert a new Node between the last Node and the tail\n",
    "<br> def $\\texttt{pop_back}$(self): # Delete a Node pointed by the tail\n",
    "<br>\n",
    "<br> # NOTICE : If 'loc' is out of the size of List, you should raise Error \n",
    "<br> def $\\texttt{insert}$(self,loc,item): # Insert a new Node at 'loc'\n",
    "<br> def $\\texttt{delete}$(self,loc): # Delete the Node at 'loc'\n",
    "<br>\n",
    "<br> def $\\texttt{search_from_front}$(self, item): # Search the Node contains 'item' from the head\n",
    "<br>  # return elapesd steps\n",
    "<br>\n",
    "<br> def $\\texttt{search_from_rear}$(self): # Search the Node contains 'item' from the tail\n",
    "<br>  # return elapesd steps\n",
    "<br>    \n",
    "<br> def $\\texttt{print_from_front}$(self): # Print all data contained by Nodes from the head\n",
    "<br> def $\\texttt{print_from_rear}$(self): # Print all data contained by Nodes from the tail"
   ]
  },
  {
   "cell_type": "markdown",
   "metadata": {},
   "source": [
    "### Answer: "
   ]
  },
  {
   "cell_type": "code",
   "execution_count": 47,
   "metadata": {},
   "outputs": [],
   "source": [
    "class dNode:\n",
    "    #################\n",
    "    ### CODE HERE ###\n",
    "    #################"
   ]
  },
  {
   "cell_type": "code",
   "execution_count": 48,
   "metadata": {
    "scrolled": false
   },
   "outputs": [],
   "source": [
    "# CODE HERE\n",
    "class DoublyLinkedList:\n",
    "    def __init__(self):\n",
    "        ### CODE HERE ###\n",
    "        ###### END ######\n",
    "    def is_empty(self):\n",
    "        ### CODE HERE ###\n",
    "        ###### END ######\n",
    "    def size(self):\n",
    "        ### CODE HERE ###\n",
    "        ###### END ######\n",
    "    def push_front(self, item):\n",
    "        ### CODE HERE ###\n",
    "        ###### END ######\n",
    "    def pop_front(self):\n",
    "        ### CODE HERE ###\n",
    "        ###### END ######\n",
    "    def push_back(self, item):\n",
    "        ### CODE HERE ###\n",
    "        ###### END ######\n",
    "    def pop_back(self):\n",
    "        ### CODE HERE ###\n",
    "        ###### END ######\n",
    "    def insert(self,loc,item):\n",
    "        ### CODE HERE ###\n",
    "        ###### END ######\n",
    "    def delete(self,loc):\n",
    "        ### CODE HERE ###\n",
    "        ###### END ######\n",
    "    def search_from_front(self,item):\n",
    "        ### CODE HERE ###\n",
    "        ###### END ######\n",
    "    def search_from_rear(self,item):\n",
    "        ### CODE HERE ###\n",
    "        ###### END ######\n",
    "    def print_from_front(self):\n",
    "        ### CODE HERE ###\n",
    "        ###### END ######\n",
    "    def print_from_rear(self):\n",
    "        ### CODE HERE ###\n",
    "        ###### END ######"
   ]
  },
  {
   "cell_type": "code",
   "execution_count": 49,
   "metadata": {
    "scrolled": true
   },
   "outputs": [
    {
     "name": "stdout",
     "output_type": "stream",
     "text": [
      "List Size :  3\n",
      "Deleted :  111\n",
      "List Size :  2\n",
      "List Size :  4\n",
      "Deleted :  23\n",
      "List Size :  7\n",
      "Stored data(Foward) : 5 1 11 123 456 789 369 \n",
      "Stored data(Backward) : 369 789 456 123 11 1 5 \n",
      "Elapsed Steps :  3\n",
      "Elapsed Steps :  5\n",
      "Stored data(Foward) : 5 1 hi 11 123 456 789 369 \n",
      "Stored data(Foward) : 5 1 11 123 456 789 369 \n"
     ]
    }
   ],
   "source": [
    "# Sanity Check : You DO NOT have to change this code. Just to check that your outputs are appropriate.\n",
    "mylist=DoublyLinkedList()\n",
    "mylist.push_front(1)\n",
    "mylist.push_front(5)\n",
    "mylist.push_front(111)\n",
    "print('List Size : ',mylist.size())\n",
    "mylist.pop_front()\n",
    "print('List Size : ',mylist.size())\n",
    "mylist.push_back(11)\n",
    "mylist.push_back(23)\n",
    "print('List Size : ',mylist.size())\n",
    "mylist.pop_back()\n",
    "mylist.push_back(123)\n",
    "mylist.push_back(456)\n",
    "mylist.push_back(789)\n",
    "mylist.push_back(369)\n",
    "print('List Size : ',mylist.size())\n",
    "mylist.print_from_front()\n",
    "mylist.print_from_rear()\n",
    "mylist.search_from_front(11)\n",
    "mylist.search_from_rear(11)\n",
    "mylist.insert(3,'hi')\n",
    "mylist.print_from_front()\n",
    "mylist.delete(3)\n",
    "mylist.print_from_front()"
   ]
  },
  {
   "cell_type": "markdown",
   "metadata": {},
   "source": [
    "### Describe your answer: "
   ]
  },
  {
   "cell_type": "markdown",
   "metadata": {},
   "source": [
    "Description Here"
   ]
  },
  {
   "cell_type": "markdown",
   "metadata": {},
   "source": [
    "-----------"
   ]
  },
  {
   "cell_type": "markdown",
   "metadata": {},
   "source": [
    "### \\# PROBLEM III (25 POINTS): Recursive Algorithms Implementation"
   ]
  },
  {
   "cell_type": "markdown",
   "metadata": {},
   "source": [
    "#### PROBLEM III-(a) (10 POINTS)"
   ]
  },
  {
   "cell_type": "markdown",
   "metadata": {},
   "source": [
    "Implement the following class with **RECURSIVE** $\\texttt{isPrime}$ function.  \n",
    "\n",
    "Below skeleton code specifies methods to be implemented.  "
   ]
  },
  {
   "cell_type": "markdown",
   "metadata": {},
   "source": [
    " <code>    __class Prime()__:\n",
    "\n",
    "        def __init__(self):\n",
    "        # For initialization\n",
    "    \n",
    "        def __reset__(self)\n",
    "        # Reset self.denom as 2\n",
    "    \n",
    "        def isPrime(self, X)\n",
    "        # Returns True if X is a Prime Number. Returns False otherwise.\n",
    "</code>"
   ]
  },
  {
   "cell_type": "markdown",
   "metadata": {},
   "source": [
    "**Notice**:  \n",
    "* A Small Tip For You : Use <code>self.denom</code> to divide _X_  \n",
    "* You may assume that X is a non-negative integer.\n",
    "* You **MUST** use **RECURSION** in <code>isPrime(self, X)</code>"
   ]
  },
  {
   "cell_type": "markdown",
   "metadata": {},
   "source": [
    "### Answer: "
   ]
  },
  {
   "cell_type": "code",
   "execution_count": null,
   "metadata": {},
   "outputs": [],
   "source": [
    "class Prime():\n",
    "    def __init__(self):\n",
    "        self._reset_()\n",
    "    def _reset_(self):\n",
    "        self.denom=2\n",
    "    def isPrime(self,x):\n",
    "    #################\n",
    "    ### CODE HERE ###\n",
    "    #################"
   ]
  },
  {
   "cell_type": "code",
   "execution_count": 52,
   "metadata": {
    "scrolled": true
   },
   "outputs": [
    {
     "name": "stdout",
     "output_type": "stream",
     "text": [
      "Is 2 is a Prime Number? :  True\n",
      "Is 5 is a Prime Number? :  True\n",
      "Is 15 is a Prime Number? :  False\n",
      "Is 171 is a Prime Number? :  False\n",
      "Is 3129 is a Prime Number? :  False\n"
     ]
    }
   ],
   "source": [
    "# Sanity Check : You DO NOT have to change this code. Just to check that your outputs are appropriate.\n",
    "tmp=Prime()\n",
    "print(\"Is 2 is a Prime Number? : \", tmp.isPrime(2))\n",
    "print(\"Is 5 is a Prime Number? : \", tmp.isPrime(5))\n",
    "print(\"Is 15 is a Prime Number? : \", tmp.isPrime(15))\n",
    "print(\"Is 171 is a Prime Number? : \", tmp.isPrime(171))\n",
    "print(\"Is 3129 is a Prime Number? : \", tmp.isPrime(3129))"
   ]
  },
  {
   "cell_type": "markdown",
   "metadata": {},
   "source": [
    "### Describe your answer: "
   ]
  },
  {
   "cell_type": "markdown",
   "metadata": {},
   "source": [
    "Description Here"
   ]
  },
  {
   "cell_type": "markdown",
   "metadata": {},
   "source": [
    "#### PROBLEM III-(b) (15 POINTS)"
   ]
  },
  {
   "cell_type": "markdown",
   "metadata": {},
   "source": [
    "Implement the following Bisection Method by using **RECURSION**\n",
    "\n",
    "![Alt text](./bm.png)\n",
    "\n",
    "> Bisection Method can find the root(solution) of a given polynomial function.\n",
    "<br> Since this method is inherently iterative, it can be easily implemented by _for_ or _while_ loops.\n",
    "\n",
    "> Inputs for BisectionMethod function are specified as follows:  \n",
    ">> <code>def BisectionMethod(f, x0, x1, prev, tol):\n",
    "    f : a given polynomial function\n",
    "    x0 : a left point\n",
    "    x1 : a right point\n",
    "    prev : a previous result\n",
    "    tol : tolerance\n",
    ">> </code>\n",
    "\n",
    "**If \"abs(previous result - current result)<tol\", the iteration stops and returns the result (solution)**  \n",
    "\n",
    "\n",
    "Refer to <a href=\"https://en.wikipedia.org/wiki/Bisection_method\">HERE</a> for details on Bisection Method.  "
   ]
  },
  {
   "cell_type": "markdown",
   "metadata": {},
   "source": [
    "### Answer: "
   ]
  },
  {
   "cell_type": "code",
   "execution_count": null,
   "metadata": {},
   "outputs": [],
   "source": [
    "def f1(x):\n",
    "    return (x-1)**2 - 1\n",
    "def f2(x):\n",
    "    return x**3 + 3*x**2 - 6*x + 2"
   ]
  },
  {
   "cell_type": "code",
   "execution_count": null,
   "metadata": {},
   "outputs": [],
   "source": [
    "def BisectionMethod(f,a,b,prev,tol):\n",
    "    ### CODE HERE ###\n",
    "    ###### END ######"
   ]
  },
  {
   "cell_type": "code",
   "execution_count": 46,
   "metadata": {},
   "outputs": [
    {
     "name": "stdout",
     "output_type": "stream",
     "text": [
      "The solution of x^2 - 2x is  1.9999999990686774\n",
      "The solution of x^3 +3x^2 - 6x + 2 is  -4.449489740654826\n"
     ]
    }
   ],
   "source": [
    "# Sanity Check : You DO NOT have to change this code. Just to check that your outputs are appropriate.\n",
    "sol1=BisectionMethod(f1,1,10,1e8,1e-8)\n",
    "sol2=BisectionMethod(f2,-5,5,1e8,1e-8)\n",
    "if f1(sol1) < 1e-7:\n",
    "    print('The solution of x^2 - 2x is ', sol1)\n",
    "if f2(sol2) < 1e-7:\n",
    "    print('The solution of x^3 +3x^2 - 6x + 2 is ', sol2)"
   ]
  },
  {
   "cell_type": "markdown",
   "metadata": {},
   "source": [
    "### Describe your answer: "
   ]
  },
  {
   "cell_type": "markdown",
   "metadata": {},
   "source": [
    "Description Here"
   ]
  },
  {
   "cell_type": "markdown",
   "metadata": {},
   "source": [
    "--------"
   ]
  }
 ],
 "metadata": {
  "anaconda-cloud": {},
  "kernelspec": {
   "display_name": "Python 3",
   "language": "python",
   "name": "python3"
  },
  "language_info": {
   "codemirror_mode": {
    "name": "ipython",
    "version": 3
   },
   "file_extension": ".py",
   "mimetype": "text/x-python",
   "name": "python",
   "nbconvert_exporter": "python",
   "pygments_lexer": "ipython3",
   "version": "3.7.1"
  }
 },
 "nbformat": 4,
 "nbformat_minor": 1
}
