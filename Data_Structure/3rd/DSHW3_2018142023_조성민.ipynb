{
 "cells": [
  {
   "cell_type": "markdown",
   "metadata": {},
   "source": [
    "> ### EEE2020-04: Data Structures & Algorithms\n",
    "\n",
    "# Assignment \\#  III: Lists & Recursion"
   ]
  },
  {
   "cell_type": "markdown",
   "metadata": {},
   "source": [
    "**<div style=\"text-align: right\"> Due date: May 14, 2019. </div>** \n",
    "**<div style=\"text-align: right\"> Please upload your file @ yscec by 9 PM. </div>** \n",
    "<div style=\"text-align: right\"> Youngmin Oh(오영민): <a href=\"mailto:youngmin.oh@yonsei.ac.kr\">youngmin.oh@yonsei.ac.kr</a> </div>\n",
    "<div style=\"text-align: right\"> Sanghoon Lee(이상훈): <a href=\"mailto:sanghslee@yonsei.ac.kr\">sanghslee@yonsei.ac.kr</a> </div>"
   ]
  },
  {
   "cell_type": "markdown",
   "metadata": {},
   "source": [
    "-------------------------------"
   ]
  },
  {
   "cell_type": "markdown",
   "metadata": {},
   "source": [
    "\n",
    "### *Assignment Instructions:*\n",
    "1. Write a program implementing a particular algorithm to solve a given problem.\n",
    "2. You can use both Korean and English for your report.\n",
    "3. **Analyze the algorithm, theoretically and empirically.** \n",
    "4. **Report your results.**  \n",
    "    - You must do assignments and labs yourself. \n",
    "    - <span style=\"color:red\">**Do not copy any part of your friends’ code.**</span>\n",
    "    - Otherwise, you will get a F grade."
   ]
  },
  {
   "cell_type": "markdown",
   "metadata": {},
   "source": [
    "-----------------"
   ]
  },
  {
   "cell_type": "markdown",
   "metadata": {},
   "source": [
    "<h2><span style=\"color:blue\">[2018142023] [조성민]</span> </h2>"
   ]
  },
  {
   "cell_type": "code",
   "execution_count": 17,
   "metadata": {},
   "outputs": [
    {
     "name": "stdout",
     "output_type": "stream",
     "text": [
      "This code is written at 2019-05-08 14:59:53.054688\n"
     ]
    }
   ],
   "source": [
    "import datetime\n",
    "print(\"This code is written at \" + str(datetime.datetime.now()))"
   ]
  },
  {
   "cell_type": "markdown",
   "metadata": {},
   "source": [
    "-------"
   ]
  },
  {
   "cell_type": "markdown",
   "metadata": {},
   "source": [
    "### \\# PROBLEM I (25 POINTS): Circular Linked List Implementation"
   ]
  },
  {
   "cell_type": "markdown",
   "metadata": {},
   "source": [
    "Implement $\\texttt{CLL}$ class using given $\\texttt{Node}$ class.\n",
    "\n",
    "> **Circular Linked List (CLL)** is a <U>linked list</U> where all nodes are connected to form a circle.  \n",
    "> <U>Note that there is no</U> <code>None</code> <U>at the end.</U>  \n",
    "\n",
    "> Figure below is a schematic of a circular linked list.\n",
    "> \n",
    ">![CLL pic](./cl.png)\n",
    "\n",
    "> Your $\\texttt{CLL}$(CircularLinkedList) **must** include following methods:\n",
    "* is_empty(): returns boolean value indicating whether it is empty or not.  \n",
    "* size(): returns number of elements in the list.  \n",
    "* push(item): (returns nothing and) inserts an item at the start of the list.  \n",
    "* display(): (returns nothing and) prints all items in the list."
   ]
  },
  {
   "cell_type": "markdown",
   "metadata": {},
   "source": [
    "**Notice:**  \n",
    "* For full credit:  \n",
    "    * use given $\\texttt{Node}$ class. (Otherwise, you will not get <U>any</U> credit.)  \n",
    "    * return values that are <U>specified</U> in the problem. DO NOT return anything unless mentioned otherwise.    "
   ]
  },
  {
   "cell_type": "code",
   "execution_count": 18,
   "metadata": {},
   "outputs": [],
   "source": [
    "class Node:\n",
    "    def __init__(self, data):\n",
    "        self.data = data\n",
    "        self.next = None\n",
    "        \n",
    "    def get_data(self):\n",
    "        return self.data\n",
    "    \n",
    "    def get_next(self):\n",
    "        return self.next\n",
    "    \n",
    "    def set_data(self, new_data):\n",
    "        self.data = new_data\n",
    "    \n",
    "    def set_next(self, new_next):\n",
    "        self.next = new_next"
   ]
  },
  {
   "cell_type": "markdown",
   "metadata": {},
   "source": [
    "### Answer: "
   ]
  },
  {
   "cell_type": "code",
   "execution_count": 19,
   "metadata": {},
   "outputs": [],
   "source": [
    "class CLL: \n",
    "    def __init__(self):\n",
    "        self.head=None\n",
    "    def is_empty(self):\n",
    "        return self.head==None\n",
    "    def size(self):\n",
    "        current=self.head\n",
    "        cnt=1\n",
    "        while current.get_next()!=self.head:\n",
    "            current=current.get_next()\n",
    "            cnt+=1\n",
    "        return cnt\n",
    "    def display(self):\n",
    "        current=self.head\n",
    "        while current.get_next()!=self.head:\n",
    "            print(current.get_data(),end=' ')\n",
    "            current=current.get_next()\n",
    "        print(current.get_data())\n",
    "    def push(self,item):\n",
    "        current=self.head\n",
    "        temp=Node(item)\n",
    "        if current==None:\n",
    "            temp.set_next(temp)\n",
    "            self.head=temp\n",
    "        else:\n",
    "            while current.get_next()!=self.head:\n",
    "                current=current.get_next()\n",
    "            current.set_next(temp)\n",
    "            temp.set_next(self.head)\n",
    "            self.head=temp"
   ]
  },
  {
   "cell_type": "code",
   "execution_count": 20,
   "metadata": {
    "scrolled": true
   },
   "outputs": [
    {
     "name": "stdout",
     "output_type": "stream",
     "text": [
      "------sanity check-------\n",
      "True\n",
      "False\n",
      "5 4 3 2 1\n",
      "size:  5\n",
      "6 5 4 3 2 1\n",
      "size:  6\n"
     ]
    }
   ],
   "source": [
    "print('------sanity check-------')\n",
    "cll = CLL()\n",
    "print(cll.is_empty())\n",
    "cll.push(1)\n",
    "cll.push(2)\n",
    "cll.push(3)\n",
    "cll.push(4)\n",
    "cll.push(5)\n",
    "print(cll.is_empty())\n",
    "cll.display()\n",
    "print('size: ', cll.size())\n",
    "\n",
    "cll.push(6)\n",
    "cll.display()\n",
    "print('size: ', cll.size())"
   ]
  },
  {
   "cell_type": "markdown",
   "metadata": {},
   "source": [
    "### Describe your answer: "
   ]
  },
  {
   "cell_type": "markdown",
   "metadata": {},
   "source": [
    "우선 노드를 활용하는 리스트를 만들기 위해 Node 클래스를 정의하였다.(기본적인 Class라 자세한 설명은 생략) 그 후에 CLL 클래스를 정의하고 초기설정인 __init__ 에 head를 None으로 설정하였다.\n",
    "\n",
    "is_empty함수를 통해 리스트에 Node의 존재여부를 head가 None인지 아닌지를 통해 그의 참/거짓을 리턴하도록 하였다.\n",
    "\n",
    "push함수를 먼저 설명하자면, 우선 current를 head로 정의하고, 넣고자 하는 item을 Node로 만들어 temp라고 정의한다. 만약 current가 None, 즉 리스트가 비어있다면 temp의 next가 자기자신을 가리키도록 만들어 혼자서 계속 순회하도록 만든다. 반면 current가 None이 아닐 경우 current의 next가 head를 가리키기 전까지 current가 next값으로 넘어가는 것을 계속 반복시킨다. 최종적으로 current가 리스트의 마지막 값이 되는데, 리스트가 순회해야 하므로 current의 next를 temp로 설정하고 temp의 next를 리스트의 첫 번째 값인 head로 설정한다. 그리고 temp가 리스트의 첫 번째 값이 되므로 head로 설정한다.\n",
    "\n",
    "size함수에서는 말그대로 리스트에 존재하는 Node의 수를 세는 것이므로 우선 cnt를 1로 설정하였다. 그리고 push함수에서 했던 것과 마찬가지로 current의 next가 head가 되기 전까지 current가 next로 넘어가는 것을 반복하며 cnt에 1씩 더한다. 그럼 최종적으로 current가 리스트의 마지막 Node가 되는데, 이 노드는 직접적으로 세지지는 않지만 cnt의 초기값을 1로 두었기 때문에 결과적으로 cnt값은 리스트에 존재하는 원소들의 수가 된다. 마지막으론 cnt값을 리턴해준다.\n",
    "\n",
    "display함수에서는 먼저 head를 current라 하고 current의 next가 head를 가리키기 전까지 current가 next값으로 넘어가는 것을 계속 반복시키면서 current의 data값을 출력한다. 하지만 이렇게 되면 while문 안에서는 끝에서 두 번째 Node까지만 출력하므로, 반복문을 빠져나온 뒤 current이자 리스트의 마지막 값을 추가로 출력시킨다."
   ]
  },
  {
   "cell_type": "markdown",
   "metadata": {},
   "source": [
    "-------------------------------"
   ]
  },
  {
   "cell_type": "markdown",
   "metadata": {},
   "source": [
    "### \\# PROBLEM II ( 50 POINTS): Doubly Linked List Implementation"
   ]
  },
  {
   "cell_type": "markdown",
   "metadata": {},
   "source": [
    "Implement the following $\\texttt{DoublyLinkedList}$ class.\n",
    "\n",
    "> Figure below is a schematic of a Doubly Linked List\n",
    "\n",
    "![Alt text](./dl.png)\n",
    "\n",
    "> **Doubly Linked List** is a linked list where one can access nodes both from the first node and the last node. Thus, it can efficiently exploit searching algorithms. <br><br> For example, if you want to access the 3rd Node in the above Figure, searching from the head takes 3 steps while from the tail takes <U>only</U> 1 steps.\n",
    "\n",
    "To this end, complete $\\texttt{dNode}$ class beforehand to completing **$\\texttt{DoublyLinkedList}$**.  \n",
    "\n",
    "* NOTE : $\\texttt{dNode}$ has <U>**two 'pointers'**</U> instead of one. \n",
    "<br> $\\;\\quad\\quad$ Thus, You should <U>consider some **changes**</U> different from the orignal $\\texttt{Node}$ class.\n",
    "* NOTE : For $\\texttt{DoublyLinkedList}$, You should refer the following <U>**descriptions**</U>\n",
    "> <br> def $\\texttt{__init__}$(self): # For initialization \n",
    "<br> def $\\texttt{is_empty}$(self): # return True if List is empty, return False otherwise\n",
    "<br> def $\\texttt{size}$(self): # return the size of List\n",
    "<br> def $\\texttt{push_front}$(self,item): # Insert a new Node between the head and the first Node\n",
    "<br> def $\\texttt{pop_front}$(self): # Delete a Node pointed by the head\n",
    "<br> def $\\texttt{push_back}$(self,item): # Insert a new Node between the last Node and the tail\n",
    "<br> def $\\texttt{pop_back}$(self): # Delete a Node pointed by the tail\n",
    "<br>\n",
    "<br> # NOTICE : If 'loc' is out of the size of List, you should raise Error \n",
    "<br> def $\\texttt{insert}$(self,loc,item): # Insert a new Node at 'loc'\n",
    "<br> def $\\texttt{delete}$(self,loc): # Delete the Node at 'loc'\n",
    "<br>\n",
    "<br> def $\\texttt{search_from_front}$(self, item): # Search the Node contains 'item' from the head\n",
    "<br>  # return elapesd steps\n",
    "<br>\n",
    "<br> def $\\texttt{search_from_rear}$(self): # Search the Node contains 'item' from the tail\n",
    "<br>  # return elapesd steps\n",
    "<br>    \n",
    "<br> def $\\texttt{print_from_front}$(self): # Print all data contained by Nodes from the head\n",
    "<br> def $\\texttt{print_from_rear}$(self): # Print all data contained by Nodes from the tail"
   ]
  },
  {
   "cell_type": "markdown",
   "metadata": {},
   "source": [
    "### Answer: "
   ]
  },
  {
   "cell_type": "code",
   "execution_count": 21,
   "metadata": {},
   "outputs": [],
   "source": [
    "class dNode:\n",
    "    def __init__(self,item):\n",
    "        self.front=None\n",
    "        self.back=None\n",
    "        self.btw=item\n",
    "    def get_front(self):\n",
    "        return self.front\n",
    "    def get_back(self):\n",
    "        return self.back\n",
    "    def get_btw(self):\n",
    "        return self.btw\n",
    "    def set_front(self,new_front):\n",
    "        self.front=new_front\n",
    "    def set_back(self,new_back):\n",
    "        self.back=new_back\n",
    "    def set_btw(self,new_btw):\n",
    "        self.btw=new_btw"
   ]
  },
  {
   "cell_type": "code",
   "execution_count": 22,
   "metadata": {
    "scrolled": false
   },
   "outputs": [],
   "source": [
    "class DoublyLinkedList:\n",
    "    def __init__(self):\n",
    "        self.head=None\n",
    "        self.tail=None\n",
    "        \n",
    "    def is_empty(self):\n",
    "        return self.head==None and self.tail==None\n",
    "    \n",
    "    def size(self):\n",
    "        cnt=0\n",
    "        current=self.head\n",
    "        while current != None:\n",
    "            current=current.get_back()\n",
    "            cnt+=1\n",
    "        return cnt\n",
    "    \n",
    "    def push_front(self, item):\n",
    "        current=self.head\n",
    "        temp=dNode(item)\n",
    "        if current==None:\n",
    "            self.head=temp\n",
    "            self.tail=self.head\n",
    "        else:\n",
    "            temp.set_back(current)\n",
    "            current.set_front(temp)\n",
    "            self.head=temp\n",
    "            \n",
    "    def pop_front(self):\n",
    "        current=self.head\n",
    "        data=current.get_btw()\n",
    "        current2=current.get_back()\n",
    "        current2.set_front(None)\n",
    "        self.head=current2\n",
    "        print('Deleted : ',data)\n",
    "        \n",
    "    def push_back(self, item):\n",
    "        current=self.tail\n",
    "        temp=dNode(item)\n",
    "        if current==None:\n",
    "            self.tail=temp\n",
    "            self.head=self.tail\n",
    "        else:\n",
    "            temp.set_front(current)\n",
    "            current.set_back(temp)\n",
    "            self.tail=temp\n",
    "            \n",
    "    def pop_back(self):\n",
    "        current=self.tail\n",
    "        data=current.get_btw()\n",
    "        current2=current.get_front()\n",
    "        current2.set_back(None)\n",
    "        self.tail=current2\n",
    "        print('Deleted : ',data)\n",
    "        \n",
    "    def insert(self,loc,item):\n",
    "        temp=dNode(item)\n",
    "        current=self.head\n",
    "        previous=None\n",
    "        if loc==0:\n",
    "            raise ValueError\n",
    "        else:\n",
    "            if loc==1:\n",
    "                if current==None:\n",
    "                    self.head=temp\n",
    "                    self.tail=self.head\n",
    "                else:\n",
    "                    temp.set_back(current)\n",
    "                    current.set_front(temp)\n",
    "                    self.head=temp\n",
    "            if loc>1:\n",
    "                for i in range(loc-1):\n",
    "                    previous=current\n",
    "                    current=current.get_back()\n",
    "                temp.set_front(previous)\n",
    "                temp.set_back(current)\n",
    "                previous.set_back(temp)\n",
    "                current.set_front(temp)\n",
    "                \n",
    "    def delete(self,loc):\n",
    "        current=self.head\n",
    "        previous=None\n",
    "        if loc==0:\n",
    "            raise ValueError\n",
    "        if loc==1:\n",
    "            if current.get_back()==None:\n",
    "                self.head=None\n",
    "                self.tail=None\n",
    "            else:\n",
    "                current1=current.get_back()\n",
    "                current1.set_front(None)\n",
    "                self.head=current1\n",
    "        if loc>1:\n",
    "            for i in range(loc-1):\n",
    "                previous=current\n",
    "                current=current.get_back()\n",
    "            if current==self.tail:\n",
    "                previous.set_back(None)\n",
    "                self.tail=previous\n",
    "            else:\n",
    "                current2=current.get_back()\n",
    "                previous.set_back(current2)\n",
    "                current2.set_front(previous)\n",
    "                \n",
    "    def search_from_front(self,item):\n",
    "        current=self.head\n",
    "        found=False\n",
    "        cnt=1\n",
    "        while current!=None and not found:\n",
    "            if current.get_btw()==item:\n",
    "                found=True\n",
    "            else:\n",
    "                current=current.get_back()\n",
    "                cnt+=1\n",
    "        return print('Elapsed Steps : ',cnt)\n",
    "    \n",
    "    def search_from_rear(self,item):\n",
    "        current=self.tail\n",
    "        found=False\n",
    "        cnt=1\n",
    "        while current!=None and not found:\n",
    "            if current.get_btw()==item:\n",
    "                found=True\n",
    "            else:\n",
    "                current=current.get_front()\n",
    "                cnt+=1\n",
    "        return print('Elapsed Steps : ',cnt)\n",
    "    \n",
    "    def print_from_front(self):\n",
    "        current=self.head\n",
    "        print('Stored data(Foward) :',end=\" \")\n",
    "        while current!=None:\n",
    "            print(current.get_btw(),end=\" \")\n",
    "            current=current.get_back()\n",
    "        print('')\n",
    "        \n",
    "    def print_from_rear(self):\n",
    "        current=self.tail\n",
    "        print('Stored data(Backward) :',end=\" \")\n",
    "        while current!=None:\n",
    "            print(current.get_btw(),end=\" \")\n",
    "            current=current.get_front()\n",
    "        print('')"
   ]
  },
  {
   "cell_type": "code",
   "execution_count": 23,
   "metadata": {
    "scrolled": true
   },
   "outputs": [
    {
     "name": "stdout",
     "output_type": "stream",
     "text": [
      "List Size :  3\n",
      "Deleted :  111\n",
      "List Size :  2\n",
      "List Size :  4\n",
      "Deleted :  23\n",
      "List Size :  7\n",
      "Stored data(Foward) : 5 1 11 123 456 789 369 \n",
      "Stored data(Backward) : 369 789 456 123 11 1 5 \n",
      "Elapsed Steps :  3\n",
      "Elapsed Steps :  5\n",
      "Stored data(Foward) : 5 1 hi 11 123 456 789 369 \n",
      "Stored data(Foward) : 5 1 11 123 456 789 369 \n"
     ]
    }
   ],
   "source": [
    "mylist=DoublyLinkedList()\n",
    "mylist.push_front(1)\n",
    "mylist.push_front(5)\n",
    "mylist.push_front(111)\n",
    "print('List Size : ',mylist.size())\n",
    "mylist.pop_front()\n",
    "print('List Size : ',mylist.size())\n",
    "mylist.push_back(11)\n",
    "mylist.push_back(23)\n",
    "print('List Size : ',mylist.size())\n",
    "mylist.pop_back()\n",
    "mylist.push_back(123)\n",
    "mylist.push_back(456)\n",
    "mylist.push_back(789)\n",
    "mylist.push_back(369)\n",
    "print('List Size : ',mylist.size())\n",
    "mylist.print_from_front()\n",
    "mylist.print_from_rear()\n",
    "mylist.search_from_front(11)\n",
    "mylist.search_from_rear(11)\n",
    "mylist.insert(3,'hi')\n",
    "mylist.print_from_front()\n",
    "mylist.delete(3)\n",
    "mylist.print_from_front()"
   ]
  },
  {
   "cell_type": "markdown",
   "metadata": {},
   "source": [
    "### Describe your answer: "
   ]
  },
  {
   "cell_type": "markdown",
   "metadata": {},
   "source": [
    "dNode를 구현하기 위해서 먼저 front, btw, back 세 칸을 만들고 front를 이전 dNode, btw을 현 dNode의 값, back을 다음 dNode로 정의했다. get_~ 함수는 말 그대로 각 칸에 해당하는 값을 부르는 함수로, set_~ 함수는 각 칸에 어떤 값을 정의내리는 함수로 설정하였다.\n",
    "\n",
    "리스트를 만들기 위해 우선 DoublyLinkedList라는 Class를 정의하였다.\n",
    "초기 설정 __init__ 을 통해 맨 처음인 head와 맨 끝인 tail을 정의하였다.\n",
    "\n",
    "is_empty함수를 만들어 리스트가 비어있는 경우 head와 tail이 모두 None이어야 하므로 이 조건을 만족할 시 True를, 만족하지 않을 시 False를 리턴하도록 하였다.\n",
    "size함수에선 일단 cnt라는 변수를 0으로 설정하여 head에서부터 tail까지의 dNode의 개수를 하나씩 세고(더하고) 이 cnt값을 리턴하도록 하였다.\n",
    "\n",
    "push_front함수에서는 head를 current라 두고 넣어줄 아이템을 Node로 만들어 temp로 설정하였다. 만약 head가 None일 경우 tail 또한 None이기 때문에 리스트는 비어있는 상태이다. 따라서 temp는 head이자 tail이 된다. head가 None이 아닐 경우 temp의 back을 current로 설정하고 current의 front값을 temp로 설정하여 서로 가리키게 하고나서 temp가 head가 되도록 한다.\n",
    "\n",
    "반대로 push_back함수에서는 tail을 current라 두고 넣어줄 item을 dNode로 만들어 temp로 설정하였다. 만약 tail이 None일 경우 head 또한 None이기 때문에 리스트는 비어있는 상태이다. 따라서 temp는 tail이자 head가 된다. tail이 None이 아닐 경우 temp의 front를 current로 설정하고 current의 back값을 temp로 설정하여 서로 가리키게 하고나서 temp가 tail이 되도록 한다.\n",
    "\n",
    "pop_front함수에서는 먼저 current를 head값으로 설정한다. 그리고 current의 btw값을 출력해야 하므로 get_btw함수를 써서 이를 변수 data에 넣는다. 그리고 이 current를 지워야 하므로 current2를 current.get_back()으로 설정하여 current2의 front가 None이 되도록 만들고 이 Node가 head가 되도록 만든다. 그리고 아까 설정했던 data값이 지워졌음을 알리는 문장을 출력한다.\n",
    "\n",
    "반대로 pop_back함수에서는 먼저 current를 tail값으로 설정한다. 그리고 current의 btw값을 출력해야 하므로 get_btw함수를 써서 이를 변수 data에 넣는다. 그리고 이 current를 지워야 하므로 current2를 current.get_front()로 설정하여 current2의 back이 None이 되도록 만들고 이 Node가 tail이 되도록 만든다. 그리고 아까 설정했던 data값이 지워졌음을 알리는 문장을 출력한다.\n",
    "\n",
    "insert함수에서는 먼저 넣어줄 item을 dNode로 만들어 temp로 설정하고, current를 head, previous를 None으로 설정하였다. loc값이 0일 경우 범위 밖이므로 에러를 발생시켰다. loc값이 1일 경우 먼저 리스트가 비어있는 경우에는 temp가 head이자 tail이 되도록 설정하고, 비어있지 않은 경우 item을 맨 첫부분에 넣는 것이므로 따로 loop를 거치지 않고 바로 temp의 back을 current로, current의 front를 temp로 설정하여 서로 가리키도록 하고, head값이 temp가 되도록 설정하였다. 하지만 loc값이 1보다 클 경우 loop를 거쳐야 하기 때문에 for문을 만들어 한 loop 안에 previous는 current가 되고 current는 current의 back이 되도록 설정하였다. 이 과정을 여러번 거친 후에 current와 previous가 최종적으로 결정되면 temp는 이 둘 사이에 들어가야 한다. 따라서 temp의 front는 previous, back은 current가 되도록 설정한다. 그리고 이것이 서로 가리키도록 하기 위해 previous의 back, current의 front가 모두 temp가 되도록 설정하였다.\n",
    "\n",
    "delete함수에서는 먼저 current를 head, previous를 None으로 설정하였다. loc값이 0일 경우 범위 밖이므로 에러를 발생시켰다. loc값이 1일 경우 먼저 리스트에 존재하는 Node가 1개일 경우 이를 지우게 되면 리스트가 비워지는 것이므로 head와 tail을 모두 None으로 설정한다. 하지만 그 외의 경우 첫 번째 Node를 없애는 것이므로 loop를 따로 거치지 않아도 되고, 이때 current1을 current의 back으로 설정하고 current를 없애기 위해서 current를 가리키던 current1의 front를 None으로 바꿔준다. 그리고 current1을 head로 설정한다. loc값이 1보다 큰 경우 for문을 써서 current가 previous가 되고 current의 back이 current가 되는 것을 일정 횟수만큼 반복시킨다. 그 후에 current와 previous가 최종적으로 결정되는데, 만약 current가 tail일 경우 current를 지우기 위해서 current를 가리키는 previous의 back을 None으로 바꿔주고 previous를 tail로 설정한다. 만약 current가 tail이 아닐 경우 current의 back을 current2로 설정하고 previous의 back이 current2를 가리키게 하고 current2의 front를 previous로 설정하여 서로 가리키도록 만든다.\n",
    "\n",
    "지금부터 계속 반복되는 단순 정의는 생략!\n",
    "\n",
    "search_from_front함수에서는 head에서 시작해서 while문을 통해 cnt를 0에서 1씩 더하여 찾고자 하는 item을 찾을 때까지 거친 Node가 몇 개인지를 나타내는 cnt값을 리턴하였다.\n",
    "\n",
    "반대로 search_from_rear함수에서는 tail에서 시작해서 while문을 통해 cnt를 0에서 1씩 더하여 찾고자 하는 item을 찾을 때까지 거친 Node가 몇 개인지를 나타내는 cnt값을 리턴하였다.\n",
    "\n",
    "print_from_front함수에서는 말 그대로 head에서 부터 tail까지 while문을 통해 존재하는 모든 Node의 값을 순서대로 출력하였다.\n",
    "\n",
    "반대로 print_from_rear함수에서는 말 그대로 tail에서 부터 head까지 while문을 통해 존재하는 모든 Node의 값을 역순으로 출력하였다."
   ]
  },
  {
   "cell_type": "markdown",
   "metadata": {},
   "source": [
    "-----------"
   ]
  },
  {
   "cell_type": "markdown",
   "metadata": {},
   "source": [
    "### \\# PROBLEM III (25 POINTS): Recursive Algorithms Implementation"
   ]
  },
  {
   "cell_type": "markdown",
   "metadata": {},
   "source": [
    "#### PROBLEM III-(a) (10 POINTS)"
   ]
  },
  {
   "cell_type": "markdown",
   "metadata": {},
   "source": [
    "Implement the following class with **RECURSIVE** $\\texttt{isPrime}$ function.  \n",
    "\n",
    "Below skeleton code specifies methods to be implemented.  "
   ]
  },
  {
   "cell_type": "markdown",
   "metadata": {},
   "source": [
    " <code>    __class Prime()__:\n",
    "\n",
    "        def __init__(self):\n",
    "        # For initialization\n",
    "    \n",
    "        def __reset__(self)\n",
    "        # Reset self.denom as 2\n",
    "    \n",
    "        def isPrime(self, X)\n",
    "        # Returns True if X is a Prime Number. Returns False otherwise.\n",
    "</code>"
   ]
  },
  {
   "cell_type": "markdown",
   "metadata": {},
   "source": [
    "**Notice**:  \n",
    "* A Small Tip For You : Use <code>self.denom</code> to divide _X_  \n",
    "* You may assume that X is a non-negative integer.\n",
    "* You **MUST** use **RECURSION** in <code>isPrime(self, X)</code>"
   ]
  },
  {
   "cell_type": "markdown",
   "metadata": {},
   "source": [
    "### Answer: "
   ]
  },
  {
   "cell_type": "code",
   "execution_count": 24,
   "metadata": {},
   "outputs": [],
   "source": [
    "class Prime():\n",
    "    def __init__(self):\n",
    "        self._reset_()\n",
    "    def _reset_(self):\n",
    "        self.denom=2\n",
    "    def isPrime(self,x):\n",
    "        if x%self.denom==0:\n",
    "            if x==2:\n",
    "                return True\n",
    "            else:\n",
    "                self._reset_()\n",
    "                return False\n",
    "        else:\n",
    "            if x==self.denom+1:\n",
    "                self._reset_()\n",
    "                return True\n",
    "            else:\n",
    "                self.denom+=1\n",
    "                return self.isPrime(x)"
   ]
  },
  {
   "cell_type": "code",
   "execution_count": 25,
   "metadata": {
    "scrolled": true
   },
   "outputs": [
    {
     "name": "stdout",
     "output_type": "stream",
     "text": [
      "Is 2 is a Prime Number? :  True\n",
      "Is 5 is a Prime Number? :  True\n",
      "Is 15 is a Prime Number? :  False\n",
      "Is 171 is a Prime Number? :  False\n",
      "Is 3129 is a Prime Number? :  False\n"
     ]
    }
   ],
   "source": [
    "tmp=Prime()\n",
    "print(\"Is 2 is a Prime Number? : \", tmp.isPrime(2))\n",
    "print(\"Is 5 is a Prime Number? : \", tmp.isPrime(5))\n",
    "print(\"Is 15 is a Prime Number? : \", tmp.isPrime(15))\n",
    "print(\"Is 171 is a Prime Number? : \", tmp.isPrime(171))\n",
    "print(\"Is 3129 is a Prime Number? : \", tmp.isPrime(3129))"
   ]
  },
  {
   "cell_type": "markdown",
   "metadata": {},
   "source": [
    "### Describe your answer: "
   ]
  },
  {
   "cell_type": "markdown",
   "metadata": {},
   "source": [
    "먼저 __init__ 을 통해 x를 계속해서 나눠줄 denom을 2로 리셋시킨다. isPrime함수에서는 x가 소수인지 아닌지를 판별하는데, 우선 x가 denom으로 나눴을 때 나머지가 0인 경우를 생각해보았다. x가 2인 경우 denom(=2)으로 나눠 떨어지지만 2는 소수이기 때문에 True를 리턴해준다. 만약 x가 2가 아닐 경우 이는 소수가 아니기 때문에 False를 리턴해주고 denom을 2로 리셋시킨다. 하지만 x를 denom으로 나눴을 때 나머지가 0이 아닌 경우에는 denom이 x에서 1을 뺀 숫자까지 도달했는지의 여부를 따져야 한다. 만약 denom이 x-1에 도달했다면 이는 denom이 1씩 증가하며(나중에 설명) x를 계속 나누었는데도 나머지가 계속 0이 아니었음을 뜻하므로 소수라는 것이 증명됐기 때문에 True를 리턴해주고 denom을 2로 리셋시킨다. 하지만 denom이 아직 x-1에 도달하지 못했다면 denom값을 1만큼 증가시키고 isPrime함수를 리턴해줌으로써 앞의 과정을 반복한다."
   ]
  },
  {
   "cell_type": "markdown",
   "metadata": {},
   "source": [
    "#### PROBLEM III-(b) (15 POINTS)"
   ]
  },
  {
   "cell_type": "markdown",
   "metadata": {},
   "source": [
    "Implement the following Bisection Method by using **RECURSION**\n",
    "\n",
    "![Alt text](./bm.png)\n",
    "\n",
    "> Bisection Method can find the root(solution) of a given polynomial function.\n",
    "<br> Since this method is inherently iterative, it can be easily implemented by _for_ or _while_ loops.\n",
    "\n",
    "> Inputs for BisectionMethod function are specified as follows:  \n",
    ">> <code>def BisectionMethod(f, x0, x1, prev, tol):\n",
    "    f : a given polynomial function\n",
    "    x0 : a left point\n",
    "    x1 : a right point\n",
    "    prev : a previous result\n",
    "    tol : tolerance\n",
    ">> </code>\n",
    "\n",
    "**If \"abs(previous result - current result)<tol\", the iteration stops and returns the result (solution)**  \n",
    "\n",
    "\n",
    "Refer to <a href=\"https://en.wikipedia.org/wiki/Bisection_method\">HERE</a> for details on Bisection Method.  "
   ]
  },
  {
   "cell_type": "markdown",
   "metadata": {},
   "source": [
    "### Answer: "
   ]
  },
  {
   "cell_type": "code",
   "execution_count": 26,
   "metadata": {},
   "outputs": [],
   "source": [
    "def f1(x):\n",
    "    return (x-1)**2 - 1\n",
    "def f2(x):\n",
    "    return x**3 + 3*x**2 - 6*x + 2"
   ]
  },
  {
   "cell_type": "code",
   "execution_count": 27,
   "metadata": {},
   "outputs": [],
   "source": [
    "def BisectionMethod(f,a,b,prev,tol):\n",
    "    c=(a+b)/2\n",
    "    if prev-f(c)>0 and prev-f(c)<tol:\n",
    "        return c\n",
    "    if prev-f(c)<0 and prev-f(c)>(-tol):\n",
    "        return c\n",
    "    else:\n",
    "        if f(c)>0:\n",
    "            return BisectionMethod(f,a,c,f(c),tol)\n",
    "        if f(c)<0:\n",
    "            return BisectionMethod(f,c,b,f(c),tol)"
   ]
  },
  {
   "cell_type": "code",
   "execution_count": 28,
   "metadata": {},
   "outputs": [
    {
     "name": "stdout",
     "output_type": "stream",
     "text": [
      "The solution of x^2 - 2x is  2.000000003259629\n",
      "The solution of x^3 +3x^2 - 6x + 2 is  -4.449489742692094\n"
     ]
    }
   ],
   "source": [
    "sol1=BisectionMethod(f1,1,10,1e8,1e-8)\n",
    "sol2=BisectionMethod(f2,-5,5,1e8,1e-8)\n",
    "if f1(sol1) < 1e-7:\n",
    "    print('The solution of x^2 - 2x is ', sol1)\n",
    "if f2(sol2) < 1e-7:\n",
    "    print('The solution of x^3 +3x^2 - 6x + 2 is ', sol2)"
   ]
  },
  {
   "cell_type": "markdown",
   "metadata": {},
   "source": [
    "### Describe your answer: "
   ]
  },
  {
   "cell_type": "markdown",
   "metadata": {},
   "source": [
    "BisectionMethod함수에서 먼저 두 좌표 a,b 사이의 값을 c라 정의한다. 이 c에 해당되는 함수값 f(c)와 prev값의 차이의 절댓값이 tol보다 작을 경우 바로 c를 리턴하도록 하였다. 이때 절댓값은 if문 2개로 대신 표현하였다. 하지만 차이의 절댓값이 tol보다 클 경우, 만약 f(c)가 양수일 경우 f의 해가 a와 c사이에 있으므로 b를 c로 두고, 음수일 경우 f의 해가 c와 b사이에 있으므로 a를 c로 두었다. 그 후에 각 경우에 맞게 BisectionMethod함수에 새롭게 정의된 a,b,prev값을 넣어서 리턴하였다.\n",
    "\n",
    "내가 구한 값이 기존에 주어졌던 모범답안과 다른 이유는 모범답안은 64-bit 컴퓨터로 도출된 것이고, 내 컴퓨터는 32-bit이기 때문이다."
   ]
  },
  {
   "cell_type": "markdown",
   "metadata": {},
   "source": [
    "--------"
   ]
  }
 ],
 "metadata": {
  "anaconda-cloud": {},
  "kernelspec": {
   "display_name": "Python 3",
   "language": "python",
   "name": "python3"
  },
  "language_info": {
   "codemirror_mode": {
    "name": "ipython",
    "version": 3
   },
   "file_extension": ".py",
   "mimetype": "text/x-python",
   "name": "python",
   "nbconvert_exporter": "python",
   "pygments_lexer": "ipython3",
   "version": "3.7.0"
  }
 },
 "nbformat": 4,
 "nbformat_minor": 1
}
