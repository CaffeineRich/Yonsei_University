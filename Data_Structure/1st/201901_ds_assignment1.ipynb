{
 "cells": [
  {
   "cell_type": "markdown",
   "metadata": {},
   "source": [
    "> ### EEE2020-04: Data Structures & Algorithms\n",
    "\n",
    "# Assignment \\# I: Python & OOP"
   ]
  },
  {
   "cell_type": "markdown",
   "metadata": {},
   "source": [
    "<div style=\"text-align: right\"> **Due date: April 6, 2019.** </div> \n",
    "<div style=\"text-align: right\"> **Please upload your file @ yscec by 9 PM.** </div> \n",
    "\n",
    "<div style=\"text-align: right\"> Youngmin Oh(오영민): <a href=\"mailto:youngmin.oh@yonsei.ac.kr\">youngmin.oh@yonsei.ac.kr</a> </div>\n",
    "<div style=\"text-align: right\"> Sanghoon Lee(이상훈): <a href=\"mailto:sanghslee@yonsei.ac.kr\">sanghslee@yonsei.ac.kr</a> </div>"
   ]
  },
  {
   "cell_type": "markdown",
   "metadata": {},
   "source": [
    "-------------------------------"
   ]
  },
  {
   "cell_type": "markdown",
   "metadata": {},
   "source": [
    "\n",
    "### *Assignment Instructions:*\n",
    "1. Write a program implementing a particular algorithm to solve a given problem.\n",
    "2. You can use both Korean and English for your report.\n",
    "3. Since this is your first assignment of the course, comprehensive instructions are given for particular problems.  \n",
    " However, note that this might not be the case for further assignments over the course.\n",
    "4. **Analyze the algorithm, theoretically and empirically.** \n",
    "5. **Report your results.**  \n",
    "    - You must do assignments and labs yourself. \n",
    "    - <span style=\"color:red\">**Do not copy any part of your friends’ code.**</span>\n",
    "    - Otherwise, you will get a F grade."
   ]
  },
  {
   "cell_type": "markdown",
   "metadata": {},
   "source": [
    "-----------------"
   ]
  },
  {
   "cell_type": "markdown",
   "metadata": {},
   "source": [
    "<h2><span style=\"color:blue\">[Insert your ID HERE] [Insert your name HERE]</span> </h2>"
   ]
  },
  {
   "cell_type": "code",
   "execution_count": null,
   "metadata": {
    "collapsed": true
   },
   "outputs": [],
   "source": [
    "import datetime\n",
    "print(\"This code is written at \" + str(datetime.datetime.now()))"
   ]
  },
  {
   "cell_type": "markdown",
   "metadata": {},
   "source": [
    "-------------------------------"
   ]
  },
  {
   "cell_type": "markdown",
   "metadata": {},
   "source": [
    "### \\# PROBLEM I (15 POINTS)\n",
    "\n",
    "> Write a python script to replace each integer in the list below with its square values. \n",
    ">\n",
    " > list: [4, 7, 9, 12, 18]  \n",
    ">\n",
    ">>**Note that below comprehensive instructions are just for reference, and thereby these steps are <U>not</U> mandatory.**  \n",
    ">> **You may solve this problem in other ways, as long as you are using $\\texttt{while}$/$\\texttt{for}$ loop (and $\\texttt{while}$/$\\texttt{for}$ loop only).**  \n",
    "> - assign your list to a variable ($\\texttt{numbers}$).\n",
    "> - append the results to the new list  ($\\texttt{square_numbers}$)."
   ]
  },
  {
   "cell_type": "markdown",
   "metadata": {},
   "source": [
    "#### ANSWER 1: Use $\\texttt{while}$ loop."
   ]
  },
  {
   "cell_type": "code",
   "execution_count": 10,
   "metadata": {},
   "outputs": [],
   "source": [
    "numbers = [4, 7, 9, 12, 18]\n",
    "square_numbers = []"
   ]
  },
  {
   "cell_type": "code",
   "execution_count": 1,
   "metadata": {},
   "outputs": [],
   "source": [
    "# CODE HERE"
   ]
  },
  {
   "cell_type": "code",
   "execution_count": 12,
   "metadata": {
    "scrolled": true
   },
   "outputs": [
    {
     "name": "stdout",
     "output_type": "stream",
     "text": [
      "square numbers list: [16, 49, 81, 144, 324]\n"
     ]
    }
   ],
   "source": [
    "print('square numbers list:', square_numbers)"
   ]
  },
  {
   "cell_type": "markdown",
   "metadata": {},
   "source": [
    "### Describe your answer: "
   ]
  },
  {
   "cell_type": "markdown",
   "metadata": {},
   "source": [
    "Description Here"
   ]
  },
  {
   "cell_type": "markdown",
   "metadata": {},
   "source": [
    "#### ANSWER 2: Use $\\texttt{for}$ loop."
   ]
  },
  {
   "cell_type": "code",
   "execution_count": null,
   "metadata": {
    "collapsed": true
   },
   "outputs": [],
   "source": [
    "numbers = [4, 7, 9, 12, 18]\n",
    "square_numbers = []"
   ]
  },
  {
   "cell_type": "code",
   "execution_count": 2,
   "metadata": {},
   "outputs": [],
   "source": [
    "# CODE HERE"
   ]
  },
  {
   "cell_type": "code",
   "execution_count": null,
   "metadata": {
    "collapsed": true
   },
   "outputs": [],
   "source": [
    "print('square numbers list:', square_numbers)"
   ]
  },
  {
   "cell_type": "markdown",
   "metadata": {},
   "source": [
    "### Describe your answer: "
   ]
  },
  {
   "cell_type": "markdown",
   "metadata": {},
   "source": [
    "Description Here"
   ]
  },
  {
   "cell_type": "markdown",
   "metadata": {},
   "source": [
    "#### ANSWER 3: Use list comprehension.  "
   ]
  },
  {
   "cell_type": "code",
   "execution_count": 3,
   "metadata": {},
   "outputs": [],
   "source": [
    "# CODE HERE"
   ]
  },
  {
   "cell_type": "code",
   "execution_count": 71,
   "metadata": {},
   "outputs": [
    {
     "name": "stdout",
     "output_type": "stream",
     "text": [
      "square numbers list: [16, 49, 81, 144, 324]\n"
     ]
    }
   ],
   "source": [
    "print('square numbers list:', square_numbers)"
   ]
  },
  {
   "cell_type": "markdown",
   "metadata": {},
   "source": [
    "### Describe your answer: "
   ]
  },
  {
   "cell_type": "markdown",
   "metadata": {},
   "source": [
    "Description Here"
   ]
  },
  {
   "cell_type": "markdown",
   "metadata": {},
   "source": [
    "-------------------------------"
   ]
  },
  {
   "cell_type": "markdown",
   "metadata": {},
   "source": [
    "### \\# PROBLEM II (10 POINTS)\n",
    "\n",
    "> Write a python script to sort a list in an <U>ascending</U> order. If the list has a $\\texttt{string}$ element, ignore the element.  \n",
    "> **Do not** use $\\texttt{sort}$().\n",
    "> * use $\\texttt{min}$() function.  \n",
    "> * use $\\texttt{append}$ method in list.  \n",
    "> * use $\\texttt{remove}$ method in list.\n",
    "> * use $\\texttt{type}$(data) function to check type of a data.  \n",
    ">\n",
    ">\n",
    ">Your output should be as follows.  \n",
    ">sort_list: [1, 6, 8, 10, 79, 81, 100, 109]  \n",
    "> * For full credit, use **$\\texttt{while}$ or $\\texttt{for}$ statements**."
   ]
  },
  {
   "cell_type": "markdown",
   "metadata": {},
   "source": [
    "#### ANSWER"
   ]
  },
  {
   "cell_type": "code",
   "execution_count": 105,
   "metadata": {},
   "outputs": [],
   "source": [
    "unsort_list = [1, 109, 'a', 100, 'm', 79, 10, 'p', 6, 8, 81]\n",
    "sorted_list = []"
   ]
  },
  {
   "cell_type": "code",
   "execution_count": 4,
   "metadata": {},
   "outputs": [],
   "source": [
    "# CODE HERE"
   ]
  },
  {
   "cell_type": "code",
   "execution_count": 107,
   "metadata": {},
   "outputs": [
    {
     "name": "stdout",
     "output_type": "stream",
     "text": [
      "sorted_list: [1, 6, 8, 10, 79, 81, 100, 109]\n"
     ]
    }
   ],
   "source": [
    "print('sorted_list:', sorted_list)"
   ]
  },
  {
   "cell_type": "markdown",
   "metadata": {},
   "source": [
    "### Describe your answer: "
   ]
  },
  {
   "cell_type": "markdown",
   "metadata": {},
   "source": [
    "Description Here"
   ]
  },
  {
   "cell_type": "markdown",
   "metadata": {},
   "source": [
    "-------------------------------"
   ]
  },
  {
   "cell_type": "markdown",
   "metadata": {},
   "source": [
    "### \\# PROBLEM III (25 POINTS)"
   ]
  },
  {
   "cell_type": "markdown",
   "metadata": {},
   "source": [
    "#### \\# PROBLEM III-1 (10 POINTS)"
   ]
  },
  {
   "cell_type": "markdown",
   "metadata": {},
   "source": [
    "> Write a python script to capitalize specified letter for each item within a dictionary and return the capitalized letter.    \n",
    "> For key 'i' in a dictionary, capitalize 'i' th letter of the item and return only the capitalized letter.  \n",
    ">     \n",
    "> For example, your output should be as follows.    \n",
    "> {1: 'D', 2: 'T', 3: 'D', 4: 'O', 5: 'E'},  \n",
    "> given the input  \n",
    "> words = {1: 'data', 2:'structure', 3:'and', 4:'algorithms', 5: 'pieceofcake'}\n",
    "> * For full credit, **use $\\texttt{while}$ or $\\texttt{for}$ statements**."
   ]
  },
  {
   "cell_type": "markdown",
   "metadata": {},
   "source": [
    "#### ANSWER"
   ]
  },
  {
   "cell_type": "code",
   "execution_count": 5,
   "metadata": {},
   "outputs": [],
   "source": [
    "words = {1: 'data', 2:'structure', 3:'and', 4:'algorithms', 5: 'pieceofcake'}"
   ]
  },
  {
   "cell_type": "code",
   "execution_count": 6,
   "metadata": {},
   "outputs": [],
   "source": [
    "# CODE HERE"
   ]
  },
  {
   "cell_type": "code",
   "execution_count": 64,
   "metadata": {},
   "outputs": [
    {
     "name": "stdout",
     "output_type": "stream",
     "text": [
      "{1: 'D', 2: 'T', 3: 'D', 4: 'O', 5: 'E'}\n"
     ]
    }
   ],
   "source": [
    "print(words)"
   ]
  },
  {
   "cell_type": "markdown",
   "metadata": {},
   "source": [
    "### Describe your answer: "
   ]
  },
  {
   "cell_type": "markdown",
   "metadata": {},
   "source": [
    "Description Here"
   ]
  },
  {
   "cell_type": "markdown",
   "metadata": {},
   "source": [
    "#### \\# PROBLEM III-2 (15 POINTS)"
   ]
  },
  {
   "cell_type": "markdown",
   "metadata": {},
   "source": [
    " \n",
    " Write a python script to capitalize specified letter for each item within a dictionary.  \n",
    " Return the item with the specified letter capitalized.  \n",
    " In other words, for key 'i' in a dictionary, capitalize 'i' th letter of the item and return the original string with the specified letter capitalized.  \n",
    " >  \n",
    " >That is, your output should be as follows.  \n",
    " {1: 'Data', 2: 'sTructure', 3: 'anD', 4: 'algOrithms', 5: 'piecEofcake'}\n",
    ">\n",
    ">> **Note that below comprehensive instructions are just for reference, and thereby these steps are <U>not</U> mandatory.**  \n",
    ">> **You may solve this problem in other ways.**  \n",
    ">> * for each item in the dictionary, split the string by letters.  \n",
    ">> 'abcd' -> 'a', 'b', 'c', 'd'.  \n",
    ">>    \n",
    " >> * for the 'i'  key value, access to the 'i' th element, and capitalize accessed letter.  \n",
    ">> E.g., for the key of 2, access to 'b', and capitalize: 'b' -> 'B'.  \n",
    ">>  \n",
    ">> * merge the splitted letters.  \n",
    ">> [hint]: refer to p40 in lecture note 4.\n",
    ">> 'a', 'B', 'c', 'd' -> 'aBcd'.  \n",
    ">>  \n",
    ">> * replace original item with new item.  \n",
    ">> 'abcd' -> 'aBcd'  \n",
    ">\n",
    "> * For full credit, **use $\\texttt{while}$ or $\\texttt{for}$ statements**."
   ]
  },
  {
   "cell_type": "markdown",
   "metadata": {},
   "source": [
    "#### ANSWER"
   ]
  },
  {
   "cell_type": "code",
   "execution_count": 73,
   "metadata": {},
   "outputs": [],
   "source": [
    "words = {1: 'data', 2:'structure', 3:'and', 4:'algorithms', 5: 'pieceofcake'}"
   ]
  },
  {
   "cell_type": "code",
   "execution_count": 7,
   "metadata": {},
   "outputs": [],
   "source": [
    "# CODE HERE"
   ]
  },
  {
   "cell_type": "code",
   "execution_count": 75,
   "metadata": {},
   "outputs": [
    {
     "name": "stdout",
     "output_type": "stream",
     "text": [
      "{1: 'Data', 2: 'sTructure', 3: 'anD', 4: 'algOrithms', 5: 'piecEofcake'}\n"
     ]
    }
   ],
   "source": [
    "print(words)"
   ]
  },
  {
   "cell_type": "markdown",
   "metadata": {},
   "source": [
    "### Describe your answer: "
   ]
  },
  {
   "cell_type": "markdown",
   "metadata": {},
   "source": [
    "Description Here"
   ]
  },
  {
   "cell_type": "markdown",
   "metadata": {},
   "source": [
    "-------------------------------"
   ]
  },
  {
   "cell_type": "markdown",
   "metadata": {},
   "source": [
    "### \\# PROBLEM IV (50 POINTS)"
   ]
  },
  {
   "cell_type": "markdown",
   "metadata": {},
   "source": [
    "Complete $\\texttt{Complex}$ class below and run some test codes to check that your output is appropriate.   \n",
    "To this end, you should complete  $\\texttt{magnitude}$ and $\\texttt{phase}$ functions beforehand.    \n",
    "Inputs and outputs of these functions are specifed as follows:  \n",
    "> * Inputs are complex numbers, which can be represented as a list.  \n",
    ">  For example, $a+bj$, where $j$ is $\\sqrt{-1}$, are represented as [a,b].  \n",
    "> * The $\\texttt{magnitude}$ function returns <U>magnitude</U> of a complex number: i.e., $\\sqrt{a^2 + b^2}$\n",
    "> * The  $\\texttt{phase}$ function returns <U>phase</U> of a complex number in <U>degree</U>: i.e., $\\arctan({{b}\\over{a}})$  \n",
    ">     - To implement the $\\arctan$ function in python, import the $\\texttt{math}$ library.  \n",
    ">     - The statement $\\texttt{math.atan}(x)$ returns $\\arctan(x)$ value in radians.  \n",
    ">     - Use $\\pi$ = 3.141592  \n",
    "> * Output of each operation should be a $\\texttt{Complex}$ class.  \n",
    "\n",
    "Note that mathematical operations (for example, multiplication) of complex values differ from those of real values.  \n",
    "> *Also, mathematically, a comparison between two complex numbers using the operators $(<, <=, >, >=)$ is not defined.*  \n",
    "> *In this problem, we will compare two complex numbers by their magnitude.*  \n",
    "\n"
   ]
  },
  {
   "cell_type": "markdown",
   "metadata": {},
   "source": [
    "#### ANSWER"
   ]
  },
  {
   "cell_type": "code",
   "execution_count": 25,
   "metadata": {},
   "outputs": [],
   "source": [
    "import math"
   ]
  },
  {
   "cell_type": "code",
   "execution_count": null,
   "metadata": {},
   "outputs": [],
   "source": [
    "def magnitude(complex_number):\n",
    "    # CODE HERE\n",
    "\n",
    "def phase(complex_number):\n",
    "    # CODE HERE"
   ]
  },
  {
   "cell_type": "code",
   "execution_count": null,
   "metadata": {},
   "outputs": [],
   "source": [
    "class Complex:\n",
    "    def __init__(self, complex_number):\n",
    "        # CODE HERE\n",
    "\n",
    "    def __str__(self):\n",
    "        # CODE HERE\n",
    "            \n",
    "    def __add__(self, other):\n",
    "        # CODE HERE\n",
    "        \n",
    "    def __sub__(self, other):\n",
    "        # CODE HERE\n",
    "        \n",
    "    def __mul__(self, other):\n",
    "        # CODE HERE\n",
    "        \n",
    "    def __eq__(self, other):\n",
    "        # CODE HERE\n",
    "    \n",
    "    def __ne__(self, other):\n",
    "        # CODE HERE\n",
    "    \n",
    "    def __lt__(self, other):\n",
    "        # CODE HERE\n",
    "        \n",
    "    def __le__(self, other):\n",
    "        # CODE HERE\n",
    "        \n",
    "    def __gt__(self, other):\n",
    "        # CODE HERE\n",
    "        \n",
    "    def __ge__(self, other):\n",
    "        # CODE HERE"
   ]
  },
  {
   "cell_type": "code",
   "execution_count": 28,
   "metadata": {
    "scrolled": true
   },
   "outputs": [
    {
     "name": "stdout",
     "output_type": "stream",
     "text": [
      "2.0\n",
      "60.00001248264816\n",
      "add:  3+8j\n",
      "sub:  -1-2j\n",
      "mul:  -13+11j\n",
      "eq:  False\n",
      "ne:  True\n",
      "ge:  False\n",
      "gt:  False\n",
      "le:  True\n",
      "lt:  True\n"
     ]
    }
   ],
   "source": [
    "c1 = [1, 3**(0.5)]\n",
    "print(magnitude(c1)) #output = 2\n",
    "print(phase(c1)) #output = 60\n",
    "\n",
    "c2 = Complex([1, 3])\n",
    "c3 = Complex([2, 5])\n",
    "print('add: ', c2 + c3)\n",
    "print('sub: ', c2 - c3)\n",
    "print('mul: ', c2*c3)\n",
    "print('eq: ', c2 == c3)\n",
    "print('ne: ', c2 != c3)\n",
    "print('ge: ', c2 >= c3)\n",
    "print('gt: ', c2 > c3)\n",
    "print('le: ', c2 <= c3)\n",
    "print('lt: ', c2 < c3)"
   ]
  },
  {
   "cell_type": "markdown",
   "metadata": {},
   "source": [
    "### Describe your answer: "
   ]
  },
  {
   "cell_type": "markdown",
   "metadata": {},
   "source": [
    "Description Here"
   ]
  }
 ],
 "metadata": {
  "anaconda-cloud": {},
  "kernelspec": {
   "display_name": "Python 3",
   "language": "python",
   "name": "python3"
  },
  "language_info": {
   "codemirror_mode": {
    "name": "ipython",
    "version": 3
   },
   "file_extension": ".py",
   "mimetype": "text/x-python",
   "name": "python",
   "nbconvert_exporter": "python",
   "pygments_lexer": "ipython3",
   "version": "3.6.5"
  }
 },
 "nbformat": 4,
 "nbformat_minor": 1
}
