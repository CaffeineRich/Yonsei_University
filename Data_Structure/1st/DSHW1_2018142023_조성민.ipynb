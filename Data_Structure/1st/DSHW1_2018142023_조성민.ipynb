{
 "cells": [
  {
   "cell_type": "markdown",
   "metadata": {},
   "source": [
    "> ### EEE2020-04: Data Structures & Algorithms\n",
    "\n",
    "# Assignment \\# I: Python & OOP"
   ]
  },
  {
   "cell_type": "markdown",
   "metadata": {},
   "source": [
    "<div style=\"text-align: right\"> **Due date: April 6, 2019.** </div> \n",
    "<div style=\"text-align: right\"> **Please upload your file @ yscec by 9 PM.** </div> \n",
    "\n",
    "<div style=\"text-align: right\"> Youngmin Oh(오영민): <a href=\"mailto:youngmin.oh@yonsei.ac.kr\">youngmin.oh@yonsei.ac.kr</a> </div>\n",
    "<div style=\"text-align: right\"> Sanghoon Lee(이상훈): <a href=\"mailto:sanghslee@yonsei.ac.kr\">sanghslee@yonsei.ac.kr</a> </div>"
   ]
  },
  {
   "cell_type": "markdown",
   "metadata": {},
   "source": [
    "-------------------------------"
   ]
  },
  {
   "cell_type": "markdown",
   "metadata": {},
   "source": [
    "\n",
    "### *Assignment Instructions:*\n",
    "1. Write a program implementing a particular algorithm to solve a given problem.\n",
    "2. You can use both Korean and English for your report.\n",
    "3. Since this is your first assignment of the course, comprehensive instructions are given for particular problems.  \n",
    " However, note that this might not be the case for further assignments over the course.\n",
    "4. **Analyze the algorithm, theoretically and empirically.** \n",
    "5. **Report your results.**  \n",
    "    - You must do assignments and labs yourself. \n",
    "    - <span style=\"color:red\">**Do not copy any part of your friends’ code.**</span>\n",
    "    - Otherwise, you will get a F grade."
   ]
  },
  {
   "cell_type": "markdown",
   "metadata": {},
   "source": [
    "-----------------"
   ]
  },
  {
   "cell_type": "markdown",
   "metadata": {},
   "source": [
    "<h2><span style=\"color:blue\">[2018142023] [조성민]</span> </h2>"
   ]
  },
  {
   "cell_type": "code",
   "execution_count": 1,
   "metadata": {},
   "outputs": [
    {
     "name": "stdout",
     "output_type": "stream",
     "text": [
      "This code is written at 2019-03-29 23:14:23.453686\n"
     ]
    }
   ],
   "source": [
    "import datetime\n",
    "print(\"This code is written at \" + str(datetime.datetime.now()))"
   ]
  },
  {
   "cell_type": "markdown",
   "metadata": {},
   "source": [
    "-------------------------------"
   ]
  },
  {
   "cell_type": "markdown",
   "metadata": {},
   "source": [
    "### \\# PROBLEM I (15 POINTS)\n",
    "\n",
    "> Write a python script to replace each integer in the list below with its square values. \n",
    ">\n",
    " > list: [4, 7, 9, 12, 18]  \n",
    ">\n",
    ">>**Note that below comprehensive instructions are just for reference, and thereby these steps are <U>not</U> mandatory.**  \n",
    ">> **You may solve this problem in other ways, as long as you are using $\\texttt{while}$/$\\texttt{for}$ loop (and $\\texttt{while}$/$\\texttt{for}$ loop only).**  \n",
    "> - assign your list to a variable ($\\texttt{numbers}$).\n",
    "> - append the results to the new list  ($\\texttt{square_numbers}$)."
   ]
  },
  {
   "cell_type": "markdown",
   "metadata": {},
   "source": [
    "#### ANSWER 1: Use $\\texttt{while}$ loop."
   ]
  },
  {
   "cell_type": "code",
   "execution_count": 2,
   "metadata": {},
   "outputs": [],
   "source": [
    "numbers = [4, 7, 9, 12, 18]\n",
    "square_numbers = []"
   ]
  },
  {
   "cell_type": "code",
   "execution_count": 3,
   "metadata": {
    "scrolled": true
   },
   "outputs": [],
   "source": [
    "i=0\n",
    "while(i<5):\n",
    "    square_numbers.append(numbers[i]**2)\n",
    "    i+=1"
   ]
  },
  {
   "cell_type": "code",
   "execution_count": 4,
   "metadata": {
    "scrolled": true
   },
   "outputs": [
    {
     "name": "stdout",
     "output_type": "stream",
     "text": [
      "square numbers list: [16, 49, 81, 144, 324]\n"
     ]
    }
   ],
   "source": [
    "print('square numbers list:', square_numbers)"
   ]
  },
  {
   "cell_type": "markdown",
   "metadata": {},
   "source": [
    "### Describe your answer: "
   ]
  },
  {
   "cell_type": "markdown",
   "metadata": {},
   "source": [
    "먼저 배열 numbers의 주소를 i라 설정하고, while문을 통해 i를 1씩 증가시키기 위해 i+=1을 썼다. 그리고 배열 square_numbers는 처음에 크기가 0이기 때문에 square_numbers[i]를 쓰면 안된다는 것을 알았고, .append 함수를 통해 square_numbers에 numbers에 들어있는 값의 제곱값을 하나씩 추가해야 한다는 것을 깨달았다."
   ]
  },
  {
   "cell_type": "markdown",
   "metadata": {},
   "source": [
    "#### ANSWER 2: Use $\\texttt{for}$ loop."
   ]
  },
  {
   "cell_type": "code",
   "execution_count": 5,
   "metadata": {},
   "outputs": [],
   "source": [
    "numbers = [4, 7, 9, 12, 18]\n",
    "square_numbers = []"
   ]
  },
  {
   "cell_type": "code",
   "execution_count": 6,
   "metadata": {},
   "outputs": [],
   "source": [
    "for i in numbers:\n",
    "    square_numbers.append(i**2)"
   ]
  },
  {
   "cell_type": "code",
   "execution_count": 7,
   "metadata": {},
   "outputs": [
    {
     "name": "stdout",
     "output_type": "stream",
     "text": [
      "square numbers list: [16, 49, 81, 144, 324]\n"
     ]
    }
   ],
   "source": [
    "print('square numbers list:', square_numbers)"
   ]
  },
  {
   "cell_type": "markdown",
   "metadata": {},
   "source": [
    "### Describe your answer: "
   ]
  },
  {
   "cell_type": "markdown",
   "metadata": {},
   "source": [
    "for문에서 i가 numbers 배열에 있는 원소들을 4부터 18까지 순서대로 뽑아 append 함수를 통해 i의 제곱을 한 뒤 square_numbers 배열에 하나씩 넣어준다."
   ]
  },
  {
   "cell_type": "markdown",
   "metadata": {},
   "source": [
    "#### ANSWER 3: Use list comprehension.  "
   ]
  },
  {
   "cell_type": "code",
   "execution_count": 8,
   "metadata": {},
   "outputs": [],
   "source": [
    "numbers=[4,7,9,12,18]\n",
    "square_numbers=[i**2 for i in numbers]"
   ]
  },
  {
   "cell_type": "code",
   "execution_count": 9,
   "metadata": {},
   "outputs": [
    {
     "name": "stdout",
     "output_type": "stream",
     "text": [
      "square numbers list: [16, 49, 81, 144, 324]\n"
     ]
    }
   ],
   "source": [
    "print('square numbers list:', square_numbers)"
   ]
  },
  {
   "cell_type": "markdown",
   "metadata": {},
   "source": [
    "### Describe your answer: "
   ]
  },
  {
   "cell_type": "markdown",
   "metadata": {},
   "source": [
    "[i**2 for i in numbers]를 보면 numbers에서 i로 element를 하나씩 순서대로 뽑아 i의 제곱을 해주고 차례대로 square_numbers list에 각 element로 넣어준다"
   ]
  },
  {
   "cell_type": "markdown",
   "metadata": {},
   "source": [
    "-------------------------------"
   ]
  },
  {
   "cell_type": "markdown",
   "metadata": {},
   "source": [
    "### \\# PROBLEM II (10 POINTS)\n",
    "\n",
    "> Write a python script to sort a list in an <U>ascending</U> order. If the list has a $\\texttt{string}$ element, ignore the element.  \n",
    "> **Do not** use $\\texttt{sort}$().\n",
    "> * use $\\texttt{min}$() function.  \n",
    "> * use $\\texttt{append}$ method in list.  \n",
    "> * use $\\texttt{remove}$ method in list.\n",
    "> * use $\\texttt{type}$(data) function to check type of a data.  \n",
    ">\n",
    ">\n",
    ">Your output should be as follows.  \n",
    ">sort_list: [1, 6, 8, 10, 79, 81, 100, 109]  \n",
    "> * For full credit, use **$\\texttt{while}$ or $\\texttt{for}$ statements**."
   ]
  },
  {
   "cell_type": "markdown",
   "metadata": {},
   "source": [
    "#### ANSWER"
   ]
  },
  {
   "cell_type": "code",
   "execution_count": 10,
   "metadata": {},
   "outputs": [],
   "source": [
    "unsort_list = [1, 109, 'a', 100, 'm', 79, 10, 'p', 6, 8, 81]\n",
    "sorted_list = []"
   ]
  },
  {
   "cell_type": "code",
   "execution_count": 11,
   "metadata": {},
   "outputs": [],
   "source": [
    "for i in unsort_list:\n",
    "    if type(i)== str:\n",
    "        unsort_list.remove(i)\n",
    "\n",
    "while(unsort_list):\n",
    "    a=min(unsort_list)\n",
    "    sorted_list.append(a)\n",
    "    unsort_list.remove(a)"
   ]
  },
  {
   "cell_type": "code",
   "execution_count": 12,
   "metadata": {},
   "outputs": [
    {
     "name": "stdout",
     "output_type": "stream",
     "text": [
      "sorted_list: [1, 6, 8, 10, 79, 81, 100, 109]\n"
     ]
    }
   ],
   "source": [
    "print('sorted_list:', sorted_list)"
   ]
  },
  {
   "cell_type": "markdown",
   "metadata": {},
   "source": [
    "### Describe your answer: "
   ]
  },
  {
   "cell_type": "markdown",
   "metadata": {},
   "source": [
    "unsort_list 배열에서 문자열인 것들을 제거하기 위해 일단 정수인지 문자열인지를 판별하는 type 함수를 썼고, if문을 써서 만약 문자열일 경우 remove를 통해 그 원소를 제거하였다.\n",
    "이 과정을 거치고 나면 unsort_list에는 정수만 남게 된다.\n",
    "while문을 통해 unsort_list 배열에서 가장 작은 값을 min함수를 통해 변수 a로 하나씩 빼내어 append 함수를 통해 sorted_list 배열에 추가하고 빼낸 원소는 remove 함수를 통해 지웠다. unsort_list 배열의 원소들이 모두 지워지고 나면 unsort_list의 값은 0이 되어  while문을 빠져나오게 된다. 따라서 sorted_list 배열에는 unsort_list에 있는 원소들이 오름차순으로 배열된다."
   ]
  },
  {
   "cell_type": "markdown",
   "metadata": {},
   "source": [
    "-------------------------------"
   ]
  },
  {
   "cell_type": "markdown",
   "metadata": {},
   "source": [
    "### \\# PROBLEM III (25 POINTS)"
   ]
  },
  {
   "cell_type": "markdown",
   "metadata": {},
   "source": [
    "#### \\# PROBLEM III-1 (10 POINTS)"
   ]
  },
  {
   "cell_type": "markdown",
   "metadata": {},
   "source": [
    "> Write a python script to capitalize specified letter for each item within a dictionary and return the capitalized letter.    \n",
    "> For key 'i' in a dictionary, capitalize 'i' th letter of the item and return only the capitalized letter.  \n",
    ">     \n",
    "> For example, your output should be as follows.    \n",
    "> {1: 'D', 2: 'T', 3: 'D', 4: 'O', 5: 'E'},  \n",
    "> given the input  \n",
    "> words = {1: 'data', 2:'structure', 3:'and', 4:'algorithms', 5: 'pieceofcake'}\n",
    "> * For full credit, **use $\\texttt{while}$ or $\\texttt{for}$ statements**."
   ]
  },
  {
   "cell_type": "markdown",
   "metadata": {},
   "source": [
    "#### ANSWER"
   ]
  },
  {
   "cell_type": "code",
   "execution_count": 13,
   "metadata": {},
   "outputs": [],
   "source": [
    "words = {1: 'data', 2:'structure', 3:'and', 4:'algorithms', 5: 'pieceofcake'}"
   ]
  },
  {
   "cell_type": "code",
   "execution_count": 14,
   "metadata": {},
   "outputs": [],
   "source": [
    "for i in words:\n",
    "    a=words[i]\n",
    "    b=a[i-1]\n",
    "    words[i]=b.upper()"
   ]
  },
  {
   "cell_type": "code",
   "execution_count": 15,
   "metadata": {},
   "outputs": [
    {
     "name": "stdout",
     "output_type": "stream",
     "text": [
      "{1: 'D', 2: 'T', 3: 'D', 4: 'O', 5: 'E'}\n"
     ]
    }
   ],
   "source": [
    "print(words)"
   ]
  },
  {
   "cell_type": "markdown",
   "metadata": {},
   "source": [
    "### Describe your answer: "
   ]
  },
  {
   "cell_type": "markdown",
   "metadata": {},
   "source": [
    "for문 사용하고 변수 i로 dictionaray인 words의 key값을 뽑는다\n",
    "변수 a로 각 words의 key값에 해당하는 value값을 뽑고, 각 value마다 i번째(배열상에서는 i-1번째)의 알파벳을 변수 b에 넣는다. 그 후에 다시 words의 각 해당 key값의 value에 변수 b를 대문자로 바꾼 알파벳을 넣으면 된다. "
   ]
  },
  {
   "cell_type": "markdown",
   "metadata": {},
   "source": [
    "#### \\# PROBLEM III-2 (15 POINTS)"
   ]
  },
  {
   "cell_type": "markdown",
   "metadata": {},
   "source": [
    " \n",
    " Write a python script to capitalize specified letter for each item within a dictionary.  \n",
    " Return the item with the specified letter capitalized.  \n",
    " In other words, for key 'i' in a dictionary, capitalize 'i' th letter of the item and return the original string with the specified letter capitalized.  \n",
    " >  \n",
    " >That is, your output should be as follows.  \n",
    " {1: 'Data', 2: 'sTructure', 3: 'anD', 4: 'algOrithms', 5: 'piecEofcake'}\n",
    ">\n",
    ">> **Note that below comprehensive instructions are just for reference, and thereby these steps are <U>not</U> mandatory.**  \n",
    ">> **You may solve this problem in other ways.**  \n",
    ">> * for each item in the dictionary, split the string by letters.  \n",
    ">> 'abcd' -> 'a', 'b', 'c', 'd'.  \n",
    ">>    \n",
    " >> * for the 'i'  key value, access to the 'i' th element, and capitalize accessed letter.  \n",
    ">> E.g., for the key of 2, access to 'b', and capitalize: 'b' -> 'B'.  \n",
    ">>  \n",
    ">> * merge the splitted letters.  \n",
    ">> [hint]: refer to p40 in lecture note 4.\n",
    ">> 'a', 'B', 'c', 'd' -> 'aBcd'.  \n",
    ">>  \n",
    ">> * replace original item with new item.  \n",
    ">> 'abcd' -> 'aBcd'  \n",
    ">\n",
    "> * For full credit, **use $\\texttt{while}$ or $\\texttt{for}$ statements**."
   ]
  },
  {
   "cell_type": "markdown",
   "metadata": {},
   "source": [
    "#### ANSWER"
   ]
  },
  {
   "cell_type": "code",
   "execution_count": 16,
   "metadata": {},
   "outputs": [],
   "source": [
    "words = {1: 'data', 2:'structure', 3:'and', 4:'algorithms', 5: 'pieceofcake'}"
   ]
  },
  {
   "cell_type": "code",
   "execution_count": 17,
   "metadata": {},
   "outputs": [],
   "source": [
    "for i in words:\n",
    "    a=words[i]\n",
    "    b=a[i-1]\n",
    "    k=b.upper()\n",
    "    x=list(a)\n",
    "    x.remove(b)\n",
    "    x.insert(i-1,k)\n",
    "    a=''.join(x)\n",
    "    words[i]=a"
   ]
  },
  {
   "cell_type": "code",
   "execution_count": 18,
   "metadata": {},
   "outputs": [
    {
     "name": "stdout",
     "output_type": "stream",
     "text": [
      "{1: 'Data', 2: 'sTructure', 3: 'anD', 4: 'algOrithms', 5: 'piceEofcake'}\n"
     ]
    }
   ],
   "source": [
    "print(words)"
   ]
  },
  {
   "cell_type": "markdown",
   "metadata": {},
   "source": [
    "### Describe your answer: "
   ]
  },
  {
   "cell_type": "markdown",
   "metadata": {},
   "source": [
    "우선 for문을 이용하여 변수 i에 words의 key값을 넣는다.\n",
    "변수 a에 words의 value값을 넣고, 각 value마다 i번째(배열상에서는 i-1번째)의 알파벳을 변수 b에 넣는다. 변수 k에는 b를 대문자로 변환한 알파벳을 넣는다. 변수 a는 문자열이고, 이로인해 remove 함수를 사용할 수 없기 때문에 리스트형으로 변환하여 변수 x에 넣는다. 리스트 x를 이용해 i-1번째의 소문자를 제거 후 대문자로 바꾼 알파벳을 함수 insert를 이용해 i-1번째에 자리에 넣는다. 그리고 나서 다시 변수 a에 join 함수를 이용하여 리스트인 x를 문자열로 바꿔주고, 그 a를 다시 words의 해당 key값에 맞는 value에 넣어준다."
   ]
  },
  {
   "cell_type": "markdown",
   "metadata": {},
   "source": [
    "-------------------------------"
   ]
  },
  {
   "cell_type": "markdown",
   "metadata": {},
   "source": [
    "### \\# PROBLEM IV (50 POINTS)"
   ]
  },
  {
   "cell_type": "markdown",
   "metadata": {},
   "source": [
    "Complete $\\texttt{Complex}$ class below and run some test codes to check that your output is appropriate.   \n",
    "To this end, you should complete  $\\texttt{magnitude}$ and $\\texttt{phase}$ functions beforehand.    \n",
    "Inputs and outputs of these functions are specifed as follows:  \n",
    "> * Inputs are complex numbers, which can be represented as a list.  \n",
    ">  For example, $a+bj$, where $j$ is $\\sqrt{-1}$, are represented as [a,b].  \n",
    "> * The $\\texttt{magnitude}$ function returns <U>magnitude</U> of a complex number: i.e., $\\sqrt{a^2 + b^2}$\n",
    "> * The  $\\texttt{phase}$ function returns <U>phase</U> of a complex number in <U>degree</U>: i.e., $\\arctan({{b}\\over{a}})$  \n",
    ">     - To implement the $\\arctan$ function in python, import the $\\texttt{math}$ library.  \n",
    ">     - The statement $\\texttt{math.atan}(x)$ returns $\\arctan(x)$ value in radians.  \n",
    ">     - Use $\\pi$ = 3.141592  \n",
    "> * Output of each operation should be a $\\texttt{Complex}$ class.  \n",
    "\n",
    "Note that mathematical operations (for example, multiplication) of complex values differ from those of real values.  \n",
    "> *Also, mathematically, a comparison between two complex numbers using the operators $(<, <=, >, >=)$ is not defined.*  \n",
    "> *In this problem, we will compare two complex numbers by their magnitude.*  \n",
    "\n"
   ]
  },
  {
   "cell_type": "markdown",
   "metadata": {},
   "source": [
    "#### ANSWER"
   ]
  },
  {
   "cell_type": "code",
   "execution_count": 19,
   "metadata": {},
   "outputs": [],
   "source": [
    "import math"
   ]
  },
  {
   "cell_type": "code",
   "execution_count": 20,
   "metadata": {},
   "outputs": [],
   "source": [
    "def magnitude(complex_number):\n",
    "    a=complex_number[0]\n",
    "    b=complex_number[1]\n",
    "    c=math.sqrt(a*a+b*b)\n",
    "    return c\n",
    "\n",
    "def phase(complex_number):\n",
    "    a=complex_number[0]\n",
    "    b=complex_number[1]\n",
    "    c=math.atan(b/a)\n",
    "    d=c/3.141592*180\n",
    "    return d"
   ]
  },
  {
   "cell_type": "code",
   "execution_count": 21,
   "metadata": {},
   "outputs": [],
   "source": [
    "class Complex:\n",
    "    def __init__(self, complex_number):\n",
    "        self.a=complex_number[0]\n",
    "        self.b=complex_number[1]\n",
    "\n",
    "    def __str__(self):\n",
    "        if self.b>0:\n",
    "            return str(self.a)+\"+\"+str(self.b)+\"j\"\n",
    "        \n",
    "        elif self.b==0:\n",
    "            return str(self.a)\n",
    "        \n",
    "        elif self.b<0:\n",
    "            return str(self.a)+str(self.b)+\"j\"\n",
    "            \n",
    "    def __add__(self, other):\n",
    "        new_a=self.a+other.a\n",
    "        new_b=self.b+other.b\n",
    "        return Complex([new_a,new_b])\n",
    "        \n",
    "    def __sub__(self, other):\n",
    "        new_a=self.a-other.a\n",
    "        new_b=self.b-other.b\n",
    "        return Complex([new_a,new_b])\n",
    "        \n",
    "    def __mul__(self, other):\n",
    "        new_a=self.a*other.a-self.b*other.b\n",
    "        new_b=self.a*other.b+self.b*other.a\n",
    "        return Complex([new_a,new_b])\n",
    "        \n",
    "    def __eq__(self, other):\n",
    "        n1=magnitude([self.a,self.b])\n",
    "        n2=magnitude([other.a,other.b])\n",
    "        return n1==n2\n",
    "    \n",
    "    def __ne__(self, other):\n",
    "        n1=magnitude([self.a,self.b])\n",
    "        n2=magnitude([other.a,other.b])\n",
    "        return n1!=n2\n",
    "    \n",
    "    def __lt__(self, other):\n",
    "        n1=magnitude([self.a,self.b])\n",
    "        n2=magnitude([other.a,other.b])\n",
    "        return n1<n2\n",
    "        \n",
    "    def __le__(self, other):\n",
    "        n1=magnitude([self.a,self.b])\n",
    "        n2=magnitude([other.a,other.b])\n",
    "        return n1<=n2\n",
    "        \n",
    "    def __gt__(self, other):\n",
    "        n1=magnitude([self.a,self.b])\n",
    "        n2=magnitude([other.a,other.b])\n",
    "        return n1>n2\n",
    "        \n",
    "    def __ge__(self, other):\n",
    "        n1=magnitude([self.a,self.b])\n",
    "        n2=magnitude([other.a,other.b])\n",
    "        return n1>=n2"
   ]
  },
  {
   "cell_type": "code",
   "execution_count": 22,
   "metadata": {
    "scrolled": true
   },
   "outputs": [
    {
     "name": "stdout",
     "output_type": "stream",
     "text": [
      "1.9999999999999998\n",
      "60.00001248264815\n",
      "add:  3+8j\n",
      "sub:  -1-2j\n",
      "mul:  -13+11j\n",
      "eq:  False\n",
      "ne:  True\n",
      "ge:  False\n",
      "gt:  False\n",
      "le:  True\n",
      "lt:  True\n"
     ]
    }
   ],
   "source": [
    "c1 = [1, 3**(0.5)]\n",
    "print(magnitude(c1)) #output = 2\n",
    "print(phase(c1)) #output = 60\n",
    "\n",
    "c2 = Complex([1, 3])\n",
    "c3 = Complex([2, 5])\n",
    "print('add: ', c2 + c3)\n",
    "print('sub: ', c2 - c3)\n",
    "print('mul: ', c2*c3)\n",
    "print('eq: ', c2 == c3)\n",
    "print('ne: ', c2 != c3)\n",
    "print('ge: ', c2 >= c3)\n",
    "print('gt: ', c2 > c3)\n",
    "print('le: ', c2 <= c3)\n",
    "print('lt: ', c2 < c3)"
   ]
  },
  {
   "cell_type": "markdown",
   "metadata": {},
   "source": [
    "### Describe your answer: "
   ]
  },
  {
   "cell_type": "markdown",
   "metadata": {},
   "source": [
    "우선 import math 명령을 통해 math 함수를 모두 불러온다.\n",
    "magnitude 함수를 만들 때 변수 a를 complex_number의 정수부분, 변수 b를 complex_number의 복소수 부분으로 설정하고, 변수 c를 a의 제곱과 b의 제곱을 더한 후에 이의 제곱근으로 설정하고 c값을 리턴하도록 하였다\n",
    "phase 함수를 만들 때 magnitude 함수를 만들 때와 똑같이 변수 a,b를 설정하고 변수 c로 arctan(b/a)값을 라디안으로 받았다. 하지만 phase 함수는 도 단위로 결과값을 나타내야 하므로 c값에 3.141592를 나누고 180을 곱하여 이를 변수 d라 하고 d값을 리턴하였다.\n",
    "Complex 클래스에서 우선 __init__에서는 self.a를 complex_number의 정수부분, self.b를 complex_number의 복소수 부분으로 정의하였다.\n",
    "__str__를 설정하는 이유는 object인 self.a와 self.b를 str으로 변환하여 a+bj꼴로 수월하게 리턴하기 위함이다. 복소수 부분에서 음수가 될 경우를 대비해서, 리턴의 경우 수를 if문을 통해 3가지로 나눴다(양수, 0, 음수)\n",
    "__add__, __sub__등은 단순한 연산자 등을 이용하는 거라서 딱히 설명할 것이 없을 듯 하다.\n",
    "그런데 한가지 이상한 점은 magnitude 함수를 만들 때 c=math.sqrt(a*a+b*b) 이 명령에서 a=1, b=3**0.5 를 넣으면 c=2가 되어야 하는데 1.9999... 꼴로 나온다는 것이다. 원인을 한번 추측해봤는데, 3**(0.5)에서 프로그램의 한계로 인해 소수점 아래로 무한대까지 갈 수 없고, 유한한 소수점자리를 가진 3**(0.5)을 제곱했을 때 완전한 자연수 3이 나오지 않았을 것이다. 따라서 1**2+3**(0.5)의 결과는 완전한 자연수 4가 아니므로 sqrt함수를 썼을 때 원래 나와야하는 값인 2가 안 나왔을 것이다."
   ]
  },
  {
   "cell_type": "code",
   "execution_count": null,
   "metadata": {},
   "outputs": [],
   "source": []
  }
 ],
 "metadata": {
  "anaconda-cloud": {},
  "kernelspec": {
   "display_name": "Python 3",
   "language": "python",
   "name": "python3"
  },
  "language_info": {
   "codemirror_mode": {
    "name": "ipython",
    "version": 3
   },
   "file_extension": ".py",
   "mimetype": "text/x-python",
   "name": "python",
   "nbconvert_exporter": "python",
   "pygments_lexer": "ipython3",
   "version": "3.7.0"
  }
 },
 "nbformat": 4,
 "nbformat_minor": 1
}
